{
 "cells": [
  {
   "cell_type": "code",
   "execution_count": 1,
   "id": "152d2517",
   "metadata": {
    "execution": {
     "iopub.execute_input": "2024-03-17T06:49:30.589125Z",
     "iopub.status.busy": "2024-03-17T06:49:30.588722Z",
     "iopub.status.idle": "2024-03-17T06:49:32.357132Z",
     "shell.execute_reply": "2024-03-17T06:49:32.356233Z"
    },
    "papermill": {
     "duration": 1.777207,
     "end_time": "2024-03-17T06:49:32.359547",
     "exception": false,
     "start_time": "2024-03-17T06:49:30.582340",
     "status": "completed"
    },
    "tags": []
   },
   "outputs": [],
   "source": [
    "import pandas as pd\n",
    "import numpy as np\n",
    "import os\n",
    "from tqdm import tqdm\n",
    "import warnings\n",
    "warnings.filterwarnings('ignore')\n",
    "from sklearn.preprocessing import QuantileTransformer\n",
    "scaler = QuantileTransformer(output_distribution='uniform')"
   ]
  },
  {
   "cell_type": "code",
   "execution_count": 2,
   "id": "5a1691f6",
   "metadata": {
    "execution": {
     "iopub.execute_input": "2024-03-17T06:49:32.370643Z",
     "iopub.status.busy": "2024-03-17T06:49:32.370189Z",
     "iopub.status.idle": "2024-03-17T06:49:32.374275Z",
     "shell.execute_reply": "2024-03-17T06:49:32.373521Z"
    },
    "papermill": {
     "duration": 0.011613,
     "end_time": "2024-03-17T06:49:32.376199",
     "exception": false,
     "start_time": "2024-03-17T06:49:32.364586",
     "status": "completed"
    },
    "tags": []
   },
   "outputs": [],
   "source": [
    "DATASET_DIRECTORY = '/kaggle/input/unb-cic-iot-dataset/wataiData/csv/CICIoT2023/'"
   ]
  },
  {
   "cell_type": "code",
   "execution_count": 3,
   "id": "d6eab7e2",
   "metadata": {
    "execution": {
     "iopub.execute_input": "2024-03-17T06:49:32.386283Z",
     "iopub.status.busy": "2024-03-17T06:49:32.386020Z",
     "iopub.status.idle": "2024-03-17T06:49:32.428840Z",
     "shell.execute_reply": "2024-03-17T06:49:32.428137Z"
    },
    "papermill": {
     "duration": 0.050043,
     "end_time": "2024-03-17T06:49:32.430848",
     "exception": false,
     "start_time": "2024-03-17T06:49:32.380805",
     "status": "completed"
    },
    "tags": []
   },
   "outputs": [],
   "source": [
    "df_sets = [k for k in os.listdir(DATASET_DIRECTORY) if k.endswith('.csv')]\n",
    "df_sets.sort()\n",
    "training_sets = df_sets[:int(len(df_sets)*.67)]\n",
    "test_sets = df_sets[int(len(df_sets)*.67):]"
   ]
  },
  {
   "cell_type": "code",
   "execution_count": 4,
   "id": "592ad895",
   "metadata": {
    "execution": {
     "iopub.execute_input": "2024-03-17T06:49:32.441176Z",
     "iopub.status.busy": "2024-03-17T06:49:32.440894Z",
     "iopub.status.idle": "2024-03-17T06:49:32.446637Z",
     "shell.execute_reply": "2024-03-17T06:49:32.445780Z"
    },
    "papermill": {
     "duration": 0.013087,
     "end_time": "2024-03-17T06:49:32.448614",
     "exception": false,
     "start_time": "2024-03-17T06:49:32.435527",
     "status": "completed"
    },
    "tags": []
   },
   "outputs": [],
   "source": [
    "X_columns = [\n",
    "    'flow_duration', 'Header_Length', 'Protocol Type', 'Duration',\n",
    "    'Rate', 'Srate', 'Drate', 'fin_flag_number', 'syn_flag_number',\n",
    "    'rst_flag_number', 'psh_flag_number', 'ack_flag_number',\n",
    "    'ece_flag_number', 'cwr_flag_number', 'ack_count',\n",
    "    'syn_count', 'fin_count', 'urg_count', 'rst_count', \n",
    "    'HTTP', 'HTTPS', 'DNS', 'Telnet', 'SMTP', 'SSH', 'IRC', 'TCP',\n",
    "    'UDP', 'DHCP', 'ARP', 'ICMP', 'IPv', 'LLC', 'Tot sum', 'Min',\n",
    "    'Max', 'AVG', 'Std', 'Tot size', 'IAT', 'Number', 'Magnitue',\n",
    "    'Radius', 'Covariance', 'Variance', 'Weight', \n",
    "]\n",
    "y_column = 'label'"
   ]
  },
  {
   "cell_type": "code",
   "execution_count": 5,
   "id": "fdabadb2",
   "metadata": {
    "execution": {
     "iopub.execute_input": "2024-03-17T06:49:32.458662Z",
     "iopub.status.busy": "2024-03-17T06:49:32.458349Z",
     "iopub.status.idle": "2024-03-17T06:49:44.093251Z",
     "shell.execute_reply": "2024-03-17T06:49:44.091658Z"
    },
    "papermill": {
     "duration": 11.642637,
     "end_time": "2024-03-17T06:49:44.095874",
     "exception": false,
     "start_time": "2024-03-17T06:49:32.453237",
     "status": "completed"
    },
    "tags": []
   },
   "outputs": [
    {
     "name": "stderr",
     "output_type": "stream",
     "text": [
      "2024-03-17 06:49:34.299625: E external/local_xla/xla/stream_executor/cuda/cuda_dnn.cc:9261] Unable to register cuDNN factory: Attempting to register factory for plugin cuDNN when one has already been registered\n",
      "2024-03-17 06:49:34.299721: E external/local_xla/xla/stream_executor/cuda/cuda_fft.cc:607] Unable to register cuFFT factory: Attempting to register factory for plugin cuFFT when one has already been registered\n",
      "2024-03-17 06:49:34.436868: E external/local_xla/xla/stream_executor/cuda/cuda_blas.cc:1515] Unable to register cuBLAS factory: Attempting to register factory for plugin cuBLAS when one has already been registered\n"
     ]
    }
   ],
   "source": [
    "import tensorflow as tf\n",
    "from tensorflow.keras.models import Sequential\n",
    "from tensorflow.keras.layers import Conv1D, MaxPooling1D, Flatten, Dense, Dropout\n",
    "def build_CNN_model(input_shape):\n",
    "    model = Sequential([\n",
    "        Conv1D(32, 3, activation='relu', input_shape=input_shape),\n",
    "        MaxPooling1D(2),\n",
    "        Conv1D(64, 3, activation='relu'),\n",
    "        MaxPooling1D(2),\n",
    "        Flatten(),\n",
    "        Dense(128, activation='relu'),\n",
    "        Dropout(0.5),\n",
    "        Dense(34, activation='softmax')  # Output layer with softmax activation for multiclass\n",
    "    ])\n",
    "    model.compile(optimizer='adam', loss='sparse_categorical_crossentropy', metrics=['accuracy'])\n",
    "    return model"
   ]
  },
  {
   "cell_type": "code",
   "execution_count": 6,
   "id": "91287b46",
   "metadata": {
    "execution": {
     "iopub.execute_input": "2024-03-17T06:49:44.108792Z",
     "iopub.status.busy": "2024-03-17T06:49:44.107637Z",
     "iopub.status.idle": "2024-03-17T06:49:44.971192Z",
     "shell.execute_reply": "2024-03-17T06:49:44.970448Z"
    },
    "papermill": {
     "duration": 0.871933,
     "end_time": "2024-03-17T06:49:44.973368",
     "exception": false,
     "start_time": "2024-03-17T06:49:44.101435",
     "status": "completed"
    },
    "tags": []
   },
   "outputs": [],
   "source": [
    "DL_models = [\n",
    "        build_CNN_model(input_shape=(len(X_columns),1))\n",
    "            ]\n"
   ]
  },
  {
   "cell_type": "code",
   "execution_count": 7,
   "id": "430a046d",
   "metadata": {
    "execution": {
     "iopub.execute_input": "2024-03-17T06:49:44.984066Z",
     "iopub.status.busy": "2024-03-17T06:49:44.983767Z",
     "iopub.status.idle": "2024-03-17T06:49:44.987731Z",
     "shell.execute_reply": "2024-03-17T06:49:44.986941Z"
    },
    "papermill": {
     "duration": 0.011471,
     "end_time": "2024-03-17T06:49:44.989651",
     "exception": false,
     "start_time": "2024-03-17T06:49:44.978180",
     "status": "completed"
    },
    "tags": []
   },
   "outputs": [],
   "source": [
    "DL_names = [\n",
    "        \"CNN\",\n",
    "]"
   ]
  },
  {
   "cell_type": "code",
   "execution_count": 8,
   "id": "74ec60bc",
   "metadata": {
    "execution": {
     "iopub.execute_input": "2024-03-17T06:49:45.000700Z",
     "iopub.status.busy": "2024-03-17T06:49:45.000395Z",
     "iopub.status.idle": "2024-03-17T08:08:45.413040Z",
     "shell.execute_reply": "2024-03-17T08:08:45.411875Z"
    },
    "papermill": {
     "duration": 4740.42076,
     "end_time": "2024-03-17T08:08:45.415769",
     "exception": false,
     "start_time": "2024-03-17T06:49:44.995009",
     "status": "completed"
    },
    "tags": []
   },
   "outputs": [
    {
     "name": "stderr",
     "output_type": "stream",
     "text": [
      "  0%|          | 0/113 [00:00<?, ?it/s]"
     ]
    },
    {
     "name": "stdout",
     "output_type": "stream",
     "text": [
      "Epoch 1/3\n",
      "\u001b[1m  84/4177\u001b[0m \u001b[37m━━━━━━━━━━━━━━━━━━━━\u001b[0m \u001b[1m7s\u001b[0m 2ms/step - accuracy: 0.2818 - loss: 2.8118"
     ]
    },
    {
     "name": "stderr",
     "output_type": "stream",
     "text": [
      "WARNING: All log messages before absl::InitializeLog() is called are written to STDERR\n",
      "I0000 00:00:1710658193.559860      73 device_compiler.h:186] Compiled cluster using XLA!  This line is logged at most once for the lifetime of the process.\n",
      "W0000 00:00:1710658193.578733      73 graph_launch.cc:671] Fallback to op-by-op mode because memset node breaks graph update\n"
     ]
    },
    {
     "name": "stdout",
     "output_type": "stream",
     "text": [
      "\u001b[1m4173/4177\u001b[0m \u001b[32m━━━━━━━━━━━━━━━━━━━\u001b[0m\u001b[37m━\u001b[0m \u001b[1m0s\u001b[0m 2ms/step - accuracy: 0.8258 - loss: 0.5724"
     ]
    },
    {
     "name": "stderr",
     "output_type": "stream",
     "text": [
      "W0000 00:00:1710658202.178305      74 graph_launch.cc:671] Fallback to op-by-op mode because memset node breaks graph update\n"
     ]
    },
    {
     "name": "stdout",
     "output_type": "stream",
     "text": [
      "\u001b[1m4177/4177\u001b[0m \u001b[32m━━━━━━━━━━━━━━━━━━━━\u001b[0m\u001b[37m\u001b[0m \u001b[1m17s\u001b[0m 3ms/step - accuracy: 0.8260 - loss: 0.5721 - val_accuracy: 0.9601 - val_loss: 0.1120\n",
      "Epoch 2/3\n",
      "\u001b[1m  81/4177\u001b[0m \u001b[37m━━━━━━━━━━━━━━━━━━━━\u001b[0m \u001b[1m7s\u001b[0m 2ms/step - accuracy: 0.9619 - loss: 0.1161"
     ]
    },
    {
     "name": "stderr",
     "output_type": "stream",
     "text": [
      "W0000 00:00:1710658205.296260      72 graph_launch.cc:671] Fallback to op-by-op mode because memset node breaks graph update\n"
     ]
    },
    {
     "name": "stdout",
     "output_type": "stream",
     "text": [
      "\u001b[1m4177/4177\u001b[0m \u001b[32m━━━━━━━━━━━━━━━━━━━━\u001b[0m\u001b[37m\u001b[0m \u001b[1m11s\u001b[0m 3ms/step - accuracy: 0.9584 - loss: 0.1232 - val_accuracy: 0.9654 - val_loss: 0.0968\n",
      "Epoch 3/3\n",
      "\u001b[1m4177/4177\u001b[0m \u001b[32m━━━━━━━━━━━━━━━━━━━━\u001b[0m\u001b[37m\u001b[0m \u001b[1m11s\u001b[0m 3ms/step - accuracy: 0.9625 - loss: 0.1036 - val_accuracy: 0.9673 - val_loss: 0.0891\n"
     ]
    },
    {
     "name": "stderr",
     "output_type": "stream",
     "text": [
      "  1%|          | 1/113 [00:41<1:17:10, 41.34s/it]"
     ]
    },
    {
     "name": "stdout",
     "output_type": "stream",
     "text": [
      "Epoch 1/3\n",
      "\u001b[1m  81/3830\u001b[0m \u001b[37m━━━━━━━━━━━━━━━━━━━━\u001b[0m \u001b[1m7s\u001b[0m 2ms/step - accuracy: 0.9542 - loss: 0.1157"
     ]
    },
    {
     "name": "stderr",
     "output_type": "stream",
     "text": [
      "W0000 00:00:1710658231.666077      73 graph_launch.cc:671] Fallback to op-by-op mode because memset node breaks graph update\n"
     ]
    },
    {
     "name": "stdout",
     "output_type": "stream",
     "text": [
      "\u001b[1m3830/3830\u001b[0m \u001b[32m━━━━━━━━━━━━━━━━━━━━\u001b[0m\u001b[37m\u001b[0m \u001b[1m15s\u001b[0m 3ms/step - accuracy: 0.9635 - loss: 0.0981 - val_accuracy: 0.9680 - val_loss: 0.0823\n",
      "Epoch 2/3\n",
      "\u001b[1m3830/3830\u001b[0m \u001b[32m━━━━━━━━━━━━━━━━━━━━\u001b[0m\u001b[37m\u001b[0m \u001b[1m10s\u001b[0m 2ms/step - accuracy: 0.9666 - loss: 0.0907 - val_accuracy: 0.9740 - val_loss: 0.0750\n",
      "Epoch 3/3\n",
      "\u001b[1m3830/3830\u001b[0m \u001b[32m━━━━━━━━━━━━━━━━━━━━\u001b[0m\u001b[37m\u001b[0m \u001b[1m10s\u001b[0m 3ms/step - accuracy: 0.9702 - loss: 0.0832 - val_accuracy: 0.9742 - val_loss: 0.0691\n"
     ]
    },
    {
     "name": "stderr",
     "output_type": "stream",
     "text": [
      "  2%|▏         | 2/113 [01:18<1:12:15, 39.06s/it]"
     ]
    },
    {
     "name": "stdout",
     "output_type": "stream",
     "text": [
      "Epoch 1/3\n",
      "\u001b[1m4817/4817\u001b[0m \u001b[32m━━━━━━━━━━━━━━━━━━━━\u001b[0m\u001b[37m\u001b[0m \u001b[1m13s\u001b[0m 3ms/step - accuracy: 0.9757 - loss: 0.0773 - val_accuracy: 0.9799 - val_loss: 0.0604\n",
      "Epoch 2/3\n",
      "\u001b[1m  81/4817\u001b[0m \u001b[37m━━━━━━━━━━━━━━━━━━━━\u001b[0m \u001b[1m9s\u001b[0m 2ms/step - accuracy: 0.9759 - loss: 0.0722"
     ]
    },
    {
     "name": "stderr",
     "output_type": "stream",
     "text": [
      "W0000 00:00:1710658280.321016      75 graph_launch.cc:671] Fallback to op-by-op mode because memset node breaks graph update\n"
     ]
    },
    {
     "name": "stdout",
     "output_type": "stream",
     "text": [
      "\u001b[1m4817/4817\u001b[0m \u001b[32m━━━━━━━━━━━━━━━━━━━━\u001b[0m\u001b[37m\u001b[0m \u001b[1m12s\u001b[0m 3ms/step - accuracy: 0.9788 - loss: 0.0700 - val_accuracy: 0.9826 - val_loss: 0.0535\n",
      "Epoch 3/3\n",
      "\u001b[1m4817/4817\u001b[0m \u001b[32m━━━━━━━━━━━━━━━━━━━━\u001b[0m\u001b[37m\u001b[0m \u001b[1m13s\u001b[0m 3ms/step - accuracy: 0.9797 - loss: 0.0655 - val_accuracy: 0.9849 - val_loss: 0.0482\n"
     ]
    },
    {
     "name": "stderr",
     "output_type": "stream",
     "text": [
      "  3%|▎         | 3/113 [02:07<1:20:01, 43.65s/it]"
     ]
    },
    {
     "name": "stdout",
     "output_type": "stream",
     "text": [
      "Epoch 1/3\n",
      "\u001b[1m4043/4043\u001b[0m \u001b[32m━━━━━━━━━━━━━━━━━━━━\u001b[0m\u001b[37m\u001b[0m \u001b[1m14s\u001b[0m 3ms/step - accuracy: 0.9763 - loss: 0.0754 - val_accuracy: 0.9830 - val_loss: 0.0517\n",
      "Epoch 2/3\n",
      "\u001b[1m4043/4043\u001b[0m \u001b[32m━━━━━━━━━━━━━━━━━━━━\u001b[0m\u001b[37m\u001b[0m \u001b[1m10s\u001b[0m 3ms/step - accuracy: 0.9812 - loss: 0.0618 - val_accuracy: 0.9853 - val_loss: 0.0467\n",
      "Epoch 3/3\n",
      "\u001b[1m4043/4043\u001b[0m \u001b[32m━━━━━━━━━━━━━━━━━━━━\u001b[0m\u001b[37m\u001b[0m \u001b[1m10s\u001b[0m 3ms/step - accuracy: 0.9812 - loss: 0.0602 - val_accuracy: 0.9860 - val_loss: 0.0442\n"
     ]
    },
    {
     "name": "stderr",
     "output_type": "stream",
     "text": [
      "  4%|▎         | 4/113 [02:44<1:14:35, 41.06s/it]"
     ]
    },
    {
     "name": "stdout",
     "output_type": "stream",
     "text": [
      "Epoch 1/3\n",
      "\u001b[1m3982/3982\u001b[0m \u001b[32m━━━━━━━━━━━━━━━━━━━━\u001b[0m\u001b[37m\u001b[0m \u001b[1m11s\u001b[0m 3ms/step - accuracy: 0.9808 - loss: 0.0621 - val_accuracy: 0.9864 - val_loss: 0.0458\n",
      "Epoch 2/3\n",
      "\u001b[1m  81/3982\u001b[0m \u001b[37m━━━━━━━━━━━━━━━━━━━━\u001b[0m \u001b[1m7s\u001b[0m 2ms/step - accuracy: 0.9850 - loss: 0.0529"
     ]
    },
    {
     "name": "stderr",
     "output_type": "stream",
     "text": [
      "W0000 00:00:1710658363.833448      72 graph_launch.cc:671] Fallback to op-by-op mode because memset node breaks graph update\n"
     ]
    },
    {
     "name": "stdout",
     "output_type": "stream",
     "text": [
      "\u001b[1m3982/3982\u001b[0m \u001b[32m━━━━━━━━━━━━━━━━━━━━\u001b[0m\u001b[37m\u001b[0m \u001b[1m10s\u001b[0m 3ms/step - accuracy: 0.9817 - loss: 0.0602 - val_accuracy: 0.9866 - val_loss: 0.0435\n",
      "Epoch 3/3\n",
      "\u001b[1m3982/3982\u001b[0m \u001b[32m━━━━━━━━━━━━━━━━━━━━\u001b[0m\u001b[37m\u001b[0m \u001b[1m10s\u001b[0m 3ms/step - accuracy: 0.9828 - loss: 0.0561 - val_accuracy: 0.9790 - val_loss: 0.0797\n"
     ]
    },
    {
     "name": "stderr",
     "output_type": "stream",
     "text": [
      "  4%|▍         | 5/113 [03:19<1:09:21, 38.53s/it]"
     ]
    },
    {
     "name": "stdout",
     "output_type": "stream",
     "text": [
      "Epoch 1/3\n",
      "\u001b[1m4201/4201\u001b[0m \u001b[32m━━━━━━━━━━━━━━━━━━━━\u001b[0m\u001b[37m\u001b[0m \u001b[1m14s\u001b[0m 3ms/step - accuracy: 0.9830 - loss: 0.0566 - val_accuracy: 0.9863 - val_loss: 0.0451\n",
      "Epoch 2/3\n",
      "\u001b[1m4201/4201\u001b[0m \u001b[32m━━━━━━━━━━━━━━━━━━━━\u001b[0m\u001b[37m\u001b[0m \u001b[1m11s\u001b[0m 3ms/step - accuracy: 0.9825 - loss: 0.0558 - val_accuracy: 0.9852 - val_loss: 0.0468\n",
      "Epoch 3/3\n",
      "\u001b[1m4201/4201\u001b[0m \u001b[32m━━━━━━━━━━━━━━━━━━━━\u001b[0m\u001b[37m\u001b[0m \u001b[1m11s\u001b[0m 3ms/step - accuracy: 0.9835 - loss: 0.0528 - val_accuracy: 0.9863 - val_loss: 0.0452\n"
     ]
    },
    {
     "name": "stderr",
     "output_type": "stream",
     "text": [
      "  5%|▌         | 6/113 [03:57<1:08:48, 38.59s/it]"
     ]
    },
    {
     "name": "stdout",
     "output_type": "stream",
     "text": [
      "Epoch 1/3\n",
      "\u001b[1m4092/4092\u001b[0m \u001b[32m━━━━━━━━━━━━━━━━━━━━\u001b[0m\u001b[37m\u001b[0m \u001b[1m13s\u001b[0m 3ms/step - accuracy: 0.9809 - loss: 0.0630 - val_accuracy: 0.9860 - val_loss: 0.0452\n",
      "Epoch 2/3\n",
      "\u001b[1m4092/4092\u001b[0m \u001b[32m━━━━━━━━━━━━━━━━━━━━\u001b[0m\u001b[37m\u001b[0m \u001b[1m10s\u001b[0m 3ms/step - accuracy: 0.9834 - loss: 0.0526 - val_accuracy: 0.9861 - val_loss: 0.0449\n",
      "Epoch 3/3\n",
      "\u001b[1m4092/4092\u001b[0m \u001b[32m━━━━━━━━━━━━━━━━━━━━\u001b[0m\u001b[37m\u001b[0m \u001b[1m11s\u001b[0m 3ms/step - accuracy: 0.9838 - loss: 0.0503 - val_accuracy: 0.9859 - val_loss: 0.0457\n"
     ]
    },
    {
     "name": "stderr",
     "output_type": "stream",
     "text": [
      "  6%|▌         | 7/113 [04:35<1:07:24, 38.16s/it]"
     ]
    },
    {
     "name": "stdout",
     "output_type": "stream",
     "text": [
      "Epoch 1/3\n",
      "\u001b[1m3989/3989\u001b[0m \u001b[32m━━━━━━━━━━━━━━━━━━━━\u001b[0m\u001b[37m\u001b[0m \u001b[1m14s\u001b[0m 3ms/step - accuracy: 0.9834 - loss: 0.0538 - val_accuracy: 0.9854 - val_loss: 0.0451\n",
      "Epoch 2/3\n",
      "\u001b[1m3989/3989\u001b[0m \u001b[32m━━━━━━━━━━━━━━━━━━━━\u001b[0m\u001b[37m\u001b[0m \u001b[1m10s\u001b[0m 3ms/step - accuracy: 0.9841 - loss: 0.0508 - val_accuracy: 0.9849 - val_loss: 0.0469\n",
      "Epoch 3/3\n",
      "\u001b[1m3989/3989\u001b[0m \u001b[32m━━━━━━━━━━━━━━━━━━━━\u001b[0m\u001b[37m\u001b[0m \u001b[1m10s\u001b[0m 3ms/step - accuracy: 0.9839 - loss: 0.0513 - val_accuracy: 0.9863 - val_loss: 0.0436\n"
     ]
    },
    {
     "name": "stderr",
     "output_type": "stream",
     "text": [
      "  7%|▋         | 8/113 [05:12<1:06:19, 37.90s/it]"
     ]
    },
    {
     "name": "stdout",
     "output_type": "stream",
     "text": [
      "Epoch 1/3\n",
      "\u001b[1m4311/4311\u001b[0m \u001b[32m━━━━━━━━━━━━━━━━━━━━\u001b[0m\u001b[37m\u001b[0m \u001b[1m15s\u001b[0m 4ms/step - accuracy: 0.9848 - loss: 0.0501 - val_accuracy: 0.9869 - val_loss: 0.0419\n",
      "Epoch 2/3\n",
      "\u001b[1m4311/4311\u001b[0m \u001b[32m━━━━━━━━━━━━━━━━━━━━\u001b[0m\u001b[37m\u001b[0m \u001b[1m11s\u001b[0m 2ms/step - accuracy: 0.9845 - loss: 0.0496 - val_accuracy: 0.9865 - val_loss: 0.0420\n",
      "Epoch 3/3\n",
      "\u001b[1m4311/4311\u001b[0m \u001b[32m━━━━━━━━━━━━━━━━━━━━\u001b[0m\u001b[37m\u001b[0m \u001b[1m11s\u001b[0m 3ms/step - accuracy: 0.9848 - loss: 0.0485 - val_accuracy: 0.9867 - val_loss: 0.0463\n"
     ]
    },
    {
     "name": "stderr",
     "output_type": "stream",
     "text": [
      "  8%|▊         | 9/113 [05:52<1:06:58, 38.64s/it]"
     ]
    },
    {
     "name": "stdout",
     "output_type": "stream",
     "text": [
      "Epoch 1/3\n",
      "\u001b[1m3984/3984\u001b[0m \u001b[32m━━━━━━━━━━━━━━━━━━━━\u001b[0m\u001b[37m\u001b[0m \u001b[1m14s\u001b[0m 3ms/step - accuracy: 0.9832 - loss: 0.0546 - val_accuracy: 0.9853 - val_loss: 0.0480\n",
      "Epoch 2/3\n",
      "\u001b[1m3984/3984\u001b[0m \u001b[32m━━━━━━━━━━━━━━━━━━━━\u001b[0m\u001b[37m\u001b[0m \u001b[1m10s\u001b[0m 3ms/step - accuracy: 0.9848 - loss: 0.0484 - val_accuracy: 0.9868 - val_loss: 0.0403\n",
      "Epoch 3/3\n",
      "\u001b[1m3984/3984\u001b[0m \u001b[32m━━━━━━━━━━━━━━━━━━━━\u001b[0m\u001b[37m\u001b[0m \u001b[1m10s\u001b[0m 3ms/step - accuracy: 0.9856 - loss: 0.0465 - val_accuracy: 0.9842 - val_loss: 0.0481\n"
     ]
    },
    {
     "name": "stderr",
     "output_type": "stream",
     "text": [
      "  9%|▉         | 10/113 [06:29<1:05:29, 38.15s/it]"
     ]
    },
    {
     "name": "stdout",
     "output_type": "stream",
     "text": [
      "Epoch 1/3\n",
      "\u001b[1m4400/4400\u001b[0m \u001b[32m━━━━━━━━━━━━━━━━━━━━\u001b[0m\u001b[37m\u001b[0m \u001b[1m14s\u001b[0m 3ms/step - accuracy: 0.9841 - loss: 0.0524 - val_accuracy: 0.9863 - val_loss: 0.0425\n",
      "Epoch 2/3\n",
      "\u001b[1m4400/4400\u001b[0m \u001b[32m━━━━━━━━━━━━━━━━━━━━\u001b[0m\u001b[37m\u001b[0m \u001b[1m11s\u001b[0m 3ms/step - accuracy: 0.9848 - loss: 0.0495 - val_accuracy: 0.9843 - val_loss: 0.0487\n",
      "Epoch 3/3\n",
      "\u001b[1m4400/4400\u001b[0m \u001b[32m━━━━━━━━━━━━━━━━━━━━\u001b[0m\u001b[37m\u001b[0m \u001b[1m12s\u001b[0m 3ms/step - accuracy: 0.9861 - loss: 0.0459 - val_accuracy: 0.9857 - val_loss: 0.0442\n"
     ]
    },
    {
     "name": "stderr",
     "output_type": "stream",
     "text": [
      " 10%|▉         | 11/113 [07:09<1:05:58, 38.81s/it]"
     ]
    },
    {
     "name": "stdout",
     "output_type": "stream",
     "text": [
      "Epoch 1/3\n",
      "\u001b[1m3884/3884\u001b[0m \u001b[32m━━━━━━━━━━━━━━━━━━━━\u001b[0m\u001b[37m\u001b[0m \u001b[1m13s\u001b[0m 3ms/step - accuracy: 0.9832 - loss: 0.0551 - val_accuracy: 0.9873 - val_loss: 0.0417\n",
      "Epoch 2/3\n",
      "\u001b[1m3884/3884\u001b[0m \u001b[32m━━━━━━━━━━━━━━━━━━━━\u001b[0m\u001b[37m\u001b[0m \u001b[1m10s\u001b[0m 3ms/step - accuracy: 0.9850 - loss: 0.0490 - val_accuracy: 0.9857 - val_loss: 0.0431\n",
      "Epoch 3/3\n",
      "\u001b[1m3884/3884\u001b[0m \u001b[32m━━━━━━━━━━━━━━━━━━━━\u001b[0m\u001b[37m\u001b[0m \u001b[1m10s\u001b[0m 3ms/step - accuracy: 0.9844 - loss: 0.0498 - val_accuracy: 0.9872 - val_loss: 0.0406\n"
     ]
    },
    {
     "name": "stderr",
     "output_type": "stream",
     "text": [
      " 11%|█         | 12/113 [07:46<1:04:03, 38.05s/it]"
     ]
    },
    {
     "name": "stdout",
     "output_type": "stream",
     "text": [
      "Epoch 1/3\n",
      "\u001b[1m4174/4174\u001b[0m \u001b[32m━━━━━━━━━━━━━━━━━━━━\u001b[0m\u001b[37m\u001b[0m \u001b[1m14s\u001b[0m 3ms/step - accuracy: 0.9846 - loss: 0.0489 - val_accuracy: 0.9867 - val_loss: 0.0423\n",
      "Epoch 2/3\n",
      "\u001b[1m4174/4174\u001b[0m \u001b[32m━━━━━━━━━━━━━━━━━━━━\u001b[0m\u001b[37m\u001b[0m \u001b[1m11s\u001b[0m 3ms/step - accuracy: 0.9853 - loss: 0.0471 - val_accuracy: 0.9860 - val_loss: 0.0437\n",
      "Epoch 3/3\n",
      "\u001b[1m4174/4174\u001b[0m \u001b[32m━━━━━━━━━━━━━━━━━━━━\u001b[0m\u001b[37m\u001b[0m \u001b[1m11s\u001b[0m 3ms/step - accuracy: 0.9859 - loss: 0.0440 - val_accuracy: 0.9867 - val_loss: 0.0428\n"
     ]
    },
    {
     "name": "stderr",
     "output_type": "stream",
     "text": [
      " 12%|█▏        | 13/113 [08:24<1:03:36, 38.16s/it]"
     ]
    },
    {
     "name": "stdout",
     "output_type": "stream",
     "text": [
      "Epoch 1/3\n",
      "\u001b[1m4179/4179\u001b[0m \u001b[32m━━━━━━━━━━━━━━━━━━━━\u001b[0m\u001b[37m\u001b[0m \u001b[1m14s\u001b[0m 3ms/step - accuracy: 0.9853 - loss: 0.0505 - val_accuracy: 0.9862 - val_loss: 0.0434\n",
      "Epoch 2/3\n",
      "\u001b[1m4179/4179\u001b[0m \u001b[32m━━━━━━━━━━━━━━━━━━━━\u001b[0m\u001b[37m\u001b[0m \u001b[1m11s\u001b[0m 3ms/step - accuracy: 0.9860 - loss: 0.0456 - val_accuracy: 0.9835 - val_loss: 0.0496\n",
      "Epoch 3/3\n",
      "\u001b[1m4179/4179\u001b[0m \u001b[32m━━━━━━━━━━━━━━━━━━━━\u001b[0m\u001b[37m\u001b[0m \u001b[1m11s\u001b[0m 3ms/step - accuracy: 0.9865 - loss: 0.0433 - val_accuracy: 0.9870 - val_loss: 0.0400\n"
     ]
    },
    {
     "name": "stderr",
     "output_type": "stream",
     "text": [
      " 12%|█▏        | 14/113 [09:03<1:03:12, 38.31s/it]"
     ]
    },
    {
     "name": "stdout",
     "output_type": "stream",
     "text": [
      "Epoch 1/3\n",
      "\u001b[1m3778/3778\u001b[0m \u001b[32m━━━━━━━━━━━━━━━━━━━━\u001b[0m\u001b[37m\u001b[0m \u001b[1m13s\u001b[0m 3ms/step - accuracy: 0.9859 - loss: 0.0443 - val_accuracy: 0.9860 - val_loss: 0.0434\n",
      "Epoch 2/3\n",
      "\u001b[1m3778/3778\u001b[0m \u001b[32m━━━━━━━━━━━━━━━━━━━━\u001b[0m\u001b[37m\u001b[0m \u001b[1m10s\u001b[0m 3ms/step - accuracy: 0.9856 - loss: 0.0462 - val_accuracy: 0.9861 - val_loss: 0.0457\n",
      "Epoch 3/3\n",
      "\u001b[1m3778/3778\u001b[0m \u001b[32m━━━━━━━━━━━━━━━━━━━━\u001b[0m\u001b[37m\u001b[0m \u001b[1m9s\u001b[0m 2ms/step - accuracy: 0.9858 - loss: 0.0438 - val_accuracy: 0.9866 - val_loss: 0.0422\n"
     ]
    },
    {
     "name": "stderr",
     "output_type": "stream",
     "text": [
      " 13%|█▎        | 15/113 [09:37<1:00:42, 37.17s/it]"
     ]
    },
    {
     "name": "stdout",
     "output_type": "stream",
     "text": [
      "Epoch 1/3\n",
      "\u001b[1m4702/4702\u001b[0m \u001b[32m━━━━━━━━━━━━━━━━━━━━\u001b[0m\u001b[37m\u001b[0m \u001b[1m13s\u001b[0m 3ms/step - accuracy: 0.9845 - loss: 0.0495 - val_accuracy: 0.9873 - val_loss: 0.0398\n",
      "Epoch 2/3\n",
      "\u001b[1m  80/4702\u001b[0m \u001b[37m━━━━━━━━━━━━━━━━━━━━\u001b[0m \u001b[1m8s\u001b[0m 2ms/step - accuracy: 0.9869 - loss: 0.0387"
     ]
    },
    {
     "name": "stderr",
     "output_type": "stream",
     "text": [
      "W0000 00:00:1710658779.192877      73 graph_launch.cc:671] Fallback to op-by-op mode because memset node breaks graph update\n"
     ]
    },
    {
     "name": "stdout",
     "output_type": "stream",
     "text": [
      "\u001b[1m4702/4702\u001b[0m \u001b[32m━━━━━━━━━━━━━━━━━━━━\u001b[0m\u001b[37m\u001b[0m \u001b[1m12s\u001b[0m 3ms/step - accuracy: 0.9854 - loss: 0.0459 - val_accuracy: 0.9813 - val_loss: 0.0609\n",
      "Epoch 3/3\n",
      "\u001b[1m4702/4702\u001b[0m \u001b[32m━━━━━━━━━━━━━━━━━━━━\u001b[0m\u001b[37m\u001b[0m \u001b[1m12s\u001b[0m 3ms/step - accuracy: 0.9859 - loss: 0.0461 - val_accuracy: 0.9868 - val_loss: 0.0410\n"
     ]
    },
    {
     "name": "stderr",
     "output_type": "stream",
     "text": [
      " 14%|█▍        | 16/113 [10:18<1:01:41, 38.16s/it]"
     ]
    },
    {
     "name": "stdout",
     "output_type": "stream",
     "text": [
      "Epoch 1/3\n",
      "\u001b[1m4076/4076\u001b[0m \u001b[32m━━━━━━━━━━━━━━━━━━━━\u001b[0m\u001b[37m\u001b[0m \u001b[1m14s\u001b[0m 3ms/step - accuracy: 0.9850 - loss: 0.0478 - val_accuracy: 0.9859 - val_loss: 0.0429\n",
      "Epoch 2/3\n",
      "\u001b[1m  82/4076\u001b[0m \u001b[37m━━━━━━━━━━━━━━━━━━━━\u001b[0m \u001b[1m7s\u001b[0m 2ms/step - accuracy: 0.9910 - loss: 0.0392"
     ]
    },
    {
     "name": "stderr",
     "output_type": "stream",
     "text": [
      "W0000 00:00:1710658820.539773      74 graph_launch.cc:671] Fallback to op-by-op mode because memset node breaks graph update\n"
     ]
    },
    {
     "name": "stdout",
     "output_type": "stream",
     "text": [
      "\u001b[1m4076/4076\u001b[0m \u001b[32m━━━━━━━━━━━━━━━━━━━━\u001b[0m\u001b[37m\u001b[0m \u001b[1m11s\u001b[0m 3ms/step - accuracy: 0.9862 - loss: 0.0453 - val_accuracy: 0.9857 - val_loss: 0.0429\n",
      "Epoch 3/3\n",
      "\u001b[1m4076/4076\u001b[0m \u001b[32m━━━━━━━━━━━━━━━━━━━━\u001b[0m\u001b[37m\u001b[0m \u001b[1m10s\u001b[0m 3ms/step - accuracy: 0.9855 - loss: 0.0462 - val_accuracy: 0.9864 - val_loss: 0.0415\n"
     ]
    },
    {
     "name": "stderr",
     "output_type": "stream",
     "text": [
      " 15%|█▌        | 17/113 [10:56<1:01:04, 38.17s/it]"
     ]
    },
    {
     "name": "stdout",
     "output_type": "stream",
     "text": [
      "Epoch 1/3\n",
      "\u001b[1m3911/3911\u001b[0m \u001b[32m━━━━━━━━━━━━━━━━━━━━\u001b[0m\u001b[37m\u001b[0m \u001b[1m13s\u001b[0m 3ms/step - accuracy: 0.9852 - loss: 0.0484 - val_accuracy: 0.9837 - val_loss: 0.0466\n",
      "Epoch 2/3\n",
      "\u001b[1m  79/3911\u001b[0m \u001b[37m━━━━━━━━━━━━━━━━━━━━\u001b[0m \u001b[1m7s\u001b[0m 2ms/step - accuracy: 0.9829 - loss: 0.0516"
     ]
    },
    {
     "name": "stderr",
     "output_type": "stream",
     "text": [
      "W0000 00:00:1710658857.852237      72 graph_launch.cc:671] Fallback to op-by-op mode because memset node breaks graph update\n"
     ]
    },
    {
     "name": "stdout",
     "output_type": "stream",
     "text": [
      "\u001b[1m3911/3911\u001b[0m \u001b[32m━━━━━━━━━━━━━━━━━━━━\u001b[0m\u001b[37m\u001b[0m \u001b[1m10s\u001b[0m 3ms/step - accuracy: 0.9857 - loss: 0.0460 - val_accuracy: 0.9876 - val_loss: 0.0391\n",
      "Epoch 3/3\n",
      "\u001b[1m3911/3911\u001b[0m \u001b[32m━━━━━━━━━━━━━━━━━━━━\u001b[0m\u001b[37m\u001b[0m \u001b[1m10s\u001b[0m 3ms/step - accuracy: 0.9860 - loss: 0.0462 - val_accuracy: 0.9822 - val_loss: 0.0513\n"
     ]
    },
    {
     "name": "stderr",
     "output_type": "stream",
     "text": [
      " 16%|█▌        | 18/113 [11:33<59:43, 37.73s/it]  "
     ]
    },
    {
     "name": "stdout",
     "output_type": "stream",
     "text": [
      "Epoch 1/3\n",
      "\u001b[1m4103/4103\u001b[0m \u001b[32m━━━━━━━━━━━━━━━━━━━━\u001b[0m\u001b[37m\u001b[0m \u001b[1m14s\u001b[0m 4ms/step - accuracy: 0.9831 - loss: 0.0559 - val_accuracy: 0.9863 - val_loss: 0.0444\n",
      "Epoch 2/3\n",
      "\u001b[1m4103/4103\u001b[0m \u001b[32m━━━━━━━━━━━━━━━━━━━━\u001b[0m\u001b[37m\u001b[0m \u001b[1m11s\u001b[0m 3ms/step - accuracy: 0.9854 - loss: 0.0467 - val_accuracy: 0.9874 - val_loss: 0.0395\n",
      "Epoch 3/3\n",
      "\u001b[1m4103/4103\u001b[0m \u001b[32m━━━━━━━━━━━━━━━━━━━━\u001b[0m\u001b[37m\u001b[0m \u001b[1m11s\u001b[0m 3ms/step - accuracy: 0.9852 - loss: 0.0464 - val_accuracy: 0.9871 - val_loss: 0.0406\n"
     ]
    },
    {
     "name": "stderr",
     "output_type": "stream",
     "text": [
      " 17%|█▋        | 19/113 [12:11<59:34, 38.03s/it]"
     ]
    },
    {
     "name": "stdout",
     "output_type": "stream",
     "text": [
      "Epoch 1/3\n",
      "\u001b[1m4044/4044\u001b[0m \u001b[32m━━━━━━━━━━━━━━━━━━━━\u001b[0m\u001b[37m\u001b[0m \u001b[1m15s\u001b[0m 4ms/step - accuracy: 0.9849 - loss: 0.0486 - val_accuracy: 0.9869 - val_loss: 0.0433\n",
      "Epoch 2/3\n",
      "\u001b[1m  68/4044\u001b[0m \u001b[37m━━━━━━━━━━━━━━━━━━━━\u001b[0m \u001b[1m9s\u001b[0m 2ms/step - accuracy: 0.9855 - loss: 0.0502"
     ]
    },
    {
     "name": "stderr",
     "output_type": "stream",
     "text": [
      "W0000 00:00:1710658934.942443      73 graph_launch.cc:671] Fallback to op-by-op mode because memset node breaks graph update\n"
     ]
    },
    {
     "name": "stdout",
     "output_type": "stream",
     "text": [
      "\u001b[1m4044/4044\u001b[0m \u001b[32m━━━━━━━━━━━━━━━━━━━━\u001b[0m\u001b[37m\u001b[0m \u001b[1m10s\u001b[0m 3ms/step - accuracy: 0.9854 - loss: 0.0477 - val_accuracy: 0.9853 - val_loss: 0.0444\n",
      "Epoch 3/3\n",
      "\u001b[1m4044/4044\u001b[0m \u001b[32m━━━━━━━━━━━━━━━━━━━━\u001b[0m\u001b[37m\u001b[0m \u001b[1m11s\u001b[0m 3ms/step - accuracy: 0.9864 - loss: 0.0442 - val_accuracy: 0.9847 - val_loss: 0.0440\n"
     ]
    },
    {
     "name": "stderr",
     "output_type": "stream",
     "text": [
      " 18%|█▊        | 20/113 [12:50<59:22, 38.31s/it]"
     ]
    },
    {
     "name": "stdout",
     "output_type": "stream",
     "text": [
      "Epoch 1/3\n",
      "\u001b[1m4151/4151\u001b[0m \u001b[32m━━━━━━━━━━━━━━━━━━━━\u001b[0m\u001b[37m\u001b[0m \u001b[1m13s\u001b[0m 3ms/step - accuracy: 0.9852 - loss: 0.0470 - val_accuracy: 0.9874 - val_loss: 0.0385\n",
      "Epoch 2/3\n",
      "\u001b[1m4151/4151\u001b[0m \u001b[32m━━━━━━━━━━━━━━━━━━━━\u001b[0m\u001b[37m\u001b[0m \u001b[1m11s\u001b[0m 3ms/step - accuracy: 0.9864 - loss: 0.0450 - val_accuracy: 0.9874 - val_loss: 0.0401\n",
      "Epoch 3/3\n",
      "\u001b[1m4151/4151\u001b[0m \u001b[32m━━━━━━━━━━━━━━━━━━━━\u001b[0m\u001b[37m\u001b[0m \u001b[1m11s\u001b[0m 3ms/step - accuracy: 0.9862 - loss: 0.0460 - val_accuracy: 0.9876 - val_loss: 0.0378\n"
     ]
    },
    {
     "name": "stderr",
     "output_type": "stream",
     "text": [
      " 19%|█▊        | 21/113 [13:28<58:26, 38.11s/it]"
     ]
    },
    {
     "name": "stdout",
     "output_type": "stream",
     "text": [
      "Epoch 1/3\n",
      "\u001b[1m3910/3910\u001b[0m \u001b[32m━━━━━━━━━━━━━━━━━━━━\u001b[0m\u001b[37m\u001b[0m \u001b[1m13s\u001b[0m 3ms/step - accuracy: 0.9850 - loss: 0.0484 - val_accuracy: 0.9870 - val_loss: 0.0409\n",
      "Epoch 2/3\n",
      "\u001b[1m3910/3910\u001b[0m \u001b[32m━━━━━━━━━━━━━━━━━━━━\u001b[0m\u001b[37m\u001b[0m \u001b[1m10s\u001b[0m 3ms/step - accuracy: 0.9867 - loss: 0.0437 - val_accuracy: 0.9870 - val_loss: 0.0419\n",
      "Epoch 3/3\n",
      "\u001b[1m3910/3910\u001b[0m \u001b[32m━━━━━━━━━━━━━━━━━━━━\u001b[0m\u001b[37m\u001b[0m \u001b[1m10s\u001b[0m 3ms/step - accuracy: 0.9852 - loss: 0.0464 - val_accuracy: 0.9877 - val_loss: 0.0395\n"
     ]
    },
    {
     "name": "stderr",
     "output_type": "stream",
     "text": [
      " 19%|█▉        | 22/113 [14:05<57:09, 37.69s/it]"
     ]
    },
    {
     "name": "stdout",
     "output_type": "stream",
     "text": [
      "Epoch 1/3\n",
      "\u001b[1m4414/4414\u001b[0m \u001b[32m━━━━━━━━━━━━━━━━━━━━\u001b[0m\u001b[37m\u001b[0m \u001b[1m12s\u001b[0m 3ms/step - accuracy: 0.9853 - loss: 0.0478 - val_accuracy: 0.9877 - val_loss: 0.0381\n",
      "Epoch 2/3\n",
      "\u001b[1m4414/4414\u001b[0m \u001b[32m━━━━━━━━━━━━━━━━━━━━\u001b[0m\u001b[37m\u001b[0m \u001b[1m11s\u001b[0m 3ms/step - accuracy: 0.9860 - loss: 0.0458 - val_accuracy: 0.9877 - val_loss: 0.0383\n",
      "Epoch 3/3\n",
      "\u001b[1m4414/4414\u001b[0m \u001b[32m━━━━━━━━━━━━━━━━━━━━\u001b[0m\u001b[37m\u001b[0m \u001b[1m11s\u001b[0m 3ms/step - accuracy: 0.9861 - loss: 0.0448 - val_accuracy: 0.9880 - val_loss: 0.0378\n"
     ]
    },
    {
     "name": "stderr",
     "output_type": "stream",
     "text": [
      " 20%|██        | 23/113 [14:43<56:37, 37.76s/it]"
     ]
    },
    {
     "name": "stdout",
     "output_type": "stream",
     "text": [
      "Epoch 1/3\n",
      "\u001b[1m4587/4587\u001b[0m \u001b[32m━━━━━━━━━━━━━━━━━━━━\u001b[0m\u001b[37m\u001b[0m \u001b[1m12s\u001b[0m 3ms/step - accuracy: 0.9855 - loss: 0.0455 - val_accuracy: 0.9886 - val_loss: 0.0398\n",
      "Epoch 2/3\n",
      "\u001b[1m4587/4587\u001b[0m \u001b[32m━━━━━━━━━━━━━━━━━━━━\u001b[0m\u001b[37m\u001b[0m \u001b[1m12s\u001b[0m 3ms/step - accuracy: 0.9865 - loss: 0.0434 - val_accuracy: 0.9874 - val_loss: 0.0394\n",
      "Epoch 3/3\n",
      "\u001b[1m4587/4587\u001b[0m \u001b[32m━━━━━━━━━━━━━━━━━━━━\u001b[0m\u001b[37m\u001b[0m \u001b[1m12s\u001b[0m 3ms/step - accuracy: 0.9857 - loss: 0.0461 - val_accuracy: 0.9873 - val_loss: 0.0415\n"
     ]
    },
    {
     "name": "stderr",
     "output_type": "stream",
     "text": [
      " 21%|██        | 24/113 [15:22<56:33, 38.13s/it]"
     ]
    },
    {
     "name": "stdout",
     "output_type": "stream",
     "text": [
      "Epoch 1/3\n",
      "\u001b[1m3951/3951\u001b[0m \u001b[32m━━━━━━━━━━━━━━━━━━━━\u001b[0m\u001b[37m\u001b[0m \u001b[1m0s\u001b[0m 3ms/step - accuracy: 0.9859 - loss: 0.0481"
     ]
    },
    {
     "name": "stderr",
     "output_type": "stream",
     "text": [
      "W0000 00:00:1710659120.239889      75 graph_launch.cc:671] Fallback to op-by-op mode because memset node breaks graph update\n"
     ]
    },
    {
     "name": "stdout",
     "output_type": "stream",
     "text": [
      "\u001b[1m3951/3951\u001b[0m \u001b[32m━━━━━━━━━━━━━━━━━━━━\u001b[0m\u001b[37m\u001b[0m \u001b[1m13s\u001b[0m 3ms/step - accuracy: 0.9859 - loss: 0.0481 - val_accuracy: 0.9876 - val_loss: 0.0389\n",
      "Epoch 2/3\n",
      "\u001b[1m3951/3951\u001b[0m \u001b[32m━━━━━━━━━━━━━━━━━━━━\u001b[0m\u001b[37m\u001b[0m \u001b[1m10s\u001b[0m 3ms/step - accuracy: 0.9862 - loss: 0.0458 - val_accuracy: 0.9873 - val_loss: 0.0400\n",
      "Epoch 3/3\n",
      "\u001b[1m3951/3951\u001b[0m \u001b[32m━━━━━━━━━━━━━━━━━━━━\u001b[0m\u001b[37m\u001b[0m \u001b[1m10s\u001b[0m 3ms/step - accuracy: 0.9855 - loss: 0.0468 - val_accuracy: 0.9859 - val_loss: 0.0440\n"
     ]
    },
    {
     "name": "stderr",
     "output_type": "stream",
     "text": [
      " 22%|██▏       | 25/113 [15:58<55:16, 37.69s/it]"
     ]
    },
    {
     "name": "stdout",
     "output_type": "stream",
     "text": [
      "Epoch 1/3\n",
      "\u001b[1m7834/7834\u001b[0m \u001b[32m━━━━━━━━━━━━━━━━━━━━\u001b[0m\u001b[37m\u001b[0m \u001b[1m20s\u001b[0m 3ms/step - accuracy: 0.9852 - loss: 0.0498 - val_accuracy: 0.9857 - val_loss: 0.0437\n",
      "Epoch 2/3\n",
      "\u001b[1m7834/7834\u001b[0m \u001b[32m━━━━━━━━━━━━━━━━━━━━\u001b[0m\u001b[37m\u001b[0m \u001b[1m20s\u001b[0m 3ms/step - accuracy: 0.9856 - loss: 0.0459 - val_accuracy: 0.9868 - val_loss: 0.0403\n",
      "Epoch 3/3\n",
      "\u001b[1m7834/7834\u001b[0m \u001b[32m━━━━━━━━━━━━━━━━━━━━\u001b[0m\u001b[37m\u001b[0m \u001b[1m21s\u001b[0m 3ms/step - accuracy: 0.9855 - loss: 0.0467 - val_accuracy: 0.9876 - val_loss: 0.0391\n"
     ]
    },
    {
     "name": "stderr",
     "output_type": "stream",
     "text": [
      " 23%|██▎       | 26/113 [17:05<1:07:23, 46.48s/it]"
     ]
    },
    {
     "name": "stdout",
     "output_type": "stream",
     "text": [
      "Epoch 1/3\n",
      "\u001b[1m4133/4133\u001b[0m \u001b[32m━━━━━━━━━━━━━━━━━━━━\u001b[0m\u001b[37m\u001b[0m \u001b[1m0s\u001b[0m 3ms/step - accuracy: 0.9859 - loss: 0.0466"
     ]
    },
    {
     "name": "stderr",
     "output_type": "stream",
     "text": [
      "W0000 00:00:1710659225.710223      72 graph_launch.cc:671] Fallback to op-by-op mode because memset node breaks graph update\n"
     ]
    },
    {
     "name": "stdout",
     "output_type": "stream",
     "text": [
      "\u001b[1m4133/4133\u001b[0m \u001b[32m━━━━━━━━━━━━━━━━━━━━\u001b[0m\u001b[37m\u001b[0m \u001b[1m15s\u001b[0m 4ms/step - accuracy: 0.9859 - loss: 0.0466 - val_accuracy: 0.9876 - val_loss: 0.0393\n",
      "Epoch 2/3\n",
      "\u001b[1m4133/4133\u001b[0m \u001b[32m━━━━━━━━━━━━━━━━━━━━\u001b[0m\u001b[37m\u001b[0m \u001b[1m11s\u001b[0m 3ms/step - accuracy: 0.9867 - loss: 0.0433 - val_accuracy: 0.9865 - val_loss: 0.0433\n",
      "Epoch 3/3\n",
      "\u001b[1m4133/4133\u001b[0m \u001b[32m━━━━━━━━━━━━━━━━━━━━\u001b[0m\u001b[37m\u001b[0m \u001b[1m11s\u001b[0m 3ms/step - accuracy: 0.9858 - loss: 0.0452 - val_accuracy: 0.9851 - val_loss: 0.0497\n"
     ]
    },
    {
     "name": "stderr",
     "output_type": "stream",
     "text": [
      " 24%|██▍       | 27/113 [17:45<1:03:34, 44.36s/it]"
     ]
    },
    {
     "name": "stdout",
     "output_type": "stream",
     "text": [
      "Epoch 1/3\n",
      "\u001b[1m3868/3868\u001b[0m \u001b[32m━━━━━━━━━━━━━━━━━━━━\u001b[0m\u001b[37m\u001b[0m \u001b[1m11s\u001b[0m 3ms/step - accuracy: 0.9842 - loss: 0.0540 - val_accuracy: 0.9874 - val_loss: 0.0385\n",
      "Epoch 2/3\n",
      "\u001b[1m3868/3868\u001b[0m \u001b[32m━━━━━━━━━━━━━━━━━━━━\u001b[0m\u001b[37m\u001b[0m \u001b[1m10s\u001b[0m 3ms/step - accuracy: 0.9855 - loss: 0.0479 - val_accuracy: 0.9891 - val_loss: 0.0356\n",
      "Epoch 3/3\n",
      "\u001b[1m3868/3868\u001b[0m \u001b[32m━━━━━━━━━━━━━━━━━━━━\u001b[0m\u001b[37m\u001b[0m \u001b[1m10s\u001b[0m 3ms/step - accuracy: 0.9850 - loss: 0.0458 - val_accuracy: 0.9881 - val_loss: 0.0374\n"
     ]
    },
    {
     "name": "stderr",
     "output_type": "stream",
     "text": [
      " 25%|██▍       | 28/113 [18:19<58:21, 41.20s/it]  "
     ]
    },
    {
     "name": "stdout",
     "output_type": "stream",
     "text": [
      "Epoch 1/3\n",
      "\u001b[1m4397/4397\u001b[0m \u001b[32m━━━━━━━━━━━━━━━━━━━━\u001b[0m\u001b[37m\u001b[0m \u001b[1m12s\u001b[0m 3ms/step - accuracy: 0.9853 - loss: 0.0476 - val_accuracy: 0.9877 - val_loss: 0.0374\n",
      "Epoch 2/3\n",
      "\u001b[1m4397/4397\u001b[0m \u001b[32m━━━━━━━━━━━━━━━━━━━━\u001b[0m\u001b[37m\u001b[0m \u001b[1m11s\u001b[0m 3ms/step - accuracy: 0.9864 - loss: 0.0436 - val_accuracy: 0.9814 - val_loss: 0.0591\n",
      "Epoch 3/3\n",
      "\u001b[1m4397/4397\u001b[0m \u001b[32m━━━━━━━━━━━━━━━━━━━━\u001b[0m\u001b[37m\u001b[0m \u001b[1m11s\u001b[0m 3ms/step - accuracy: 0.9862 - loss: 0.0428 - val_accuracy: 0.9869 - val_loss: 0.0406\n"
     ]
    },
    {
     "name": "stderr",
     "output_type": "stream",
     "text": [
      " 26%|██▌       | 29/113 [18:56<56:13, 40.16s/it]"
     ]
    },
    {
     "name": "stdout",
     "output_type": "stream",
     "text": [
      "Epoch 1/3\n",
      "\u001b[1m4405/4405\u001b[0m \u001b[32m━━━━━━━━━━━━━━━━━━━━\u001b[0m\u001b[37m\u001b[0m \u001b[1m12s\u001b[0m 3ms/step - accuracy: 0.9854 - loss: 0.0469 - val_accuracy: 0.9873 - val_loss: 0.0392\n",
      "Epoch 2/3\n",
      "\u001b[1m4405/4405\u001b[0m \u001b[32m━━━━━━━━━━━━━━━━━━━━\u001b[0m\u001b[37m\u001b[0m \u001b[1m11s\u001b[0m 3ms/step - accuracy: 0.9862 - loss: 0.0437 - val_accuracy: 0.9877 - val_loss: 0.0376\n",
      "Epoch 3/3\n",
      "\u001b[1m4405/4405\u001b[0m \u001b[32m━━━━━━━━━━━━━━━━━━━━\u001b[0m\u001b[37m\u001b[0m \u001b[1m11s\u001b[0m 3ms/step - accuracy: 0.9866 - loss: 0.0440 - val_accuracy: 0.9874 - val_loss: 0.0412\n"
     ]
    },
    {
     "name": "stderr",
     "output_type": "stream",
     "text": [
      " 27%|██▋       | 30/113 [19:34<54:27, 39.37s/it]"
     ]
    },
    {
     "name": "stdout",
     "output_type": "stream",
     "text": [
      "Epoch 1/3\n",
      "\u001b[1m4172/4172\u001b[0m \u001b[32m━━━━━━━━━━━━━━━━━━━━\u001b[0m\u001b[37m\u001b[0m \u001b[1m11s\u001b[0m 3ms/step - accuracy: 0.9855 - loss: 0.0461 - val_accuracy: 0.9878 - val_loss: 0.0422\n",
      "Epoch 2/3\n",
      "\u001b[1m4172/4172\u001b[0m \u001b[32m━━━━━━━━━━━━━━━━━━━━\u001b[0m\u001b[37m\u001b[0m \u001b[1m11s\u001b[0m 3ms/step - accuracy: 0.9857 - loss: 0.0466 - val_accuracy: 0.9866 - val_loss: 0.0425\n",
      "Epoch 3/3\n",
      "\u001b[1m4172/4172\u001b[0m \u001b[32m━━━━━━━━━━━━━━━━━━━━\u001b[0m\u001b[37m\u001b[0m \u001b[1m11s\u001b[0m 3ms/step - accuracy: 0.9860 - loss: 0.0443 - val_accuracy: 0.9888 - val_loss: 0.0396\n"
     ]
    },
    {
     "name": "stderr",
     "output_type": "stream",
     "text": [
      " 27%|██▋       | 31/113 [20:10<52:20, 38.30s/it]"
     ]
    },
    {
     "name": "stdout",
     "output_type": "stream",
     "text": [
      "Epoch 1/3\n",
      "\u001b[1m4003/4003\u001b[0m \u001b[32m━━━━━━━━━━━━━━━━━━━━\u001b[0m\u001b[37m\u001b[0m \u001b[1m13s\u001b[0m 3ms/step - accuracy: 0.9861 - loss: 0.0473 - val_accuracy: 0.9885 - val_loss: 0.0366\n",
      "Epoch 2/3\n",
      "\u001b[1m4003/4003\u001b[0m \u001b[32m━━━━━━━━━━━━━━━━━━━━\u001b[0m\u001b[37m\u001b[0m \u001b[1m10s\u001b[0m 3ms/step - accuracy: 0.9867 - loss: 0.0443 - val_accuracy: 0.9873 - val_loss: 0.0383\n",
      "Epoch 3/3\n",
      "\u001b[1m4003/4003\u001b[0m \u001b[32m━━━━━━━━━━━━━━━━━━━━\u001b[0m\u001b[37m\u001b[0m \u001b[1m11s\u001b[0m 3ms/step - accuracy: 0.9868 - loss: 0.0418 - val_accuracy: 0.9873 - val_loss: 0.0400\n"
     ]
    },
    {
     "name": "stderr",
     "output_type": "stream",
     "text": [
      " 28%|██▊       | 32/113 [20:47<51:22, 38.05s/it]"
     ]
    },
    {
     "name": "stdout",
     "output_type": "stream",
     "text": [
      "Epoch 1/3\n",
      "\u001b[1m3984/3984\u001b[0m \u001b[32m━━━━━━━━━━━━━━━━━━━━\u001b[0m\u001b[37m\u001b[0m \u001b[1m14s\u001b[0m 4ms/step - accuracy: 0.9857 - loss: 0.0480 - val_accuracy: 0.9881 - val_loss: 0.0367\n",
      "Epoch 2/3\n",
      "\u001b[1m3984/3984\u001b[0m \u001b[32m━━━━━━━━━━━━━━━━━━━━\u001b[0m\u001b[37m\u001b[0m \u001b[1m11s\u001b[0m 3ms/step - accuracy: 0.9867 - loss: 0.0424 - val_accuracy: 0.9883 - val_loss: 0.0354\n",
      "Epoch 3/3\n",
      "\u001b[1m3984/3984\u001b[0m \u001b[32m━━━━━━━━━━━━━━━━━━━━\u001b[0m\u001b[37m\u001b[0m \u001b[1m10s\u001b[0m 3ms/step - accuracy: 0.9864 - loss: 0.0429 - val_accuracy: 0.9869 - val_loss: 0.0390\n"
     ]
    },
    {
     "name": "stderr",
     "output_type": "stream",
     "text": [
      " 29%|██▉       | 33/113 [21:25<50:44, 38.06s/it]"
     ]
    },
    {
     "name": "stdout",
     "output_type": "stream",
     "text": [
      "Epoch 1/3\n",
      "\u001b[1m7837/7837\u001b[0m \u001b[32m━━━━━━━━━━━━━━━━━━━━\u001b[0m\u001b[37m\u001b[0m \u001b[1m23s\u001b[0m 3ms/step - accuracy: 0.9846 - loss: 0.0519 - val_accuracy: 0.9877 - val_loss: 0.0391\n",
      "Epoch 2/3\n",
      "\u001b[1m7837/7837\u001b[0m \u001b[32m━━━━━━━━━━━━━━━━━━━━\u001b[0m\u001b[37m\u001b[0m \u001b[1m21s\u001b[0m 3ms/step - accuracy: 0.9854 - loss: 0.0467 - val_accuracy: 0.9880 - val_loss: 0.0393\n",
      "Epoch 3/3\n",
      "\u001b[1m7837/7837\u001b[0m \u001b[32m━━━━━━━━━━━━━━━━━━━━\u001b[0m\u001b[37m\u001b[0m \u001b[1m21s\u001b[0m 3ms/step - accuracy: 0.9860 - loss: 0.0448 - val_accuracy: 0.9863 - val_loss: 0.0499\n"
     ]
    },
    {
     "name": "stderr",
     "output_type": "stream",
     "text": [
      " 30%|███       | 34/113 [22:35<1:02:49, 47.72s/it]"
     ]
    },
    {
     "name": "stdout",
     "output_type": "stream",
     "text": [
      "Epoch 1/3\n",
      "\u001b[1m4064/4064\u001b[0m \u001b[32m━━━━━━━━━━━━━━━━━━━━\u001b[0m\u001b[37m\u001b[0m \u001b[1m0s\u001b[0m 3ms/step - accuracy: 0.9850 - loss: 0.0495"
     ]
    },
    {
     "name": "stderr",
     "output_type": "stream",
     "text": [
      "W0000 00:00:1710659555.031955      72 graph_launch.cc:671] Fallback to op-by-op mode because memset node breaks graph update\n"
     ]
    },
    {
     "name": "stdout",
     "output_type": "stream",
     "text": [
      "\u001b[1m4064/4064\u001b[0m \u001b[32m━━━━━━━━━━━━━━━━━━━━\u001b[0m\u001b[37m\u001b[0m \u001b[1m14s\u001b[0m 3ms/step - accuracy: 0.9850 - loss: 0.0495 - val_accuracy: 0.9880 - val_loss: 0.0372\n",
      "Epoch 2/3\n",
      "\u001b[1m4064/4064\u001b[0m \u001b[32m━━━━━━━━━━━━━━━━━━━━\u001b[0m\u001b[37m\u001b[0m \u001b[1m10s\u001b[0m 3ms/step - accuracy: 0.9865 - loss: 0.0437 - val_accuracy: 0.9862 - val_loss: 0.0423\n",
      "Epoch 3/3\n",
      "\u001b[1m4064/4064\u001b[0m \u001b[32m━━━━━━━━━━━━━━━━━━━━\u001b[0m\u001b[37m\u001b[0m \u001b[1m11s\u001b[0m 3ms/step - accuracy: 0.9863 - loss: 0.0432 - val_accuracy: 0.9875 - val_loss: 0.0392\n"
     ]
    },
    {
     "name": "stderr",
     "output_type": "stream",
     "text": [
      " 31%|███       | 35/113 [23:13<58:04, 44.67s/it]  "
     ]
    },
    {
     "name": "stdout",
     "output_type": "stream",
     "text": [
      "Epoch 1/3\n",
      "\u001b[1m4423/4423\u001b[0m \u001b[32m━━━━━━━━━━━━━━━━━━━━\u001b[0m\u001b[37m\u001b[0m \u001b[1m12s\u001b[0m 3ms/step - accuracy: 0.9852 - loss: 0.0486 - val_accuracy: 0.9880 - val_loss: 0.0379\n",
      "Epoch 2/3\n",
      "\u001b[1m4423/4423\u001b[0m \u001b[32m━━━━━━━━━━━━━━━━━━━━\u001b[0m\u001b[37m\u001b[0m \u001b[1m11s\u001b[0m 3ms/step - accuracy: 0.9857 - loss: 0.0462 - val_accuracy: 0.9877 - val_loss: 0.0386\n",
      "Epoch 3/3\n",
      "\u001b[1m4423/4423\u001b[0m \u001b[32m━━━━━━━━━━━━━━━━━━━━\u001b[0m\u001b[37m\u001b[0m \u001b[1m12s\u001b[0m 3ms/step - accuracy: 0.9858 - loss: 0.0451 - val_accuracy: 0.9889 - val_loss: 0.0372\n"
     ]
    },
    {
     "name": "stderr",
     "output_type": "stream",
     "text": [
      " 32%|███▏      | 36/113 [23:51<54:53, 42.77s/it]"
     ]
    },
    {
     "name": "stdout",
     "output_type": "stream",
     "text": [
      "Epoch 1/3\n",
      "\u001b[1m7687/7687\u001b[0m \u001b[32m━━━━━━━━━━━━━━━━━━━━\u001b[0m\u001b[37m\u001b[0m \u001b[1m0s\u001b[0m 2ms/step - accuracy: 0.9858 - loss: 0.0464"
     ]
    },
    {
     "name": "stderr",
     "output_type": "stream",
     "text": [
      "W0000 00:00:1710659640.361775      72 graph_launch.cc:671] Fallback to op-by-op mode because memset node breaks graph update\n"
     ]
    },
    {
     "name": "stdout",
     "output_type": "stream",
     "text": [
      "\u001b[1m7687/7687\u001b[0m \u001b[32m━━━━━━━━━━━━━━━━━━━━\u001b[0m\u001b[37m\u001b[0m \u001b[1m23s\u001b[0m 3ms/step - accuracy: 0.9858 - loss: 0.0464 - val_accuracy: 0.9869 - val_loss: 0.0418\n",
      "Epoch 2/3\n",
      "\u001b[1m7687/7687\u001b[0m \u001b[32m━━━━━━━━━━━━━━━━━━━━\u001b[0m\u001b[37m\u001b[0m \u001b[1m20s\u001b[0m 3ms/step - accuracy: 0.9861 - loss: 0.0448 - val_accuracy: 0.9870 - val_loss: 0.0400\n",
      "Epoch 3/3\n",
      "\u001b[1m7687/7687\u001b[0m \u001b[32m━━━━━━━━━━━━━━━━━━━━\u001b[0m\u001b[37m\u001b[0m \u001b[1m20s\u001b[0m 3ms/step - accuracy: 0.9859 - loss: 0.0466 - val_accuracy: 0.9875 - val_loss: 0.0437\n"
     ]
    },
    {
     "name": "stderr",
     "output_type": "stream",
     "text": [
      " 33%|███▎      | 37/113 [25:01<1:04:14, 50.71s/it]"
     ]
    },
    {
     "name": "stdout",
     "output_type": "stream",
     "text": [
      "Epoch 1/3\n",
      "\u001b[1m3762/3762\u001b[0m \u001b[32m━━━━━━━━━━━━━━━━━━━━\u001b[0m\u001b[37m\u001b[0m \u001b[1m0s\u001b[0m 3ms/step - accuracy: 0.9837 - loss: 0.0563"
     ]
    },
    {
     "name": "stderr",
     "output_type": "stream",
     "text": [
      "W0000 00:00:1710659698.982819      72 graph_launch.cc:671] Fallback to op-by-op mode because memset node breaks graph update\n"
     ]
    },
    {
     "name": "stdout",
     "output_type": "stream",
     "text": [
      "\u001b[1m3762/3762\u001b[0m \u001b[32m━━━━━━━━━━━━━━━━━━━━\u001b[0m\u001b[37m\u001b[0m \u001b[1m12s\u001b[0m 3ms/step - accuracy: 0.9837 - loss: 0.0563 - val_accuracy: 0.9886 - val_loss: 0.0351\n",
      "Epoch 2/3\n",
      "\u001b[1m3762/3762\u001b[0m \u001b[32m━━━━━━━━━━━━━━━━━━━━\u001b[0m\u001b[37m\u001b[0m \u001b[1m10s\u001b[0m 3ms/step - accuracy: 0.9854 - loss: 0.0463 - val_accuracy: 0.9884 - val_loss: 0.0370\n",
      "Epoch 3/3\n",
      "\u001b[1m3762/3762\u001b[0m \u001b[32m━━━━━━━━━━━━━━━━━━━━\u001b[0m\u001b[37m\u001b[0m \u001b[1m10s\u001b[0m 3ms/step - accuracy: 0.9866 - loss: 0.0431 - val_accuracy: 0.9884 - val_loss: 0.0363\n"
     ]
    },
    {
     "name": "stderr",
     "output_type": "stream",
     "text": [
      " 34%|███▎      | 38/113 [25:36<57:30, 46.00s/it]  "
     ]
    },
    {
     "name": "stdout",
     "output_type": "stream",
     "text": [
      "Epoch 1/3\n",
      "\u001b[1m4142/4142\u001b[0m \u001b[32m━━━━━━━━━━━━━━━━━━━━\u001b[0m\u001b[37m\u001b[0m \u001b[1m14s\u001b[0m 3ms/step - accuracy: 0.9849 - loss: 0.0525 - val_accuracy: 0.9857 - val_loss: 0.0443\n",
      "Epoch 2/3\n",
      "\u001b[1m4142/4142\u001b[0m \u001b[32m━━━━━━━━━━━━━━━━━━━━\u001b[0m\u001b[37m\u001b[0m \u001b[1m11s\u001b[0m 3ms/step - accuracy: 0.9856 - loss: 0.0474 - val_accuracy: 0.9878 - val_loss: 0.0398\n",
      "Epoch 3/3\n",
      "\u001b[1m4142/4142\u001b[0m \u001b[32m━━━━━━━━━━━━━━━━━━━━\u001b[0m\u001b[37m\u001b[0m \u001b[1m11s\u001b[0m 3ms/step - accuracy: 0.9862 - loss: 0.0433 - val_accuracy: 0.9867 - val_loss: 0.0417\n"
     ]
    },
    {
     "name": "stderr",
     "output_type": "stream",
     "text": [
      " 35%|███▍      | 39/113 [26:15<54:07, 43.89s/it]"
     ]
    },
    {
     "name": "stdout",
     "output_type": "stream",
     "text": [
      "Epoch 1/3\n",
      "\u001b[1m7654/7654\u001b[0m \u001b[32m━━━━━━━━━━━━━━━━━━━━\u001b[0m\u001b[37m\u001b[0m \u001b[1m23s\u001b[0m 3ms/step - accuracy: 0.9856 - loss: 0.0469 - val_accuracy: 0.9879 - val_loss: 0.0384\n",
      "Epoch 2/3\n",
      "\u001b[1m7654/7654\u001b[0m \u001b[32m━━━━━━━━━━━━━━━━━━━━\u001b[0m\u001b[37m\u001b[0m \u001b[1m20s\u001b[0m 3ms/step - accuracy: 0.9862 - loss: 0.0441 - val_accuracy: 0.9874 - val_loss: 0.0402\n",
      "Epoch 3/3\n",
      "\u001b[1m7654/7654\u001b[0m \u001b[32m━━━━━━━━━━━━━━━━━━━━\u001b[0m\u001b[37m\u001b[0m \u001b[1m20s\u001b[0m 3ms/step - accuracy: 0.9862 - loss: 0.0456 - val_accuracy: 0.9891 - val_loss: 0.0358\n"
     ]
    },
    {
     "name": "stderr",
     "output_type": "stream",
     "text": [
      " 35%|███▌      | 40/113 [27:23<1:02:23, 51.29s/it]"
     ]
    },
    {
     "name": "stdout",
     "output_type": "stream",
     "text": [
      "Epoch 1/3\n",
      "\u001b[1m4032/4032\u001b[0m \u001b[32m━━━━━━━━━━━━━━━━━━━━\u001b[0m\u001b[37m\u001b[0m \u001b[1m11s\u001b[0m 3ms/step - accuracy: 0.9862 - loss: 0.0460 - val_accuracy: 0.9882 - val_loss: 0.0391\n",
      "Epoch 2/3\n",
      "\u001b[1m  68/4032\u001b[0m \u001b[37m━━━━━━━━━━━━━━━━━━━━\u001b[0m \u001b[1m9s\u001b[0m 2ms/step - accuracy: 0.9911 - loss: 0.0382"
     ]
    },
    {
     "name": "stderr",
     "output_type": "stream",
     "text": [
      "W0000 00:00:1710659842.855655      72 graph_launch.cc:671] Fallback to op-by-op mode because memset node breaks graph update\n"
     ]
    },
    {
     "name": "stdout",
     "output_type": "stream",
     "text": [
      "\u001b[1m4032/4032\u001b[0m \u001b[32m━━━━━━━━━━━━━━━━━━━━\u001b[0m\u001b[37m\u001b[0m \u001b[1m11s\u001b[0m 3ms/step - accuracy: 0.9863 - loss: 0.0456 - val_accuracy: 0.9873 - val_loss: 0.0384\n",
      "Epoch 3/3\n",
      "\u001b[1m4032/4032\u001b[0m \u001b[32m━━━━━━━━━━━━━━━━━━━━\u001b[0m\u001b[37m\u001b[0m \u001b[1m11s\u001b[0m 3ms/step - accuracy: 0.9864 - loss: 0.0445 - val_accuracy: 0.9859 - val_loss: 0.0418\n"
     ]
    },
    {
     "name": "stderr",
     "output_type": "stream",
     "text": [
      " 36%|███▋      | 41/113 [27:59<56:01, 46.68s/it]  "
     ]
    },
    {
     "name": "stdout",
     "output_type": "stream",
     "text": [
      "Epoch 1/3\n",
      "\u001b[1m7793/7793\u001b[0m \u001b[32m━━━━━━━━━━━━━━━━━━━━\u001b[0m\u001b[37m\u001b[0m \u001b[1m23s\u001b[0m 3ms/step - accuracy: 0.9854 - loss: 0.0479 - val_accuracy: 0.9881 - val_loss: 0.0382\n",
      "Epoch 2/3\n",
      "\u001b[1m7793/7793\u001b[0m \u001b[32m━━━━━━━━━━━━━━━━━━━━\u001b[0m\u001b[37m\u001b[0m \u001b[1m20s\u001b[0m 3ms/step - accuracy: 0.9861 - loss: 0.0452 - val_accuracy: 0.9881 - val_loss: 0.0376\n",
      "Epoch 3/3\n",
      "\u001b[1m7793/7793\u001b[0m \u001b[32m━━━━━━━━━━━━━━━━━━━━\u001b[0m\u001b[37m\u001b[0m \u001b[1m20s\u001b[0m 3ms/step - accuracy: 0.9861 - loss: 0.0443 - val_accuracy: 0.9873 - val_loss: 0.0385\n"
     ]
    },
    {
     "name": "stderr",
     "output_type": "stream",
     "text": [
      " 37%|███▋      | 42/113 [29:09<1:03:24, 53.59s/it]"
     ]
    },
    {
     "name": "stdout",
     "output_type": "stream",
     "text": [
      "Epoch 1/3\n",
      "\u001b[1m3893/3893\u001b[0m \u001b[32m━━━━━━━━━━━━━━━━━━━━\u001b[0m\u001b[37m\u001b[0m \u001b[1m10s\u001b[0m 3ms/step - accuracy: 0.9860 - loss: 0.0464 - val_accuracy: 0.9881 - val_loss: 0.0374\n",
      "Epoch 2/3\n",
      "\u001b[1m3893/3893\u001b[0m \u001b[32m━━━━━━━━━━━━━━━━━━━━\u001b[0m\u001b[37m\u001b[0m \u001b[1m10s\u001b[0m 3ms/step - accuracy: 0.9862 - loss: 0.0456 - val_accuracy: 0.9868 - val_loss: 0.0425\n",
      "Epoch 3/3\n",
      "\u001b[1m3893/3893\u001b[0m \u001b[32m━━━━━━━━━━━━━━━━━━━━\u001b[0m\u001b[37m\u001b[0m \u001b[1m10s\u001b[0m 3ms/step - accuracy: 0.9867 - loss: 0.0429 - val_accuracy: 0.9889 - val_loss: 0.0358\n"
     ]
    },
    {
     "name": "stderr",
     "output_type": "stream",
     "text": [
      " 38%|███▊      | 43/113 [29:42<55:31, 47.60s/it]  "
     ]
    },
    {
     "name": "stdout",
     "output_type": "stream",
     "text": [
      "Epoch 1/3\n",
      "\u001b[1m4392/4392\u001b[0m \u001b[32m━━━━━━━━━━━━━━━━━━━━\u001b[0m\u001b[37m\u001b[0m \u001b[1m15s\u001b[0m 3ms/step - accuracy: 0.9851 - loss: 0.0510 - val_accuracy: 0.9880 - val_loss: 0.0387\n",
      "Epoch 2/3\n",
      "\u001b[1m4392/4392\u001b[0m \u001b[32m━━━━━━━━━━━━━━━━━━━━\u001b[0m\u001b[37m\u001b[0m \u001b[1m12s\u001b[0m 3ms/step - accuracy: 0.9849 - loss: 0.0501 - val_accuracy: 0.9883 - val_loss: 0.0372\n",
      "Epoch 3/3\n",
      "\u001b[1m4392/4392\u001b[0m \u001b[32m━━━━━━━━━━━━━━━━━━━━\u001b[0m\u001b[37m\u001b[0m \u001b[1m12s\u001b[0m 3ms/step - accuracy: 0.9863 - loss: 0.0444 - val_accuracy: 0.9891 - val_loss: 0.0364\n"
     ]
    },
    {
     "name": "stderr",
     "output_type": "stream",
     "text": [
      " 39%|███▉      | 44/113 [30:24<52:43, 45.85s/it]"
     ]
    },
    {
     "name": "stdout",
     "output_type": "stream",
     "text": [
      "Epoch 1/3\n",
      "\u001b[1m4060/4060\u001b[0m \u001b[32m━━━━━━━━━━━━━━━━━━━━\u001b[0m\u001b[37m\u001b[0m \u001b[1m11s\u001b[0m 3ms/step - accuracy: 0.9854 - loss: 0.0487 - val_accuracy: 0.9880 - val_loss: 0.0405\n",
      "Epoch 2/3\n",
      "\u001b[1m4060/4060\u001b[0m \u001b[32m━━━━━━━━━━━━━━━━━━━━\u001b[0m\u001b[37m\u001b[0m \u001b[1m11s\u001b[0m 3ms/step - accuracy: 0.9853 - loss: 0.0477 - val_accuracy: 0.9872 - val_loss: 0.0383\n",
      "Epoch 3/3\n",
      "\u001b[1m4060/4060\u001b[0m \u001b[32m━━━━━━━━━━━━━━━━━━━━\u001b[0m\u001b[37m\u001b[0m \u001b[1m11s\u001b[0m 3ms/step - accuracy: 0.9856 - loss: 0.0461 - val_accuracy: 0.9880 - val_loss: 0.0373\n"
     ]
    },
    {
     "name": "stderr",
     "output_type": "stream",
     "text": [
      " 40%|███▉      | 45/113 [31:09<51:40, 45.60s/it]"
     ]
    },
    {
     "name": "stdout",
     "output_type": "stream",
     "text": [
      "Epoch 1/3\n",
      "\u001b[1m4328/4328\u001b[0m \u001b[32m━━━━━━━━━━━━━━━━━━━━\u001b[0m\u001b[37m\u001b[0m \u001b[1m15s\u001b[0m 3ms/step - accuracy: 0.9860 - loss: 0.0474 - val_accuracy: 0.9888 - val_loss: 0.0373\n",
      "Epoch 2/3\n",
      "\u001b[1m4328/4328\u001b[0m \u001b[32m━━━━━━━━━━━━━━━━━━━━\u001b[0m\u001b[37m\u001b[0m \u001b[1m12s\u001b[0m 3ms/step - accuracy: 0.9856 - loss: 0.0463 - val_accuracy: 0.9889 - val_loss: 0.0361\n",
      "Epoch 3/3\n",
      "\u001b[1m4328/4328\u001b[0m \u001b[32m━━━━━━━━━━━━━━━━━━━━\u001b[0m\u001b[37m\u001b[0m \u001b[1m11s\u001b[0m 3ms/step - accuracy: 0.9870 - loss: 0.0420 - val_accuracy: 0.9892 - val_loss: 0.0356\n"
     ]
    },
    {
     "name": "stderr",
     "output_type": "stream",
     "text": [
      " 41%|████      | 46/113 [31:50<49:24, 44.24s/it]"
     ]
    },
    {
     "name": "stdout",
     "output_type": "stream",
     "text": [
      "Epoch 1/3\n",
      "\u001b[1m4123/4123\u001b[0m \u001b[32m━━━━━━━━━━━━━━━━━━━━\u001b[0m\u001b[37m\u001b[0m \u001b[1m11s\u001b[0m 3ms/step - accuracy: 0.9845 - loss: 0.0554 - val_accuracy: 0.9877 - val_loss: 0.0384\n",
      "Epoch 2/3\n",
      "\u001b[1m4123/4123\u001b[0m \u001b[32m━━━━━━━━━━━━━━━━━━━━\u001b[0m\u001b[37m\u001b[0m \u001b[1m11s\u001b[0m 3ms/step - accuracy: 0.9855 - loss: 0.0470 - val_accuracy: 0.9875 - val_loss: 0.0395\n",
      "Epoch 3/3\n",
      "\u001b[1m4123/4123\u001b[0m \u001b[32m━━━━━━━━━━━━━━━━━━━━\u001b[0m\u001b[37m\u001b[0m \u001b[1m11s\u001b[0m 3ms/step - accuracy: 0.9857 - loss: 0.0463 - val_accuracy: 0.9879 - val_loss: 0.0385\n"
     ]
    },
    {
     "name": "stderr",
     "output_type": "stream",
     "text": [
      " 42%|████▏     | 47/113 [32:26<45:55, 41.75s/it]"
     ]
    },
    {
     "name": "stdout",
     "output_type": "stream",
     "text": [
      "Epoch 1/3\n",
      "\u001b[1m4184/4184\u001b[0m \u001b[32m━━━━━━━━━━━━━━━━━━━━\u001b[0m\u001b[37m\u001b[0m \u001b[1m11s\u001b[0m 3ms/step - accuracy: 0.9858 - loss: 0.0467 - val_accuracy: 0.9876 - val_loss: 0.0422\n",
      "Epoch 2/3\n",
      "\u001b[1m4184/4184\u001b[0m \u001b[32m━━━━━━━━━━━━━━━━━━━━\u001b[0m\u001b[37m\u001b[0m \u001b[1m11s\u001b[0m 3ms/step - accuracy: 0.9868 - loss: 0.0440 - val_accuracy: 0.9883 - val_loss: 0.0377\n",
      "Epoch 3/3\n",
      "\u001b[1m4184/4184\u001b[0m \u001b[32m━━━━━━━━━━━━━━━━━━━━\u001b[0m\u001b[37m\u001b[0m \u001b[1m11s\u001b[0m 3ms/step - accuracy: 0.9864 - loss: 0.0432 - val_accuracy: 0.9887 - val_loss: 0.0374\n"
     ]
    },
    {
     "name": "stderr",
     "output_type": "stream",
     "text": [
      " 42%|████▏     | 48/113 [33:03<43:34, 40.22s/it]"
     ]
    },
    {
     "name": "stdout",
     "output_type": "stream",
     "text": [
      "Epoch 1/3\n",
      "\u001b[1m3848/3848\u001b[0m \u001b[32m━━━━━━━━━━━━━━━━━━━━\u001b[0m\u001b[37m\u001b[0m \u001b[1m10s\u001b[0m 3ms/step - accuracy: 0.9846 - loss: 0.0515 - val_accuracy: 0.9886 - val_loss: 0.0349\n",
      "Epoch 2/3\n",
      "\u001b[1m3848/3848\u001b[0m \u001b[32m━━━━━━━━━━━━━━━━━━━━\u001b[0m\u001b[37m\u001b[0m \u001b[1m10s\u001b[0m 3ms/step - accuracy: 0.9865 - loss: 0.0440 - val_accuracy: 0.9887 - val_loss: 0.0346\n",
      "Epoch 3/3\n",
      "\u001b[1m3848/3848\u001b[0m \u001b[32m━━━━━━━━━━━━━━━━━━━━\u001b[0m\u001b[37m\u001b[0m \u001b[1m10s\u001b[0m 3ms/step - accuracy: 0.9854 - loss: 0.0476 - val_accuracy: 0.9888 - val_loss: 0.0345\n"
     ]
    },
    {
     "name": "stderr",
     "output_type": "stream",
     "text": [
      " 43%|████▎     | 49/113 [33:36<40:43, 38.17s/it]"
     ]
    },
    {
     "name": "stdout",
     "output_type": "stream",
     "text": [
      "Epoch 1/3\n",
      "\u001b[1m4358/4358\u001b[0m \u001b[32m━━━━━━━━━━━━━━━━━━━━\u001b[0m\u001b[37m\u001b[0m \u001b[1m12s\u001b[0m 3ms/step - accuracy: 0.9855 - loss: 0.0483 - val_accuracy: 0.9878 - val_loss: 0.0382\n",
      "Epoch 2/3\n",
      "\u001b[1m4358/4358\u001b[0m \u001b[32m━━━━━━━━━━━━━━━━━━━━\u001b[0m\u001b[37m\u001b[0m \u001b[1m11s\u001b[0m 3ms/step - accuracy: 0.9857 - loss: 0.0465 - val_accuracy: 0.9888 - val_loss: 0.0362\n",
      "Epoch 3/3\n",
      "\u001b[1m4358/4358\u001b[0m \u001b[32m━━━━━━━━━━━━━━━━━━━━\u001b[0m\u001b[37m\u001b[0m \u001b[1m11s\u001b[0m 3ms/step - accuracy: 0.9864 - loss: 0.0431 - val_accuracy: 0.9883 - val_loss: 0.0382\n"
     ]
    },
    {
     "name": "stderr",
     "output_type": "stream",
     "text": [
      " 44%|████▍     | 50/113 [34:14<40:01, 38.11s/it]"
     ]
    },
    {
     "name": "stdout",
     "output_type": "stream",
     "text": [
      "Epoch 1/3\n",
      "\u001b[1m4089/4089\u001b[0m \u001b[32m━━━━━━━━━━━━━━━━━━━━\u001b[0m\u001b[37m\u001b[0m \u001b[1m11s\u001b[0m 3ms/step - accuracy: 0.9855 - loss: 0.0488 - val_accuracy: 0.9882 - val_loss: 0.0369\n",
      "Epoch 2/3\n",
      "\u001b[1m4089/4089\u001b[0m \u001b[32m━━━━━━━━━━━━━━━━━━━━\u001b[0m\u001b[37m\u001b[0m \u001b[1m10s\u001b[0m 3ms/step - accuracy: 0.9859 - loss: 0.0453 - val_accuracy: 0.9871 - val_loss: 0.0393\n",
      "Epoch 3/3\n",
      "\u001b[1m4089/4089\u001b[0m \u001b[32m━━━━━━━━━━━━━━━━━━━━\u001b[0m\u001b[37m\u001b[0m \u001b[1m11s\u001b[0m 3ms/step - accuracy: 0.9862 - loss: 0.0437 - val_accuracy: 0.9873 - val_loss: 0.0389\n"
     ]
    },
    {
     "name": "stderr",
     "output_type": "stream",
     "text": [
      " 45%|████▌     | 51/113 [34:49<38:24, 37.17s/it]"
     ]
    },
    {
     "name": "stdout",
     "output_type": "stream",
     "text": [
      "Epoch 1/3\n",
      "\u001b[1m4397/4397\u001b[0m \u001b[32m━━━━━━━━━━━━━━━━━━━━\u001b[0m\u001b[37m\u001b[0m \u001b[1m12s\u001b[0m 3ms/step - accuracy: 0.9849 - loss: 0.0497 - val_accuracy: 0.9885 - val_loss: 0.0365\n",
      "Epoch 2/3\n",
      "\u001b[1m4397/4397\u001b[0m \u001b[32m━━━━━━━━━━━━━━━━━━━━\u001b[0m\u001b[37m\u001b[0m \u001b[1m11s\u001b[0m 3ms/step - accuracy: 0.9861 - loss: 0.0438 - val_accuracy: 0.9886 - val_loss: 0.0366\n",
      "Epoch 3/3\n",
      "\u001b[1m4397/4397\u001b[0m \u001b[32m━━━━━━━━━━━━━━━━━━━━\u001b[0m\u001b[37m\u001b[0m \u001b[1m12s\u001b[0m 3ms/step - accuracy: 0.9860 - loss: 0.0445 - val_accuracy: 0.9869 - val_loss: 0.0419\n"
     ]
    },
    {
     "name": "stderr",
     "output_type": "stream",
     "text": [
      " 46%|████▌     | 52/113 [35:27<38:03, 37.43s/it]"
     ]
    },
    {
     "name": "stdout",
     "output_type": "stream",
     "text": [
      "Epoch 1/3\n",
      "\u001b[1m7795/7795\u001b[0m \u001b[32m━━━━━━━━━━━━━━━━━━━━\u001b[0m\u001b[37m\u001b[0m \u001b[1m23s\u001b[0m 3ms/step - accuracy: 0.9858 - loss: 0.0462 - val_accuracy: 0.9878 - val_loss: 0.0378\n",
      "Epoch 2/3\n",
      "\u001b[1m7795/7795\u001b[0m \u001b[32m━━━━━━━━━━━━━━━━━━━━\u001b[0m\u001b[37m\u001b[0m \u001b[1m20s\u001b[0m 3ms/step - accuracy: 0.9862 - loss: 0.0462 - val_accuracy: 0.9886 - val_loss: 0.0360\n",
      "Epoch 3/3\n",
      "\u001b[1m7795/7795\u001b[0m \u001b[32m━━━━━━━━━━━━━━━━━━━━\u001b[0m\u001b[37m\u001b[0m \u001b[1m20s\u001b[0m 3ms/step - accuracy: 0.9862 - loss: 0.0457 - val_accuracy: 0.9882 - val_loss: 0.0360\n"
     ]
    },
    {
     "name": "stderr",
     "output_type": "stream",
     "text": [
      " 47%|████▋     | 53/113 [36:37<47:04, 47.08s/it]"
     ]
    },
    {
     "name": "stdout",
     "output_type": "stream",
     "text": [
      "Epoch 1/3\n",
      "\u001b[1m4258/4258\u001b[0m \u001b[32m━━━━━━━━━━━━━━━━━━━━\u001b[0m\u001b[37m\u001b[0m \u001b[1m11s\u001b[0m 3ms/step - accuracy: 0.9850 - loss: 0.0484 - val_accuracy: 0.9875 - val_loss: 0.0383\n",
      "Epoch 2/3\n",
      "\u001b[1m4258/4258\u001b[0m \u001b[32m━━━━━━━━━━━━━━━━━━━━\u001b[0m\u001b[37m\u001b[0m \u001b[1m11s\u001b[0m 3ms/step - accuracy: 0.9860 - loss: 0.0439 - val_accuracy: 0.9882 - val_loss: 0.0388\n",
      "Epoch 3/3\n",
      "\u001b[1m4258/4258\u001b[0m \u001b[32m━━━━━━━━━━━━━━━━━━━━\u001b[0m\u001b[37m\u001b[0m \u001b[1m11s\u001b[0m 3ms/step - accuracy: 0.9861 - loss: 0.0431 - val_accuracy: 0.9885 - val_loss: 0.0371\n"
     ]
    },
    {
     "name": "stderr",
     "output_type": "stream",
     "text": [
      " 48%|████▊     | 54/113 [37:13<43:10, 43.91s/it]"
     ]
    },
    {
     "name": "stdout",
     "output_type": "stream",
     "text": [
      "Epoch 1/3\n",
      "\u001b[1m4124/4124\u001b[0m \u001b[32m━━━━━━━━━━━━━━━━━━━━\u001b[0m\u001b[37m\u001b[0m \u001b[1m11s\u001b[0m 3ms/step - accuracy: 0.9860 - loss: 0.0460 - val_accuracy: 0.9894 - val_loss: 0.0351\n",
      "Epoch 2/3\n",
      "\u001b[1m4124/4124\u001b[0m \u001b[32m━━━━━━━━━━━━━━━━━━━━\u001b[0m\u001b[37m\u001b[0m \u001b[1m11s\u001b[0m 3ms/step - accuracy: 0.9855 - loss: 0.0476 - val_accuracy: 0.9888 - val_loss: 0.0358\n",
      "Epoch 3/3\n",
      "\u001b[1m4124/4124\u001b[0m \u001b[32m━━━━━━━━━━━━━━━━━━━━\u001b[0m\u001b[37m\u001b[0m \u001b[1m11s\u001b[0m 3ms/step - accuracy: 0.9860 - loss: 0.0445 - val_accuracy: 0.9852 - val_loss: 0.0477\n"
     ]
    },
    {
     "name": "stderr",
     "output_type": "stream",
     "text": [
      " 49%|████▊     | 55/113 [37:49<39:56, 41.31s/it]"
     ]
    },
    {
     "name": "stdout",
     "output_type": "stream",
     "text": [
      "Epoch 1/3\n",
      "\u001b[1m3892/3892\u001b[0m \u001b[32m━━━━━━━━━━━━━━━━━━━━\u001b[0m\u001b[37m\u001b[0m \u001b[1m11s\u001b[0m 3ms/step - accuracy: 0.9854 - loss: 0.0482 - val_accuracy: 0.9872 - val_loss: 0.0404\n",
      "Epoch 2/3\n",
      "\u001b[1m3892/3892\u001b[0m \u001b[32m━━━━━━━━━━━━━━━━━━━━\u001b[0m\u001b[37m\u001b[0m \u001b[1m10s\u001b[0m 3ms/step - accuracy: 0.9865 - loss: 0.0440 - val_accuracy: 0.9866 - val_loss: 0.0422\n",
      "Epoch 3/3\n",
      "\u001b[1m3892/3892\u001b[0m \u001b[32m━━━━━━━━━━━━━━━━━━━━\u001b[0m\u001b[37m\u001b[0m \u001b[1m10s\u001b[0m 3ms/step - accuracy: 0.9861 - loss: 0.0461 - val_accuracy: 0.9877 - val_loss: 0.0396\n"
     ]
    },
    {
     "name": "stderr",
     "output_type": "stream",
     "text": [
      " 50%|████▉     | 56/113 [38:23<37:13, 39.18s/it]"
     ]
    },
    {
     "name": "stdout",
     "output_type": "stream",
     "text": [
      "Epoch 1/3\n",
      "\u001b[1m4113/4113\u001b[0m \u001b[32m━━━━━━━━━━━━━━━━━━━━\u001b[0m\u001b[37m\u001b[0m \u001b[1m13s\u001b[0m 3ms/step - accuracy: 0.9861 - loss: 0.0466 - val_accuracy: 0.9890 - val_loss: 0.0371\n",
      "Epoch 2/3\n",
      "\u001b[1m4113/4113\u001b[0m \u001b[32m━━━━━━━━━━━━━━━━━━━━\u001b[0m\u001b[37m\u001b[0m \u001b[1m11s\u001b[0m 3ms/step - accuracy: 0.9866 - loss: 0.0453 - val_accuracy: 0.9871 - val_loss: 0.0400\n",
      "Epoch 3/3\n",
      "\u001b[1m4113/4113\u001b[0m \u001b[32m━━━━━━━━━━━━━━━━━━━━\u001b[0m\u001b[37m\u001b[0m \u001b[1m11s\u001b[0m 3ms/step - accuracy: 0.9868 - loss: 0.0429 - val_accuracy: 0.9889 - val_loss: 0.0348\n"
     ]
    },
    {
     "name": "stderr",
     "output_type": "stream",
     "text": [
      " 50%|█████     | 57/113 [39:01<36:18, 38.89s/it]"
     ]
    },
    {
     "name": "stdout",
     "output_type": "stream",
     "text": [
      "Epoch 1/3\n",
      "\u001b[1m7518/7518\u001b[0m \u001b[32m━━━━━━━━━━━━━━━━━━━━\u001b[0m\u001b[37m\u001b[0m \u001b[1m20s\u001b[0m 3ms/step - accuracy: 0.9851 - loss: 0.0497 - val_accuracy: 0.9885 - val_loss: 0.0369\n",
      "Epoch 2/3\n",
      "\u001b[1m7518/7518\u001b[0m \u001b[32m━━━━━━━━━━━━━━━━━━━━\u001b[0m\u001b[37m\u001b[0m \u001b[1m19s\u001b[0m 3ms/step - accuracy: 0.9853 - loss: 0.0470 - val_accuracy: 0.9888 - val_loss: 0.0346\n",
      "Epoch 3/3\n",
      "\u001b[1m7518/7518\u001b[0m \u001b[32m━━━━━━━━━━━━━━━━━━━━\u001b[0m\u001b[37m\u001b[0m \u001b[1m20s\u001b[0m 3ms/step - accuracy: 0.9861 - loss: 0.0455 - val_accuracy: 0.9882 - val_loss: 0.0354\n"
     ]
    },
    {
     "name": "stderr",
     "output_type": "stream",
     "text": [
      " 51%|█████▏    | 58/113 [40:05<42:39, 46.54s/it]"
     ]
    },
    {
     "name": "stdout",
     "output_type": "stream",
     "text": [
      "Epoch 1/3\n",
      "\u001b[1m4148/4148\u001b[0m \u001b[32m━━━━━━━━━━━━━━━━━━━━\u001b[0m\u001b[37m\u001b[0m \u001b[1m11s\u001b[0m 3ms/step - accuracy: 0.9856 - loss: 0.0478 - val_accuracy: 0.9855 - val_loss: 0.0485\n",
      "Epoch 2/3\n",
      "\u001b[1m4148/4148\u001b[0m \u001b[32m━━━━━━━━━━━━━━━━━━━━\u001b[0m\u001b[37m\u001b[0m \u001b[1m11s\u001b[0m 3ms/step - accuracy: 0.9864 - loss: 0.0440 - val_accuracy: 0.9880 - val_loss: 0.0382\n",
      "Epoch 3/3\n",
      "\u001b[1m4148/4148\u001b[0m \u001b[32m━━━━━━━━━━━━━━━━━━━━\u001b[0m\u001b[37m\u001b[0m \u001b[1m11s\u001b[0m 3ms/step - accuracy: 0.9865 - loss: 0.0442 - val_accuracy: 0.9886 - val_loss: 0.0370\n"
     ]
    },
    {
     "name": "stderr",
     "output_type": "stream",
     "text": [
      " 52%|█████▏    | 59/113 [40:41<38:53, 43.22s/it]"
     ]
    },
    {
     "name": "stdout",
     "output_type": "stream",
     "text": [
      "Epoch 1/3\n",
      "\u001b[1m4291/4291\u001b[0m \u001b[32m━━━━━━━━━━━━━━━━━━━━\u001b[0m\u001b[37m\u001b[0m \u001b[1m11s\u001b[0m 3ms/step - accuracy: 0.9853 - loss: 0.0490 - val_accuracy: 0.9875 - val_loss: 0.0398\n",
      "Epoch 2/3\n",
      "\u001b[1m4291/4291\u001b[0m \u001b[32m━━━━━━━━━━━━━━━━━━━━\u001b[0m\u001b[37m\u001b[0m \u001b[1m12s\u001b[0m 3ms/step - accuracy: 0.9857 - loss: 0.0463 - val_accuracy: 0.9888 - val_loss: 0.0379\n",
      "Epoch 3/3\n",
      "\u001b[1m4291/4291\u001b[0m \u001b[32m━━━━━━━━━━━━━━━━━━━━\u001b[0m\u001b[37m\u001b[0m \u001b[1m11s\u001b[0m 3ms/step - accuracy: 0.9862 - loss: 0.0439 - val_accuracy: 0.9852 - val_loss: 0.0470\n"
     ]
    },
    {
     "name": "stderr",
     "output_type": "stream",
     "text": [
      " 53%|█████▎    | 60/113 [41:18<36:33, 41.39s/it]"
     ]
    },
    {
     "name": "stdout",
     "output_type": "stream",
     "text": [
      "Epoch 1/3\n",
      "\u001b[1m4448/4448\u001b[0m \u001b[32m━━━━━━━━━━━━━━━━━━━━\u001b[0m\u001b[37m\u001b[0m \u001b[1m12s\u001b[0m 3ms/step - accuracy: 0.9859 - loss: 0.0459 - val_accuracy: 0.9869 - val_loss: 0.0420\n",
      "Epoch 2/3\n",
      "\u001b[1m4448/4448\u001b[0m \u001b[32m━━━━━━━━━━━━━━━━━━━━\u001b[0m\u001b[37m\u001b[0m \u001b[1m12s\u001b[0m 3ms/step - accuracy: 0.9856 - loss: 0.0459 - val_accuracy: 0.9866 - val_loss: 0.0414\n",
      "Epoch 3/3\n",
      "\u001b[1m4448/4448\u001b[0m \u001b[32m━━━━━━━━━━━━━━━━━━━━\u001b[0m\u001b[37m\u001b[0m \u001b[1m11s\u001b[0m 3ms/step - accuracy: 0.9858 - loss: 0.0453 - val_accuracy: 0.9879 - val_loss: 0.0416\n"
     ]
    },
    {
     "name": "stderr",
     "output_type": "stream",
     "text": [
      " 54%|█████▍    | 61/113 [41:56<35:02, 40.43s/it]"
     ]
    },
    {
     "name": "stdout",
     "output_type": "stream",
     "text": [
      "Epoch 1/3\n",
      "\u001b[1m4194/4194\u001b[0m \u001b[32m━━━━━━━━━━━━━━━━━━━━\u001b[0m\u001b[37m\u001b[0m \u001b[1m0s\u001b[0m 3ms/step - accuracy: 0.9853 - loss: 0.0488"
     ]
    },
    {
     "name": "stderr",
     "output_type": "stream",
     "text": [
      "W0000 00:00:1710660716.515468      74 graph_launch.cc:671] Fallback to op-by-op mode because memset node breaks graph update\n"
     ]
    },
    {
     "name": "stdout",
     "output_type": "stream",
     "text": [
      "\u001b[1m4194/4194\u001b[0m \u001b[32m━━━━━━━━━━━━━━━━━━━━\u001b[0m\u001b[37m\u001b[0m \u001b[1m14s\u001b[0m 3ms/step - accuracy: 0.9853 - loss: 0.0488 - val_accuracy: 0.9851 - val_loss: 0.0469\n",
      "Epoch 2/3\n",
      "\u001b[1m4194/4194\u001b[0m \u001b[32m━━━━━━━━━━━━━━━━━━━━\u001b[0m\u001b[37m\u001b[0m \u001b[1m11s\u001b[0m 3ms/step - accuracy: 0.9857 - loss: 0.0474 - val_accuracy: 0.9868 - val_loss: 0.0420\n",
      "Epoch 3/3\n",
      "\u001b[1m4194/4194\u001b[0m \u001b[32m━━━━━━━━━━━━━━━━━━━━\u001b[0m\u001b[37m\u001b[0m \u001b[1m11s\u001b[0m 3ms/step - accuracy: 0.9854 - loss: 0.0463 - val_accuracy: 0.9844 - val_loss: 0.0491\n"
     ]
    },
    {
     "name": "stderr",
     "output_type": "stream",
     "text": [
      " 55%|█████▍    | 62/113 [42:35<34:01, 40.03s/it]"
     ]
    },
    {
     "name": "stdout",
     "output_type": "stream",
     "text": [
      "Epoch 1/3\n",
      "\u001b[1m7718/7718\u001b[0m \u001b[32m━━━━━━━━━━━━━━━━━━━━\u001b[0m\u001b[37m\u001b[0m \u001b[1m20s\u001b[0m 3ms/step - accuracy: 0.9855 - loss: 0.0487 - val_accuracy: 0.9871 - val_loss: 0.0405\n",
      "Epoch 2/3\n",
      "\u001b[1m7718/7718\u001b[0m \u001b[32m━━━━━━━━━━━━━━━━━━━━\u001b[0m\u001b[37m\u001b[0m \u001b[1m21s\u001b[0m 3ms/step - accuracy: 0.9849 - loss: 0.0499 - val_accuracy: 0.9868 - val_loss: 0.0411\n",
      "Epoch 3/3\n",
      "\u001b[1m7718/7718\u001b[0m \u001b[32m━━━━━━━━━━━━━━━━━━━━\u001b[0m\u001b[37m\u001b[0m \u001b[1m20s\u001b[0m 3ms/step - accuracy: 0.9858 - loss: 0.0465 - val_accuracy: 0.9860 - val_loss: 0.0446\n"
     ]
    },
    {
     "name": "stderr",
     "output_type": "stream",
     "text": [
      " 56%|█████▌    | 63/113 [43:42<40:07, 48.15s/it]"
     ]
    },
    {
     "name": "stdout",
     "output_type": "stream",
     "text": [
      "Epoch 1/3\n",
      "\u001b[1m4155/4155\u001b[0m \u001b[32m━━━━━━━━━━━━━━━━━━━━\u001b[0m\u001b[37m\u001b[0m \u001b[1m11s\u001b[0m 3ms/step - accuracy: 0.9840 - loss: 0.0561 - val_accuracy: 0.9875 - val_loss: 0.0410\n",
      "Epoch 2/3\n",
      "\u001b[1m4155/4155\u001b[0m \u001b[32m━━━━━━━━━━━━━━━━━━━━\u001b[0m\u001b[37m\u001b[0m \u001b[1m11s\u001b[0m 3ms/step - accuracy: 0.9854 - loss: 0.0477 - val_accuracy: 0.9868 - val_loss: 0.0414\n",
      "Epoch 3/3\n",
      "\u001b[1m4155/4155\u001b[0m \u001b[32m━━━━━━━━━━━━━━━━━━━━\u001b[0m\u001b[37m\u001b[0m \u001b[1m11s\u001b[0m 3ms/step - accuracy: 0.9844 - loss: 0.0505 - val_accuracy: 0.9889 - val_loss: 0.0350\n"
     ]
    },
    {
     "name": "stderr",
     "output_type": "stream",
     "text": [
      " 57%|█████▋    | 64/113 [44:18<36:14, 44.38s/it]"
     ]
    },
    {
     "name": "stdout",
     "output_type": "stream",
     "text": [
      "Epoch 1/3\n",
      "\u001b[1m4604/4604\u001b[0m \u001b[32m━━━━━━━━━━━━━━━━━━━━\u001b[0m\u001b[37m\u001b[0m \u001b[1m12s\u001b[0m 3ms/step - accuracy: 0.9852 - loss: 0.0496 - val_accuracy: 0.9879 - val_loss: 0.0381\n",
      "Epoch 2/3\n",
      "\u001b[1m4604/4604\u001b[0m \u001b[32m━━━━━━━━━━━━━━━━━━━━\u001b[0m\u001b[37m\u001b[0m \u001b[1m12s\u001b[0m 3ms/step - accuracy: 0.9856 - loss: 0.0483 - val_accuracy: 0.9876 - val_loss: 0.0386\n",
      "Epoch 3/3\n",
      "\u001b[1m4604/4604\u001b[0m \u001b[32m━━━━━━━━━━━━━━━━━━━━\u001b[0m\u001b[37m\u001b[0m \u001b[1m12s\u001b[0m 3ms/step - accuracy: 0.9861 - loss: 0.0449 - val_accuracy: 0.9883 - val_loss: 0.0395\n"
     ]
    },
    {
     "name": "stderr",
     "output_type": "stream",
     "text": [
      " 58%|█████▊    | 65/113 [44:57<34:15, 42.83s/it]"
     ]
    },
    {
     "name": "stdout",
     "output_type": "stream",
     "text": [
      "Epoch 1/3\n",
      "\u001b[1m4287/4287\u001b[0m \u001b[32m━━━━━━━━━━━━━━━━━━━━\u001b[0m\u001b[37m\u001b[0m \u001b[1m14s\u001b[0m 3ms/step - accuracy: 0.9846 - loss: 0.0506 - val_accuracy: 0.9870 - val_loss: 0.0403\n",
      "Epoch 2/3\n",
      "\u001b[1m4287/4287\u001b[0m \u001b[32m━━━━━━━━━━━━━━━━━━━━\u001b[0m\u001b[37m\u001b[0m \u001b[1m11s\u001b[0m 3ms/step - accuracy: 0.9861 - loss: 0.0458 - val_accuracy: 0.9880 - val_loss: 0.0381\n",
      "Epoch 3/3\n",
      "\u001b[1m4287/4287\u001b[0m \u001b[32m━━━━━━━━━━━━━━━━━━━━\u001b[0m\u001b[37m\u001b[0m \u001b[1m11s\u001b[0m 3ms/step - accuracy: 0.9868 - loss: 0.0445 - val_accuracy: 0.9883 - val_loss: 0.0389\n"
     ]
    },
    {
     "name": "stderr",
     "output_type": "stream",
     "text": [
      " 58%|█████▊    | 66/113 [45:36<32:42, 41.76s/it]"
     ]
    },
    {
     "name": "stdout",
     "output_type": "stream",
     "text": [
      "Epoch 1/3\n",
      "\u001b[1m3782/3782\u001b[0m \u001b[32m━━━━━━━━━━━━━━━━━━━━\u001b[0m\u001b[37m\u001b[0m \u001b[1m0s\u001b[0m 3ms/step - accuracy: 0.9859 - loss: 0.0475"
     ]
    },
    {
     "name": "stderr",
     "output_type": "stream",
     "text": [
      "W0000 00:00:1710660935.331466      75 graph_launch.cc:671] Fallback to op-by-op mode because memset node breaks graph update\n"
     ]
    },
    {
     "name": "stdout",
     "output_type": "stream",
     "text": [
      "\u001b[1m3782/3782\u001b[0m \u001b[32m━━━━━━━━━━━━━━━━━━━━\u001b[0m\u001b[37m\u001b[0m \u001b[1m13s\u001b[0m 3ms/step - accuracy: 0.9859 - loss: 0.0475 - val_accuracy: 0.9881 - val_loss: 0.0377\n",
      "Epoch 2/3\n",
      "\u001b[1m3782/3782\u001b[0m \u001b[32m━━━━━━━━━━━━━━━━━━━━\u001b[0m\u001b[37m\u001b[0m \u001b[1m10s\u001b[0m 3ms/step - accuracy: 0.9858 - loss: 0.0469 - val_accuracy: 0.9868 - val_loss: 0.0405\n",
      "Epoch 3/3\n",
      "\u001b[1m3782/3782\u001b[0m \u001b[32m━━━━━━━━━━━━━━━━━━━━\u001b[0m\u001b[37m\u001b[0m \u001b[1m10s\u001b[0m 3ms/step - accuracy: 0.9863 - loss: 0.0465 - val_accuracy: 0.9876 - val_loss: 0.0379\n"
     ]
    },
    {
     "name": "stderr",
     "output_type": "stream",
     "text": [
      " 59%|█████▉    | 67/113 [46:12<30:33, 39.85s/it]"
     ]
    },
    {
     "name": "stdout",
     "output_type": "stream",
     "text": [
      "Epoch 1/3\n",
      "\u001b[1m4689/4689\u001b[0m \u001b[32m━━━━━━━━━━━━━━━━━━━━\u001b[0m\u001b[37m\u001b[0m \u001b[1m12s\u001b[0m 3ms/step - accuracy: 0.9848 - loss: 0.0495 - val_accuracy: 0.9882 - val_loss: 0.0370\n",
      "Epoch 2/3\n",
      "\u001b[1m4689/4689\u001b[0m \u001b[32m━━━━━━━━━━━━━━━━━━━━\u001b[0m\u001b[37m\u001b[0m \u001b[1m12s\u001b[0m 3ms/step - accuracy: 0.9853 - loss: 0.0476 - val_accuracy: 0.9886 - val_loss: 0.0376\n",
      "Epoch 3/3\n",
      "\u001b[1m4689/4689\u001b[0m \u001b[32m━━━━━━━━━━━━━━━━━━━━\u001b[0m\u001b[37m\u001b[0m \u001b[1m13s\u001b[0m 3ms/step - accuracy: 0.9860 - loss: 0.0467 - val_accuracy: 0.9810 - val_loss: 0.0750\n"
     ]
    },
    {
     "name": "stderr",
     "output_type": "stream",
     "text": [
      " 60%|██████    | 68/113 [46:52<30:00, 40.00s/it]"
     ]
    },
    {
     "name": "stdout",
     "output_type": "stream",
     "text": [
      "Epoch 1/3\n",
      "\u001b[1m3922/3922\u001b[0m \u001b[32m━━━━━━━━━━━━━━━━━━━━\u001b[0m\u001b[37m\u001b[0m \u001b[1m10s\u001b[0m 3ms/step - accuracy: 0.9852 - loss: 0.0501 - val_accuracy: 0.9879 - val_loss: 0.0382\n",
      "Epoch 2/3\n",
      "\u001b[1m3922/3922\u001b[0m \u001b[32m━━━━━━━━━━━━━━━━━━━━\u001b[0m\u001b[37m\u001b[0m \u001b[1m10s\u001b[0m 3ms/step - accuracy: 0.9863 - loss: 0.0474 - val_accuracy: 0.9877 - val_loss: 0.0408\n",
      "Epoch 3/3\n",
      "\u001b[1m3922/3922\u001b[0m \u001b[32m━━━━━━━━━━━━━━━━━━━━\u001b[0m\u001b[37m\u001b[0m \u001b[1m11s\u001b[0m 3ms/step - accuracy: 0.9860 - loss: 0.0455 - val_accuracy: 0.9864 - val_loss: 0.0438\n"
     ]
    },
    {
     "name": "stderr",
     "output_type": "stream",
     "text": [
      " 61%|██████    | 69/113 [47:26<27:58, 38.14s/it]"
     ]
    },
    {
     "name": "stdout",
     "output_type": "stream",
     "text": [
      "Epoch 1/3\n",
      "\u001b[1m4204/4204\u001b[0m \u001b[32m━━━━━━━━━━━━━━━━━━━━\u001b[0m\u001b[37m\u001b[0m \u001b[1m11s\u001b[0m 3ms/step - accuracy: 0.9848 - loss: 0.0509 - val_accuracy: 0.9879 - val_loss: 0.0386\n",
      "Epoch 2/3\n",
      "\u001b[1m4204/4204\u001b[0m \u001b[32m━━━━━━━━━━━━━━━━━━━━\u001b[0m\u001b[37m\u001b[0m \u001b[1m11s\u001b[0m 3ms/step - accuracy: 0.9859 - loss: 0.0475 - val_accuracy: 0.9876 - val_loss: 0.0386\n",
      "Epoch 3/3\n",
      "\u001b[1m4204/4204\u001b[0m \u001b[32m━━━━━━━━━━━━━━━━━━━━\u001b[0m\u001b[37m\u001b[0m \u001b[1m11s\u001b[0m 3ms/step - accuracy: 0.9863 - loss: 0.0453 - val_accuracy: 0.9888 - val_loss: 0.0357\n"
     ]
    },
    {
     "name": "stderr",
     "output_type": "stream",
     "text": [
      " 62%|██████▏   | 70/113 [48:03<27:02, 37.73s/it]"
     ]
    },
    {
     "name": "stdout",
     "output_type": "stream",
     "text": [
      "Epoch 1/3\n",
      "\u001b[1m4022/4022\u001b[0m \u001b[32m━━━━━━━━━━━━━━━━━━━━\u001b[0m\u001b[37m\u001b[0m \u001b[1m10s\u001b[0m 3ms/step - accuracy: 0.9855 - loss: 0.0486 - val_accuracy: 0.9879 - val_loss: 0.0389\n",
      "Epoch 2/3\n",
      "\u001b[1m4022/4022\u001b[0m \u001b[32m━━━━━━━━━━━━━━━━━━━━\u001b[0m\u001b[37m\u001b[0m \u001b[1m11s\u001b[0m 3ms/step - accuracy: 0.9860 - loss: 0.0455 - val_accuracy: 0.9884 - val_loss: 0.0370\n",
      "Epoch 3/3\n",
      "\u001b[1m4022/4022\u001b[0m \u001b[32m━━━━━━━━━━━━━━━━━━━━\u001b[0m\u001b[37m\u001b[0m \u001b[1m20s\u001b[0m 3ms/step - accuracy: 0.9858 - loss: 0.0451 - val_accuracy: 0.9882 - val_loss: 0.0378\n"
     ]
    },
    {
     "name": "stderr",
     "output_type": "stream",
     "text": [
      " 63%|██████▎   | 71/113 [48:47<27:46, 39.68s/it]"
     ]
    },
    {
     "name": "stdout",
     "output_type": "stream",
     "text": [
      "Epoch 1/3\n",
      "\u001b[1m4861/4861\u001b[0m \u001b[32m━━━━━━━━━━━━━━━━━━━━\u001b[0m\u001b[37m\u001b[0m \u001b[1m15s\u001b[0m 3ms/step - accuracy: 0.9847 - loss: 0.0504 - val_accuracy: 0.9881 - val_loss: 0.0390\n",
      "Epoch 2/3\n",
      "\u001b[1m4861/4861\u001b[0m \u001b[32m━━━━━━━━━━━━━━━━━━━━\u001b[0m\u001b[37m\u001b[0m \u001b[1m13s\u001b[0m 3ms/step - accuracy: 0.9858 - loss: 0.0474 - val_accuracy: 0.9868 - val_loss: 0.0419\n",
      "Epoch 3/3\n",
      "\u001b[1m4861/4861\u001b[0m \u001b[32m━━━━━━━━━━━━━━━━━━━━\u001b[0m\u001b[37m\u001b[0m \u001b[1m13s\u001b[0m 3ms/step - accuracy: 0.9852 - loss: 0.0470 - val_accuracy: 0.9874 - val_loss: 0.0442\n"
     ]
    },
    {
     "name": "stderr",
     "output_type": "stream",
     "text": [
      " 64%|██████▎   | 72/113 [49:39<29:36, 43.33s/it]"
     ]
    },
    {
     "name": "stdout",
     "output_type": "stream",
     "text": [
      "Epoch 1/3\n",
      "\u001b[1m4563/4563\u001b[0m \u001b[32m━━━━━━━━━━━━━━━━━━━━\u001b[0m\u001b[37m\u001b[0m \u001b[1m12s\u001b[0m 3ms/step - accuracy: 0.9848 - loss: 0.0513 - val_accuracy: 0.9850 - val_loss: 0.0455\n",
      "Epoch 2/3\n",
      "\u001b[1m4563/4563\u001b[0m \u001b[32m━━━━━━━━━━━━━━━━━━━━\u001b[0m\u001b[37m\u001b[0m \u001b[1m12s\u001b[0m 3ms/step - accuracy: 0.9856 - loss: 0.0484 - val_accuracy: 0.9868 - val_loss: 0.0421\n",
      "Epoch 3/3\n",
      "\u001b[1m4563/4563\u001b[0m \u001b[32m━━━━━━━━━━━━━━━━━━━━\u001b[0m\u001b[37m\u001b[0m \u001b[1m12s\u001b[0m 3ms/step - accuracy: 0.9857 - loss: 0.0477 - val_accuracy: 0.9869 - val_loss: 0.0447\n"
     ]
    },
    {
     "name": "stderr",
     "output_type": "stream",
     "text": [
      " 65%|██████▍   | 73/113 [50:18<28:04, 42.12s/it]"
     ]
    },
    {
     "name": "stdout",
     "output_type": "stream",
     "text": [
      "Epoch 1/3\n",
      "\u001b[1m4126/4126\u001b[0m \u001b[32m━━━━━━━━━━━━━━━━━━━━\u001b[0m\u001b[37m\u001b[0m \u001b[1m11s\u001b[0m 3ms/step - accuracy: 0.9846 - loss: 0.0503 - val_accuracy: 0.9870 - val_loss: 0.0405\n",
      "Epoch 2/3\n",
      "\u001b[1m4126/4126\u001b[0m \u001b[32m━━━━━━━━━━━━━━━━━━━━\u001b[0m\u001b[37m\u001b[0m \u001b[1m11s\u001b[0m 3ms/step - accuracy: 0.9855 - loss: 0.0478 - val_accuracy: 0.9878 - val_loss: 0.0416\n",
      "Epoch 3/3\n",
      "\u001b[1m4126/4126\u001b[0m \u001b[32m━━━━━━━━━━━━━━━━━━━━\u001b[0m\u001b[37m\u001b[0m \u001b[1m11s\u001b[0m 3ms/step - accuracy: 0.9863 - loss: 0.0445 - val_accuracy: 0.9873 - val_loss: 0.0407\n"
     ]
    },
    {
     "name": "stderr",
     "output_type": "stream",
     "text": [
      " 65%|██████▌   | 74/113 [50:54<26:09, 40.25s/it]"
     ]
    },
    {
     "name": "stdout",
     "output_type": "stream",
     "text": [
      "Epoch 1/3\n",
      "\u001b[1m4324/4324\u001b[0m \u001b[32m━━━━━━━━━━━━━━━━━━━━\u001b[0m\u001b[37m\u001b[0m \u001b[1m11s\u001b[0m 3ms/step - accuracy: 0.9860 - loss: 0.0473 - val_accuracy: 0.9874 - val_loss: 0.0398\n",
      "Epoch 2/3\n",
      "\u001b[1m4324/4324\u001b[0m \u001b[32m━━━━━━━━━━━━━━━━━━━━\u001b[0m\u001b[37m\u001b[0m \u001b[1m11s\u001b[0m 3ms/step - accuracy: 0.9855 - loss: 0.0484 - val_accuracy: 0.9883 - val_loss: 0.0361\n",
      "Epoch 3/3\n",
      "\u001b[1m4324/4324\u001b[0m \u001b[32m━━━━━━━━━━━━━━━━━━━━\u001b[0m\u001b[37m\u001b[0m \u001b[1m12s\u001b[0m 3ms/step - accuracy: 0.9855 - loss: 0.0462 - val_accuracy: 0.9877 - val_loss: 0.0402\n"
     ]
    },
    {
     "name": "stderr",
     "output_type": "stream",
     "text": [
      " 66%|██████▋   | 75/113 [51:31<24:53, 39.30s/it]"
     ]
    },
    {
     "name": "stdout",
     "output_type": "stream",
     "text": [
      "Epoch 1/3\n",
      "\u001b[1m7776/7776\u001b[0m \u001b[32m━━━━━━━━━━━━━━━━━━━━\u001b[0m\u001b[37m\u001b[0m \u001b[1m20s\u001b[0m 3ms/step - accuracy: 0.9848 - loss: 0.0504 - val_accuracy: 0.9882 - val_loss: 0.0397\n",
      "Epoch 2/3\n",
      "\u001b[1m7776/7776\u001b[0m \u001b[32m━━━━━━━━━━━━━━━━━━━━\u001b[0m\u001b[37m\u001b[0m \u001b[1m21s\u001b[0m 3ms/step - accuracy: 0.9859 - loss: 0.0478 - val_accuracy: 0.9823 - val_loss: 0.0647\n",
      "Epoch 3/3\n",
      "\u001b[1m7776/7776\u001b[0m \u001b[32m━━━━━━━━━━━━━━━━━━━━\u001b[0m\u001b[37m\u001b[0m \u001b[1m21s\u001b[0m 3ms/step - accuracy: 0.9858 - loss: 0.0477 - val_accuracy: 0.9886 - val_loss: 0.0376\n"
     ]
    },
    {
     "name": "stderr",
     "output_type": "stream",
     "text": [
      " 67%|██████▋   | 76/113 [52:38<29:23, 47.65s/it]"
     ]
    },
    {
     "name": "stdout",
     "output_type": "stream",
     "text": [
      "Epoch 1/3\n",
      "\u001b[1m7819/7819\u001b[0m \u001b[32m━━━━━━━━━━━━━━━━━━━━\u001b[0m\u001b[37m\u001b[0m \u001b[1m20s\u001b[0m 3ms/step - accuracy: 0.9840 - loss: 0.0529 - val_accuracy: 0.9886 - val_loss: 0.0365\n",
      "Epoch 2/3\n",
      "\u001b[1m7819/7819\u001b[0m \u001b[32m━━━━━━━━━━━━━━━━━━━━\u001b[0m\u001b[37m\u001b[0m \u001b[1m21s\u001b[0m 3ms/step - accuracy: 0.9858 - loss: 0.0475 - val_accuracy: 0.9891 - val_loss: 0.0341\n",
      "Epoch 3/3\n",
      "\u001b[1m7819/7819\u001b[0m \u001b[32m━━━━━━━━━━━━━━━━━━━━\u001b[0m\u001b[37m\u001b[0m \u001b[1m21s\u001b[0m 3ms/step - accuracy: 0.9852 - loss: 0.0477 - val_accuracy: 0.9884 - val_loss: 0.0377\n"
     ]
    },
    {
     "name": "stderr",
     "output_type": "stream",
     "text": [
      " 68%|██████▊   | 77/113 [53:46<32:15, 53.76s/it]"
     ]
    },
    {
     "name": "stdout",
     "output_type": "stream",
     "text": [
      "Epoch 1/3\n",
      "\u001b[1m7625/7625\u001b[0m \u001b[32m━━━━━━━━━━━━━━━━━━━━\u001b[0m\u001b[37m\u001b[0m \u001b[1m20s\u001b[0m 3ms/step - accuracy: 0.9853 - loss: 0.0496 - val_accuracy: 0.9871 - val_loss: 0.0404\n",
      "Epoch 2/3\n",
      "\u001b[1m7625/7625\u001b[0m \u001b[32m━━━━━━━━━━━━━━━━━━━━\u001b[0m\u001b[37m\u001b[0m \u001b[1m20s\u001b[0m 3ms/step - accuracy: 0.9860 - loss: 0.0475 - val_accuracy: 0.9879 - val_loss: 0.0387\n",
      "Epoch 3/3\n",
      "\u001b[1m7625/7625\u001b[0m \u001b[32m━━━━━━━━━━━━━━━━━━━━\u001b[0m\u001b[37m\u001b[0m \u001b[1m20s\u001b[0m 3ms/step - accuracy: 0.9860 - loss: 0.0457 - val_accuracy: 0.9871 - val_loss: 0.0422\n"
     ]
    },
    {
     "name": "stderr",
     "output_type": "stream",
     "text": [
      " 69%|██████▉   | 78/113 [54:51<33:21, 57.19s/it]"
     ]
    },
    {
     "name": "stdout",
     "output_type": "stream",
     "text": [
      "Epoch 1/3\n",
      "\u001b[1m7610/7610\u001b[0m \u001b[32m━━━━━━━━━━━━━━━━━━━━\u001b[0m\u001b[37m\u001b[0m \u001b[1m20s\u001b[0m 3ms/step - accuracy: 0.9855 - loss: 0.0493 - val_accuracy: 0.9863 - val_loss: 0.0438\n",
      "Epoch 2/3\n",
      "\u001b[1m7610/7610\u001b[0m \u001b[32m━━━━━━━━━━━━━━━━━━━━\u001b[0m\u001b[37m\u001b[0m \u001b[1m20s\u001b[0m 3ms/step - accuracy: 0.9855 - loss: 0.0486 - val_accuracy: 0.9880 - val_loss: 0.0408\n",
      "Epoch 3/3\n",
      "\u001b[1m7610/7610\u001b[0m \u001b[32m━━━━━━━━━━━━━━━━━━━━\u001b[0m\u001b[37m\u001b[0m \u001b[1m20s\u001b[0m 3ms/step - accuracy: 0.9849 - loss: 0.0517 - val_accuracy: 0.9737 - val_loss: 0.0793\n"
     ]
    },
    {
     "name": "stderr",
     "output_type": "stream",
     "text": [
      " 70%|██████▉   | 79/113 [55:57<33:50, 59.71s/it]"
     ]
    },
    {
     "name": "stdout",
     "output_type": "stream",
     "text": [
      "Epoch 1/3\n",
      "\u001b[1m7894/7894\u001b[0m \u001b[32m━━━━━━━━━━━━━━━━━━━━\u001b[0m\u001b[37m\u001b[0m \u001b[1m21s\u001b[0m 3ms/step - accuracy: 0.9838 - loss: 0.0545 - val_accuracy: 0.9880 - val_loss: 0.0366\n",
      "Epoch 2/3\n",
      "\u001b[1m7894/7894\u001b[0m \u001b[32m━━━━━━━━━━━━━━━━━━━━\u001b[0m\u001b[37m\u001b[0m \u001b[1m21s\u001b[0m 3ms/step - accuracy: 0.9855 - loss: 0.0483 - val_accuracy: 0.9883 - val_loss: 0.0389\n",
      "Epoch 3/3\n",
      "\u001b[1m7894/7894\u001b[0m \u001b[32m━━━━━━━━━━━━━━━━━━━━\u001b[0m\u001b[37m\u001b[0m \u001b[1m20s\u001b[0m 3ms/step - accuracy: 0.9856 - loss: 0.0486 - val_accuracy: 0.9880 - val_loss: 0.0369\n"
     ]
    },
    {
     "name": "stderr",
     "output_type": "stream",
     "text": [
      " 71%|███████   | 80/113 [57:06<34:19, 62.40s/it]"
     ]
    },
    {
     "name": "stdout",
     "output_type": "stream",
     "text": [
      "Epoch 1/3\n",
      "\u001b[1m4125/4125\u001b[0m \u001b[32m━━━━━━━━━━━━━━━━━━━━\u001b[0m\u001b[37m\u001b[0m \u001b[1m11s\u001b[0m 3ms/step - accuracy: 0.9852 - loss: 0.0501 - val_accuracy: 0.9867 - val_loss: 0.0429\n",
      "Epoch 2/3\n",
      "\u001b[1m4125/4125\u001b[0m \u001b[32m━━━━━━━━━━━━━━━━━━━━\u001b[0m\u001b[37m\u001b[0m \u001b[1m11s\u001b[0m 3ms/step - accuracy: 0.9860 - loss: 0.0462 - val_accuracy: 0.9843 - val_loss: 0.0468\n",
      "Epoch 3/3\n",
      "\u001b[1m4125/4125\u001b[0m \u001b[32m━━━━━━━━━━━━━━━━━━━━\u001b[0m\u001b[37m\u001b[0m \u001b[1m11s\u001b[0m 3ms/step - accuracy: 0.9860 - loss: 0.0457 - val_accuracy: 0.9864 - val_loss: 0.0455\n"
     ]
    },
    {
     "name": "stderr",
     "output_type": "stream",
     "text": [
      " 72%|███████▏  | 81/113 [57:41<29:00, 54.40s/it]"
     ]
    },
    {
     "name": "stdout",
     "output_type": "stream",
     "text": [
      "Epoch 1/3\n",
      "\u001b[1m4038/4038\u001b[0m \u001b[32m━━━━━━━━━━━━━━━━━━━━\u001b[0m\u001b[37m\u001b[0m \u001b[1m11s\u001b[0m 3ms/step - accuracy: 0.9844 - loss: 0.0543 - val_accuracy: 0.9887 - val_loss: 0.0368\n",
      "Epoch 2/3\n",
      "\u001b[1m4038/4038\u001b[0m \u001b[32m━━━━━━━━━━━━━━━━━━━━\u001b[0m\u001b[37m\u001b[0m \u001b[1m10s\u001b[0m 3ms/step - accuracy: 0.9861 - loss: 0.0463 - val_accuracy: 0.9868 - val_loss: 0.0389\n",
      "Epoch 3/3\n",
      "\u001b[1m4038/4038\u001b[0m \u001b[32m━━━━━━━━━━━━━━━━━━━━\u001b[0m\u001b[37m\u001b[0m \u001b[1m11s\u001b[0m 3ms/step - accuracy: 0.9854 - loss: 0.0461 - val_accuracy: 0.9873 - val_loss: 0.0425\n"
     ]
    },
    {
     "name": "stderr",
     "output_type": "stream",
     "text": [
      " 73%|███████▎  | 82/113 [58:16<25:04, 48.52s/it]"
     ]
    },
    {
     "name": "stdout",
     "output_type": "stream",
     "text": [
      "Epoch 1/3\n",
      "\u001b[1m4029/4029\u001b[0m \u001b[32m━━━━━━━━━━━━━━━━━━━━\u001b[0m\u001b[37m\u001b[0m \u001b[1m11s\u001b[0m 3ms/step - accuracy: 0.9852 - loss: 0.0485 - val_accuracy: 0.9879 - val_loss: 0.0405\n",
      "Epoch 2/3\n",
      "\u001b[1m4029/4029\u001b[0m \u001b[32m━━━━━━━━━━━━━━━━━━━━\u001b[0m\u001b[37m\u001b[0m \u001b[1m10s\u001b[0m 3ms/step - accuracy: 0.9851 - loss: 0.0493 - val_accuracy: 0.9877 - val_loss: 0.0389\n",
      "Epoch 3/3\n",
      "\u001b[1m4029/4029\u001b[0m \u001b[32m━━━━━━━━━━━━━━━━━━━━\u001b[0m\u001b[37m\u001b[0m \u001b[1m11s\u001b[0m 3ms/step - accuracy: 0.9854 - loss: 0.0472 - val_accuracy: 0.9879 - val_loss: 0.0478\n"
     ]
    },
    {
     "name": "stderr",
     "output_type": "stream",
     "text": [
      " 73%|███████▎  | 83/113 [58:52<22:16, 44.56s/it]"
     ]
    },
    {
     "name": "stdout",
     "output_type": "stream",
     "text": [
      "Epoch 1/3\n",
      "\u001b[1m4002/4002\u001b[0m \u001b[32m━━━━━━━━━━━━━━━━━━━━\u001b[0m\u001b[37m\u001b[0m \u001b[1m11s\u001b[0m 3ms/step - accuracy: 0.9835 - loss: 0.0574 - val_accuracy: 0.9880 - val_loss: 0.0425\n",
      "Epoch 2/3\n",
      "\u001b[1m4002/4002\u001b[0m \u001b[32m━━━━━━━━━━━━━━━━━━━━\u001b[0m\u001b[37m\u001b[0m \u001b[1m10s\u001b[0m 3ms/step - accuracy: 0.9857 - loss: 0.0477 - val_accuracy: 0.9879 - val_loss: 0.0401\n",
      "Epoch 3/3\n",
      "\u001b[1m4002/4002\u001b[0m \u001b[32m━━━━━━━━━━━━━━━━━━━━\u001b[0m\u001b[37m\u001b[0m \u001b[1m10s\u001b[0m 3ms/step - accuracy: 0.9860 - loss: 0.0464 - val_accuracy: 0.9883 - val_loss: 0.0402\n"
     ]
    },
    {
     "name": "stderr",
     "output_type": "stream",
     "text": [
      " 74%|███████▍  | 84/113 [59:26<20:04, 41.53s/it]"
     ]
    },
    {
     "name": "stdout",
     "output_type": "stream",
     "text": [
      "Epoch 1/3\n",
      "\u001b[1m3935/3935\u001b[0m \u001b[32m━━━━━━━━━━━━━━━━━━━━\u001b[0m\u001b[37m\u001b[0m \u001b[1m11s\u001b[0m 3ms/step - accuracy: 0.9854 - loss: 0.0496 - val_accuracy: 0.9834 - val_loss: 0.0512\n",
      "Epoch 2/3\n",
      "\u001b[1m3935/3935\u001b[0m \u001b[32m━━━━━━━━━━━━━━━━━━━━\u001b[0m\u001b[37m\u001b[0m \u001b[1m10s\u001b[0m 3ms/step - accuracy: 0.9843 - loss: 0.0499 - val_accuracy: 0.9873 - val_loss: 0.0395\n",
      "Epoch 3/3\n",
      "\u001b[1m3935/3935\u001b[0m \u001b[32m━━━━━━━━━━━━━━━━━━━━\u001b[0m\u001b[37m\u001b[0m \u001b[1m10s\u001b[0m 3ms/step - accuracy: 0.9854 - loss: 0.0499 - val_accuracy: 0.9880 - val_loss: 0.0410\n"
     ]
    },
    {
     "name": "stderr",
     "output_type": "stream",
     "text": [
      " 75%|███████▌  | 85/113 [1:00:00<18:21, 39.35s/it]"
     ]
    },
    {
     "name": "stdout",
     "output_type": "stream",
     "text": [
      "Epoch 1/3\n",
      "\u001b[1m4252/4252\u001b[0m \u001b[32m━━━━━━━━━━━━━━━━━━━━\u001b[0m\u001b[37m\u001b[0m \u001b[1m11s\u001b[0m 3ms/step - accuracy: 0.9852 - loss: 0.0518 - val_accuracy: 0.9878 - val_loss: 0.0404\n",
      "Epoch 2/3\n",
      "\u001b[1m4252/4252\u001b[0m \u001b[32m━━━━━━━━━━━━━━━━━━━━\u001b[0m\u001b[37m\u001b[0m \u001b[1m11s\u001b[0m 3ms/step - accuracy: 0.9860 - loss: 0.0463 - val_accuracy: 0.9873 - val_loss: 0.0405\n",
      "Epoch 3/3\n",
      "\u001b[1m4252/4252\u001b[0m \u001b[32m━━━━━━━━━━━━━━━━━━━━\u001b[0m\u001b[37m\u001b[0m \u001b[1m11s\u001b[0m 3ms/step - accuracy: 0.9856 - loss: 0.0479 - val_accuracy: 0.9867 - val_loss: 0.0417\n"
     ]
    },
    {
     "name": "stderr",
     "output_type": "stream",
     "text": [
      " 76%|███████▌  | 86/113 [1:00:37<17:21, 38.59s/it]"
     ]
    },
    {
     "name": "stdout",
     "output_type": "stream",
     "text": [
      "Epoch 1/3\n",
      "\u001b[1m4253/4253\u001b[0m \u001b[32m━━━━━━━━━━━━━━━━━━━━\u001b[0m\u001b[37m\u001b[0m \u001b[1m11s\u001b[0m 3ms/step - accuracy: 0.9845 - loss: 0.0521 - val_accuracy: 0.9860 - val_loss: 0.0448\n",
      "Epoch 2/3\n",
      "\u001b[1m4253/4253\u001b[0m \u001b[32m━━━━━━━━━━━━━━━━━━━━\u001b[0m\u001b[37m\u001b[0m \u001b[1m11s\u001b[0m 3ms/step - accuracy: 0.9854 - loss: 0.0502 - val_accuracy: 0.9867 - val_loss: 0.0535\n",
      "Epoch 3/3\n",
      "\u001b[1m4253/4253\u001b[0m \u001b[32m━━━━━━━━━━━━━━━━━━━━\u001b[0m\u001b[37m\u001b[0m \u001b[1m11s\u001b[0m 3ms/step - accuracy: 0.9854 - loss: 0.0504 - val_accuracy: 0.9864 - val_loss: 0.0455\n"
     ]
    },
    {
     "name": "stderr",
     "output_type": "stream",
     "text": [
      " 77%|███████▋  | 87/113 [1:01:14<16:26, 37.93s/it]"
     ]
    },
    {
     "name": "stdout",
     "output_type": "stream",
     "text": [
      "Epoch 1/3\n",
      "\u001b[1m4136/4136\u001b[0m \u001b[32m━━━━━━━━━━━━━━━━━━━━\u001b[0m\u001b[37m\u001b[0m \u001b[1m11s\u001b[0m 3ms/step - accuracy: 0.9848 - loss: 0.0531 - val_accuracy: 0.9883 - val_loss: 0.0387\n",
      "Epoch 2/3\n",
      "\u001b[1m4136/4136\u001b[0m \u001b[32m━━━━━━━━━━━━━━━━━━━━\u001b[0m\u001b[37m\u001b[0m \u001b[1m11s\u001b[0m 3ms/step - accuracy: 0.9855 - loss: 0.0484 - val_accuracy: 0.9882 - val_loss: 0.0381\n",
      "Epoch 3/3\n",
      "\u001b[1m4136/4136\u001b[0m \u001b[32m━━━━━━━━━━━━━━━━━━━━\u001b[0m\u001b[37m\u001b[0m \u001b[1m11s\u001b[0m 3ms/step - accuracy: 0.9853 - loss: 0.0472 - val_accuracy: 0.9861 - val_loss: 0.0465\n"
     ]
    },
    {
     "name": "stderr",
     "output_type": "stream",
     "text": [
      " 78%|███████▊  | 88/113 [1:01:49<15:31, 37.25s/it]"
     ]
    },
    {
     "name": "stdout",
     "output_type": "stream",
     "text": [
      "Epoch 1/3\n",
      "\u001b[1m3972/3972\u001b[0m \u001b[32m━━━━━━━━━━━━━━━━━━━━\u001b[0m\u001b[37m\u001b[0m \u001b[1m11s\u001b[0m 3ms/step - accuracy: 0.9844 - loss: 0.0530 - val_accuracy: 0.9871 - val_loss: 0.0543\n",
      "Epoch 2/3\n",
      "\u001b[1m3972/3972\u001b[0m \u001b[32m━━━━━━━━━━━━━━━━━━━━\u001b[0m\u001b[37m\u001b[0m \u001b[1m10s\u001b[0m 3ms/step - accuracy: 0.9845 - loss: 0.0549 - val_accuracy: 0.9888 - val_loss: 0.0387\n",
      "Epoch 3/3\n",
      "\u001b[1m3972/3972\u001b[0m \u001b[32m━━━━━━━━━━━━━━━━━━━━\u001b[0m\u001b[37m\u001b[0m \u001b[1m10s\u001b[0m 3ms/step - accuracy: 0.9864 - loss: 0.0459 - val_accuracy: 0.9885 - val_loss: 0.0386\n"
     ]
    },
    {
     "name": "stderr",
     "output_type": "stream",
     "text": [
      " 79%|███████▉  | 89/113 [1:02:24<14:32, 36.37s/it]"
     ]
    },
    {
     "name": "stdout",
     "output_type": "stream",
     "text": [
      "Epoch 1/3\n",
      "\u001b[1m4242/4242\u001b[0m \u001b[32m━━━━━━━━━━━━━━━━━━━━\u001b[0m\u001b[37m\u001b[0m \u001b[1m11s\u001b[0m 3ms/step - accuracy: 0.9847 - loss: 0.0527 - val_accuracy: 0.9875 - val_loss: 0.0395\n",
      "Epoch 2/3\n",
      "\u001b[1m4242/4242\u001b[0m \u001b[32m━━━━━━━━━━━━━━━━━━━━\u001b[0m\u001b[37m\u001b[0m \u001b[1m11s\u001b[0m 3ms/step - accuracy: 0.9853 - loss: 0.0489 - val_accuracy: 0.9873 - val_loss: 0.0400\n",
      "Epoch 3/3\n",
      "\u001b[1m4242/4242\u001b[0m \u001b[32m━━━━━━━━━━━━━━━━━━━━\u001b[0m\u001b[37m\u001b[0m \u001b[1m11s\u001b[0m 3ms/step - accuracy: 0.9854 - loss: 0.0483 - val_accuracy: 0.9867 - val_loss: 0.0422\n"
     ]
    },
    {
     "name": "stderr",
     "output_type": "stream",
     "text": [
      " 80%|███████▉  | 90/113 [1:03:00<13:58, 36.46s/it]"
     ]
    },
    {
     "name": "stdout",
     "output_type": "stream",
     "text": [
      "Epoch 1/3\n",
      "\u001b[1m4214/4214\u001b[0m \u001b[32m━━━━━━━━━━━━━━━━━━━━\u001b[0m\u001b[37m\u001b[0m \u001b[1m11s\u001b[0m 3ms/step - accuracy: 0.9857 - loss: 0.0491 - val_accuracy: 0.9858 - val_loss: 0.0447\n",
      "Epoch 2/3\n",
      "\u001b[1m4214/4214\u001b[0m \u001b[32m━━━━━━━━━━━━━━━━━━━━\u001b[0m\u001b[37m\u001b[0m \u001b[1m11s\u001b[0m 3ms/step - accuracy: 0.9854 - loss: 0.0491 - val_accuracy: 0.9883 - val_loss: 0.0392\n",
      "Epoch 3/3\n",
      "\u001b[1m4214/4214\u001b[0m \u001b[32m━━━━━━━━━━━━━━━━━━━━\u001b[0m\u001b[37m\u001b[0m \u001b[1m21s\u001b[0m 3ms/step - accuracy: 0.9852 - loss: 0.0493 - val_accuracy: 0.9877 - val_loss: 0.0390\n"
     ]
    },
    {
     "name": "stderr",
     "output_type": "stream",
     "text": [
      " 81%|████████  | 91/113 [1:03:46<14:26, 39.41s/it]"
     ]
    },
    {
     "name": "stdout",
     "output_type": "stream",
     "text": [
      "Epoch 1/3\n",
      "\u001b[1m4551/4551\u001b[0m \u001b[32m━━━━━━━━━━━━━━━━━━━━\u001b[0m\u001b[37m\u001b[0m \u001b[1m12s\u001b[0m 3ms/step - accuracy: 0.9841 - loss: 0.0555 - val_accuracy: 0.9879 - val_loss: 0.0416\n",
      "Epoch 2/3\n",
      "\u001b[1m4551/4551\u001b[0m \u001b[32m━━━━━━━━━━━━━━━━━━━━\u001b[0m\u001b[37m\u001b[0m \u001b[1m12s\u001b[0m 3ms/step - accuracy: 0.9853 - loss: 0.0488 - val_accuracy: 0.9878 - val_loss: 0.0398\n",
      "Epoch 3/3\n",
      "\u001b[1m4551/4551\u001b[0m \u001b[32m━━━━━━━━━━━━━━━━━━━━\u001b[0m\u001b[37m\u001b[0m \u001b[1m12s\u001b[0m 3ms/step - accuracy: 0.9854 - loss: 0.0475 - val_accuracy: 0.9873 - val_loss: 0.0410\n"
     ]
    },
    {
     "name": "stderr",
     "output_type": "stream",
     "text": [
      " 81%|████████▏ | 92/113 [1:04:26<13:49, 39.48s/it]"
     ]
    },
    {
     "name": "stdout",
     "output_type": "stream",
     "text": [
      "Epoch 1/3\n",
      "\u001b[1m3708/3708\u001b[0m \u001b[32m━━━━━━━━━━━━━━━━━━━━\u001b[0m\u001b[37m\u001b[0m \u001b[1m10s\u001b[0m 3ms/step - accuracy: 0.9850 - loss: 0.0549 - val_accuracy: 0.9880 - val_loss: 0.0379\n",
      "Epoch 2/3\n",
      "\u001b[1m3708/3708\u001b[0m \u001b[32m━━━━━━━━━━━━━━━━━━━━\u001b[0m\u001b[37m\u001b[0m \u001b[1m9s\u001b[0m 3ms/step - accuracy: 0.9852 - loss: 0.0510 - val_accuracy: 0.9860 - val_loss: 0.0448\n",
      "Epoch 3/3\n",
      "\u001b[1m3708/3708\u001b[0m \u001b[32m━━━━━━━━━━━━━━━━━━━━\u001b[0m\u001b[37m\u001b[0m \u001b[1m10s\u001b[0m 3ms/step - accuracy: 0.9859 - loss: 0.0480 - val_accuracy: 0.9873 - val_loss: 0.0406\n"
     ]
    },
    {
     "name": "stderr",
     "output_type": "stream",
     "text": [
      " 82%|████████▏ | 93/113 [1:04:58<12:26, 37.32s/it]"
     ]
    },
    {
     "name": "stdout",
     "output_type": "stream",
     "text": [
      "Epoch 1/3\n",
      "\u001b[1m4443/4443\u001b[0m \u001b[32m━━━━━━━━━━━━━━━━━━━━\u001b[0m\u001b[37m\u001b[0m \u001b[1m12s\u001b[0m 3ms/step - accuracy: 0.9851 - loss: 0.0508 - val_accuracy: 0.9883 - val_loss: 0.0428\n",
      "Epoch 2/3\n",
      "\u001b[1m4443/4443\u001b[0m \u001b[32m━━━━━━━━━━━━━━━━━━━━\u001b[0m\u001b[37m\u001b[0m \u001b[1m11s\u001b[0m 3ms/step - accuracy: 0.9857 - loss: 0.0470 - val_accuracy: 0.9873 - val_loss: 0.0427\n",
      "Epoch 3/3\n",
      "\u001b[1m4443/4443\u001b[0m \u001b[32m━━━━━━━━━━━━━━━━━━━━\u001b[0m\u001b[37m\u001b[0m \u001b[1m12s\u001b[0m 3ms/step - accuracy: 0.9855 - loss: 0.0508 - val_accuracy: 0.9879 - val_loss: 0.0379\n"
     ]
    },
    {
     "name": "stderr",
     "output_type": "stream",
     "text": [
      " 83%|████████▎ | 94/113 [1:05:37<11:58, 37.82s/it]"
     ]
    },
    {
     "name": "stdout",
     "output_type": "stream",
     "text": [
      "Epoch 1/3\n",
      "\u001b[1m7501/7501\u001b[0m \u001b[32m━━━━━━━━━━━━━━━━━━━━\u001b[0m\u001b[37m\u001b[0m \u001b[1m19s\u001b[0m 3ms/step - accuracy: 0.9843 - loss: 0.0542 - val_accuracy: 0.9874 - val_loss: 0.0393\n",
      "Epoch 2/3\n",
      "\u001b[1m7501/7501\u001b[0m \u001b[32m━━━━━━━━━━━━━━━━━━━━\u001b[0m\u001b[37m\u001b[0m \u001b[1m20s\u001b[0m 3ms/step - accuracy: 0.9852 - loss: 0.0493 - val_accuracy: 0.9871 - val_loss: 0.0401\n",
      "Epoch 3/3\n",
      "\u001b[1m7501/7501\u001b[0m \u001b[32m━━━━━━━━━━━━━━━━━━━━\u001b[0m\u001b[37m\u001b[0m \u001b[1m19s\u001b[0m 3ms/step - accuracy: 0.9850 - loss: 0.0513 - val_accuracy: 0.9873 - val_loss: 0.0397\n"
     ]
    },
    {
     "name": "stderr",
     "output_type": "stream",
     "text": [
      " 84%|████████▍ | 95/113 [1:06:42<13:44, 45.81s/it]"
     ]
    },
    {
     "name": "stdout",
     "output_type": "stream",
     "text": [
      "Epoch 1/3\n",
      "\u001b[1m7774/7774\u001b[0m \u001b[32m━━━━━━━━━━━━━━━━━━━━\u001b[0m\u001b[37m\u001b[0m \u001b[1m0s\u001b[0m 2ms/step - accuracy: 0.9851 - loss: 0.0519"
     ]
    },
    {
     "name": "stderr",
     "output_type": "stream",
     "text": [
      "W0000 00:00:1710662211.420378      73 graph_launch.cc:671] Fallback to op-by-op mode because memset node breaks graph update\n"
     ]
    },
    {
     "name": "stdout",
     "output_type": "stream",
     "text": [
      "\u001b[1m7774/7774\u001b[0m \u001b[32m━━━━━━━━━━━━━━━━━━━━\u001b[0m\u001b[37m\u001b[0m \u001b[1m23s\u001b[0m 3ms/step - accuracy: 0.9851 - loss: 0.0519 - val_accuracy: 0.9885 - val_loss: 0.0379\n",
      "Epoch 2/3\n",
      "\u001b[1m7774/7774\u001b[0m \u001b[32m━━━━━━━━━━━━━━━━━━━━\u001b[0m\u001b[37m\u001b[0m \u001b[1m20s\u001b[0m 3ms/step - accuracy: 0.9858 - loss: 0.0497 - val_accuracy: 0.9882 - val_loss: 0.0397\n",
      "Epoch 3/3\n",
      "\u001b[1m7774/7774\u001b[0m \u001b[32m━━━━━━━━━━━━━━━━━━━━\u001b[0m\u001b[37m\u001b[0m \u001b[1m20s\u001b[0m 3ms/step - accuracy: 0.9858 - loss: 0.0480 - val_accuracy: 0.9884 - val_loss: 0.0378\n"
     ]
    },
    {
     "name": "stderr",
     "output_type": "stream",
     "text": [
      " 85%|████████▍ | 96/113 [1:07:52<15:01, 53.01s/it]"
     ]
    },
    {
     "name": "stdout",
     "output_type": "stream",
     "text": [
      "Epoch 1/3\n",
      "\u001b[1m4465/4465\u001b[0m \u001b[32m━━━━━━━━━━━━━━━━━━━━\u001b[0m\u001b[37m\u001b[0m \u001b[1m12s\u001b[0m 3ms/step - accuracy: 0.9850 - loss: 0.0505 - val_accuracy: 0.9871 - val_loss: 0.0433\n",
      "Epoch 2/3\n",
      "\u001b[1m4465/4465\u001b[0m \u001b[32m━━━━━━━━━━━━━━━━━━━━\u001b[0m\u001b[37m\u001b[0m \u001b[1m12s\u001b[0m 3ms/step - accuracy: 0.9859 - loss: 0.0473 - val_accuracy: 0.9878 - val_loss: 0.0433\n",
      "Epoch 3/3\n",
      "\u001b[1m4465/4465\u001b[0m \u001b[32m━━━━━━━━━━━━━━━━━━━━\u001b[0m\u001b[37m\u001b[0m \u001b[1m12s\u001b[0m 3ms/step - accuracy: 0.9861 - loss: 0.0468 - val_accuracy: 0.9883 - val_loss: 0.0375\n"
     ]
    },
    {
     "name": "stderr",
     "output_type": "stream",
     "text": [
      " 86%|████████▌ | 97/113 [1:08:31<13:00, 48.77s/it]"
     ]
    },
    {
     "name": "stdout",
     "output_type": "stream",
     "text": [
      "Epoch 1/3\n",
      "\u001b[1m4281/4281\u001b[0m \u001b[32m━━━━━━━━━━━━━━━━━━━━\u001b[0m\u001b[37m\u001b[0m \u001b[1m12s\u001b[0m 3ms/step - accuracy: 0.9849 - loss: 0.0511 - val_accuracy: 0.9878 - val_loss: 0.0389\n",
      "Epoch 2/3\n",
      "\u001b[1m4281/4281\u001b[0m \u001b[32m━━━━━━━━━━━━━━━━━━━━\u001b[0m\u001b[37m\u001b[0m \u001b[1m11s\u001b[0m 3ms/step - accuracy: 0.9847 - loss: 0.0515 - val_accuracy: 0.9874 - val_loss: 0.0401\n",
      "Epoch 3/3\n",
      "\u001b[1m4281/4281\u001b[0m \u001b[32m━━━━━━━━━━━━━━━━━━━━\u001b[0m\u001b[37m\u001b[0m \u001b[1m11s\u001b[0m 3ms/step - accuracy: 0.9861 - loss: 0.0478 - val_accuracy: 0.9843 - val_loss: 0.0498\n"
     ]
    },
    {
     "name": "stderr",
     "output_type": "stream",
     "text": [
      " 87%|████████▋ | 98/113 [1:09:08<11:20, 45.36s/it]"
     ]
    },
    {
     "name": "stdout",
     "output_type": "stream",
     "text": [
      "Epoch 1/3\n",
      "\u001b[1m7819/7819\u001b[0m \u001b[32m━━━━━━━━━━━━━━━━━━━━\u001b[0m\u001b[37m\u001b[0m \u001b[1m21s\u001b[0m 3ms/step - accuracy: 0.9853 - loss: 0.0508 - val_accuracy: 0.9891 - val_loss: 0.0388\n",
      "Epoch 2/3\n",
      "\u001b[1m7819/7819\u001b[0m \u001b[32m━━━━━━━━━━━━━━━━━━━━\u001b[0m\u001b[37m\u001b[0m \u001b[1m21s\u001b[0m 3ms/step - accuracy: 0.9854 - loss: 0.0498 - val_accuracy: 0.9877 - val_loss: 0.0441\n",
      "Epoch 3/3\n",
      "\u001b[1m7819/7819\u001b[0m \u001b[32m━━━━━━━━━━━━━━━━━━━━\u001b[0m\u001b[37m\u001b[0m \u001b[1m20s\u001b[0m 3ms/step - accuracy: 0.9852 - loss: 0.0506 - val_accuracy: 0.9875 - val_loss: 0.0397\n"
     ]
    },
    {
     "name": "stderr",
     "output_type": "stream",
     "text": [
      " 88%|████████▊ | 99/113 [1:10:15<12:08, 52.02s/it]"
     ]
    },
    {
     "name": "stdout",
     "output_type": "stream",
     "text": [
      "Epoch 1/3\n",
      "\u001b[1m4231/4231\u001b[0m \u001b[32m━━━━━━━━━━━━━━━━━━━━\u001b[0m\u001b[37m\u001b[0m \u001b[1m14s\u001b[0m 3ms/step - accuracy: 0.9850 - loss: 0.0536 - val_accuracy: 0.9875 - val_loss: 0.0423\n",
      "Epoch 2/3\n",
      "\u001b[1m4231/4231\u001b[0m \u001b[32m━━━━━━━━━━━━━━━━━━━━\u001b[0m\u001b[37m\u001b[0m \u001b[1m11s\u001b[0m 3ms/step - accuracy: 0.9856 - loss: 0.0493 - val_accuracy: 0.9884 - val_loss: 0.0389\n",
      "Epoch 3/3\n",
      "\u001b[1m4231/4231\u001b[0m \u001b[32m━━━━━━━━━━━━━━━━━━━━\u001b[0m\u001b[37m\u001b[0m \u001b[1m11s\u001b[0m 3ms/step - accuracy: 0.9857 - loss: 0.0479 - val_accuracy: 0.9886 - val_loss: 0.0400\n"
     ]
    },
    {
     "name": "stderr",
     "output_type": "stream",
     "text": [
      " 88%|████████▊ | 100/113 [1:10:55<10:26, 48.15s/it]"
     ]
    },
    {
     "name": "stdout",
     "output_type": "stream",
     "text": [
      "Epoch 1/3\n",
      "\u001b[1m3954/3954\u001b[0m \u001b[32m━━━━━━━━━━━━━━━━━━━━\u001b[0m\u001b[37m\u001b[0m \u001b[1m11s\u001b[0m 3ms/step - accuracy: 0.9852 - loss: 0.0513 - val_accuracy: 0.9868 - val_loss: 0.0406\n",
      "Epoch 2/3\n",
      "\u001b[1m3954/3954\u001b[0m \u001b[32m━━━━━━━━━━━━━━━━━━━━\u001b[0m\u001b[37m\u001b[0m \u001b[1m10s\u001b[0m 3ms/step - accuracy: 0.9853 - loss: 0.0500 - val_accuracy: 0.9873 - val_loss: 0.0389\n",
      "Epoch 3/3\n",
      "\u001b[1m3954/3954\u001b[0m \u001b[32m━━━━━━━━━━━━━━━━━━━━\u001b[0m\u001b[37m\u001b[0m \u001b[1m10s\u001b[0m 3ms/step - accuracy: 0.9855 - loss: 0.0472 - val_accuracy: 0.9870 - val_loss: 0.0444\n"
     ]
    },
    {
     "name": "stderr",
     "output_type": "stream",
     "text": [
      " 89%|████████▉ | 101/113 [1:11:29<08:47, 43.97s/it]"
     ]
    },
    {
     "name": "stdout",
     "output_type": "stream",
     "text": [
      "Epoch 1/3\n",
      "\u001b[1m4091/4091\u001b[0m \u001b[32m━━━━━━━━━━━━━━━━━━━━\u001b[0m\u001b[37m\u001b[0m \u001b[1m11s\u001b[0m 3ms/step - accuracy: 0.9842 - loss: 0.0529 - val_accuracy: 0.9879 - val_loss: 0.0411\n",
      "Epoch 2/3\n",
      "\u001b[1m4091/4091\u001b[0m \u001b[32m━━━━━━━━━━━━━━━━━━━━\u001b[0m\u001b[37m\u001b[0m \u001b[1m11s\u001b[0m 3ms/step - accuracy: 0.9848 - loss: 0.0530 - val_accuracy: 0.9876 - val_loss: 0.0387\n",
      "Epoch 3/3\n",
      "\u001b[1m4091/4091\u001b[0m \u001b[32m━━━━━━━━━━━━━━━━━━━━\u001b[0m\u001b[37m\u001b[0m \u001b[1m11s\u001b[0m 3ms/step - accuracy: 0.9853 - loss: 0.0505 - val_accuracy: 0.9873 - val_loss: 0.0417\n"
     ]
    },
    {
     "name": "stderr",
     "output_type": "stream",
     "text": [
      " 90%|█████████ | 102/113 [1:12:04<07:35, 41.42s/it]"
     ]
    },
    {
     "name": "stdout",
     "output_type": "stream",
     "text": [
      "Epoch 1/3\n",
      "\u001b[1m4059/4059\u001b[0m \u001b[32m━━━━━━━━━━━━━━━━━━━━\u001b[0m\u001b[37m\u001b[0m \u001b[1m11s\u001b[0m 3ms/step - accuracy: 0.9857 - loss: 0.0495 - val_accuracy: 0.9861 - val_loss: 0.0433\n",
      "Epoch 2/3\n",
      "\u001b[1m4059/4059\u001b[0m \u001b[32m━━━━━━━━━━━━━━━━━━━━\u001b[0m\u001b[37m\u001b[0m \u001b[1m11s\u001b[0m 3ms/step - accuracy: 0.9848 - loss: 0.0508 - val_accuracy: 0.9883 - val_loss: 0.0411\n",
      "Epoch 3/3\n",
      "\u001b[1m4059/4059\u001b[0m \u001b[32m━━━━━━━━━━━━━━━━━━━━\u001b[0m\u001b[37m\u001b[0m \u001b[1m11s\u001b[0m 3ms/step - accuracy: 0.9856 - loss: 0.0490 - val_accuracy: 0.9862 - val_loss: 0.0441\n"
     ]
    },
    {
     "name": "stderr",
     "output_type": "stream",
     "text": [
      " 91%|█████████ | 103/113 [1:12:39<06:35, 39.54s/it]"
     ]
    },
    {
     "name": "stdout",
     "output_type": "stream",
     "text": [
      "Epoch 1/3\n",
      "\u001b[1m4419/4419\u001b[0m \u001b[32m━━━━━━━━━━━━━━━━━━━━\u001b[0m\u001b[37m\u001b[0m \u001b[1m12s\u001b[0m 3ms/step - accuracy: 0.9856 - loss: 0.0496 - val_accuracy: 0.9862 - val_loss: 0.0429\n",
      "Epoch 2/3\n",
      "\u001b[1m4419/4419\u001b[0m \u001b[32m━━━━━━━━━━━━━━━━━━━━\u001b[0m\u001b[37m\u001b[0m \u001b[1m12s\u001b[0m 3ms/step - accuracy: 0.9858 - loss: 0.0476 - val_accuracy: 0.9855 - val_loss: 0.0501\n",
      "Epoch 3/3\n",
      "\u001b[1m4419/4419\u001b[0m \u001b[32m━━━━━━━━━━━━━━━━━━━━\u001b[0m\u001b[37m\u001b[0m \u001b[1m11s\u001b[0m 3ms/step - accuracy: 0.9854 - loss: 0.0485 - val_accuracy: 0.9864 - val_loss: 0.0488\n"
     ]
    },
    {
     "name": "stderr",
     "output_type": "stream",
     "text": [
      " 92%|█████████▏| 104/113 [1:13:17<05:51, 39.05s/it]"
     ]
    },
    {
     "name": "stdout",
     "output_type": "stream",
     "text": [
      "Epoch 1/3\n",
      "\u001b[1m3912/3912\u001b[0m \u001b[32m━━━━━━━━━━━━━━━━━━━━\u001b[0m\u001b[37m\u001b[0m \u001b[1m11s\u001b[0m 3ms/step - accuracy: 0.9846 - loss: 0.0546 - val_accuracy: 0.9880 - val_loss: 0.0438\n",
      "Epoch 2/3\n",
      "\u001b[1m3912/3912\u001b[0m \u001b[32m━━━━━━━━━━━━━━━━━━━━\u001b[0m\u001b[37m\u001b[0m \u001b[1m10s\u001b[0m 3ms/step - accuracy: 0.9852 - loss: 0.0505 - val_accuracy: 0.9878 - val_loss: 0.0416\n",
      "Epoch 3/3\n",
      "\u001b[1m3912/3912\u001b[0m \u001b[32m━━━━━━━━━━━━━━━━━━━━\u001b[0m\u001b[37m\u001b[0m \u001b[1m10s\u001b[0m 3ms/step - accuracy: 0.9854 - loss: 0.0502 - val_accuracy: 0.9880 - val_loss: 0.0388\n"
     ]
    },
    {
     "name": "stderr",
     "output_type": "stream",
     "text": [
      " 93%|█████████▎| 105/113 [1:13:51<05:00, 37.50s/it]"
     ]
    },
    {
     "name": "stdout",
     "output_type": "stream",
     "text": [
      "Epoch 1/3\n",
      "\u001b[1m4056/4056\u001b[0m \u001b[32m━━━━━━━━━━━━━━━━━━━━\u001b[0m\u001b[37m\u001b[0m \u001b[1m11s\u001b[0m 3ms/step - accuracy: 0.9849 - loss: 0.0533 - val_accuracy: 0.9884 - val_loss: 0.0388\n",
      "Epoch 2/3\n",
      "\u001b[1m4056/4056\u001b[0m \u001b[32m━━━━━━━━━━━━━━━━━━━━\u001b[0m\u001b[37m\u001b[0m \u001b[1m11s\u001b[0m 3ms/step - accuracy: 0.9858 - loss: 0.0470 - val_accuracy: 0.9856 - val_loss: 0.0509\n",
      "Epoch 3/3\n",
      "\u001b[1m4056/4056\u001b[0m \u001b[32m━━━━━━━━━━━━━━━━━━━━\u001b[0m\u001b[37m\u001b[0m \u001b[1m11s\u001b[0m 3ms/step - accuracy: 0.9858 - loss: 0.0491 - val_accuracy: 0.9870 - val_loss: 0.0412\n"
     ]
    },
    {
     "name": "stderr",
     "output_type": "stream",
     "text": [
      " 94%|█████████▍| 106/113 [1:14:27<04:18, 36.90s/it]"
     ]
    },
    {
     "name": "stdout",
     "output_type": "stream",
     "text": [
      "Epoch 1/3\n",
      "\u001b[1m4390/4390\u001b[0m \u001b[32m━━━━━━━━━━━━━━━━━━━━\u001b[0m\u001b[37m\u001b[0m \u001b[1m11s\u001b[0m 3ms/step - accuracy: 0.9847 - loss: 0.0571 - val_accuracy: 0.9872 - val_loss: 0.0430\n",
      "Epoch 2/3\n",
      "\u001b[1m4390/4390\u001b[0m \u001b[32m━━━━━━━━━━━━━━━━━━━━\u001b[0m\u001b[37m\u001b[0m \u001b[1m12s\u001b[0m 3ms/step - accuracy: 0.9851 - loss: 0.0544 - val_accuracy: 0.9873 - val_loss: 0.0410\n",
      "Epoch 3/3\n",
      "\u001b[1m4390/4390\u001b[0m \u001b[32m━━━━━━━━━━━━━━━━━━━━\u001b[0m\u001b[37m\u001b[0m \u001b[1m11s\u001b[0m 3ms/step - accuracy: 0.9853 - loss: 0.0512 - val_accuracy: 0.9874 - val_loss: 0.0424\n"
     ]
    },
    {
     "name": "stderr",
     "output_type": "stream",
     "text": [
      " 95%|█████████▍| 107/113 [1:15:05<03:43, 37.23s/it]"
     ]
    },
    {
     "name": "stdout",
     "output_type": "stream",
     "text": [
      "Epoch 1/3\n",
      "\u001b[1m3912/3912\u001b[0m \u001b[32m━━━━━━━━━━━━━━━━━━━━\u001b[0m\u001b[37m\u001b[0m \u001b[1m10s\u001b[0m 3ms/step - accuracy: 0.9850 - loss: 0.0517 - val_accuracy: 0.9877 - val_loss: 0.0374\n",
      "Epoch 2/3\n",
      "\u001b[1m3912/3912\u001b[0m \u001b[32m━━━━━━━━━━━━━━━━━━━━\u001b[0m\u001b[37m\u001b[0m \u001b[1m11s\u001b[0m 3ms/step - accuracy: 0.9849 - loss: 0.0526 - val_accuracy: 0.9883 - val_loss: 0.0396\n",
      "Epoch 3/3\n",
      "\u001b[1m3912/3912\u001b[0m \u001b[32m━━━━━━━━━━━━━━━━━━━━\u001b[0m\u001b[37m\u001b[0m \u001b[1m10s\u001b[0m 3ms/step - accuracy: 0.9844 - loss: 0.0543 - val_accuracy: 0.9836 - val_loss: 0.0478\n"
     ]
    },
    {
     "name": "stderr",
     "output_type": "stream",
     "text": [
      " 96%|█████████▌| 108/113 [1:15:39<03:01, 36.24s/it]"
     ]
    },
    {
     "name": "stdout",
     "output_type": "stream",
     "text": [
      "Epoch 1/3\n",
      "\u001b[1m4055/4055\u001b[0m \u001b[32m━━━━━━━━━━━━━━━━━━━━\u001b[0m\u001b[37m\u001b[0m \u001b[1m10s\u001b[0m 3ms/step - accuracy: 0.9841 - loss: 0.0551 - val_accuracy: 0.9886 - val_loss: 0.0384\n",
      "Epoch 2/3\n",
      "\u001b[1m4055/4055\u001b[0m \u001b[32m━━━━━━━━━━━━━━━━━━━━\u001b[0m\u001b[37m\u001b[0m \u001b[1m11s\u001b[0m 3ms/step - accuracy: 0.9862 - loss: 0.0472 - val_accuracy: 0.9879 - val_loss: 0.0397\n",
      "Epoch 3/3\n",
      "\u001b[1m4055/4055\u001b[0m \u001b[32m━━━━━━━━━━━━━━━━━━━━\u001b[0m\u001b[37m\u001b[0m \u001b[1m10s\u001b[0m 3ms/step - accuracy: 0.9855 - loss: 0.0499 - val_accuracy: 0.9863 - val_loss: 0.0473\n"
     ]
    },
    {
     "name": "stderr",
     "output_type": "stream",
     "text": [
      " 96%|█████████▋| 109/113 [1:16:14<02:23, 35.92s/it]"
     ]
    },
    {
     "name": "stdout",
     "output_type": "stream",
     "text": [
      "Epoch 1/3\n",
      "\u001b[1m4602/4602\u001b[0m \u001b[32m━━━━━━━━━━━━━━━━━━━━\u001b[0m\u001b[37m\u001b[0m \u001b[1m14s\u001b[0m 3ms/step - accuracy: 0.9831 - loss: 0.0593 - val_accuracy: 0.9858 - val_loss: 0.0438\n",
      "Epoch 2/3\n",
      "\u001b[1m4602/4602\u001b[0m \u001b[32m━━━━━━━━━━━━━━━━━━━━\u001b[0m\u001b[37m\u001b[0m \u001b[1m13s\u001b[0m 3ms/step - accuracy: 0.9849 - loss: 0.0517 - val_accuracy: 0.9865 - val_loss: 0.0418\n",
      "Epoch 3/3\n",
      "\u001b[1m4602/4602\u001b[0m \u001b[32m━━━━━━━━━━━━━━━━━━━━\u001b[0m\u001b[37m\u001b[0m \u001b[1m12s\u001b[0m 3ms/step - accuracy: 0.9844 - loss: 0.0538 - val_accuracy: 0.9872 - val_loss: 0.0404\n"
     ]
    },
    {
     "name": "stderr",
     "output_type": "stream",
     "text": [
      " 97%|█████████▋| 110/113 [1:16:56<01:53, 37.78s/it]"
     ]
    },
    {
     "name": "stdout",
     "output_type": "stream",
     "text": [
      "Epoch 1/3\n",
      "\u001b[1m4144/4144\u001b[0m \u001b[32m━━━━━━━━━━━━━━━━━━━━\u001b[0m\u001b[37m\u001b[0m \u001b[1m11s\u001b[0m 3ms/step - accuracy: 0.9845 - loss: 0.0551 - val_accuracy: 0.9864 - val_loss: 0.0431\n",
      "Epoch 2/3\n",
      "\u001b[1m4144/4144\u001b[0m \u001b[32m━━━━━━━━━━━━━━━━━━━━\u001b[0m\u001b[37m\u001b[0m \u001b[1m11s\u001b[0m 3ms/step - accuracy: 0.9856 - loss: 0.0513 - val_accuracy: 0.9876 - val_loss: 0.0386\n",
      "Epoch 3/3\n",
      "\u001b[1m4144/4144\u001b[0m \u001b[32m━━━━━━━━━━━━━━━━━━━━\u001b[0m\u001b[37m\u001b[0m \u001b[1m11s\u001b[0m 3ms/step - accuracy: 0.9844 - loss: 0.0539 - val_accuracy: 0.9868 - val_loss: 0.0427\n"
     ]
    },
    {
     "name": "stderr",
     "output_type": "stream",
     "text": [
      " 98%|█████████▊| 111/113 [1:17:32<01:14, 37.37s/it]"
     ]
    },
    {
     "name": "stdout",
     "output_type": "stream",
     "text": [
      "Epoch 1/3\n",
      "\u001b[1m4712/4712\u001b[0m \u001b[32m━━━━━━━━━━━━━━━━━━━━\u001b[0m\u001b[37m\u001b[0m \u001b[1m13s\u001b[0m 3ms/step - accuracy: 0.9839 - loss: 0.0553 - val_accuracy: 0.9867 - val_loss: 0.0502\n",
      "Epoch 2/3\n",
      "\u001b[1m4712/4712\u001b[0m \u001b[32m━━━━━━━━━━━━━━━━━━━━\u001b[0m\u001b[37m\u001b[0m \u001b[1m20s\u001b[0m 3ms/step - accuracy: 0.9859 - loss: 0.0482 - val_accuracy: 0.9855 - val_loss: 0.0474\n",
      "Epoch 3/3\n",
      "\u001b[1m4712/4712\u001b[0m \u001b[32m━━━━━━━━━━━━━━━━━━━━\u001b[0m\u001b[37m\u001b[0m \u001b[1m12s\u001b[0m 3ms/step - accuracy: 0.9850 - loss: 0.0542 - val_accuracy: 0.9878 - val_loss: 0.0429\n"
     ]
    },
    {
     "name": "stderr",
     "output_type": "stream",
     "text": [
      " 99%|█████████▉| 112/113 [1:18:21<00:40, 40.72s/it]"
     ]
    },
    {
     "name": "stdout",
     "output_type": "stream",
     "text": [
      "Epoch 1/3\n",
      "\u001b[1m4438/4438\u001b[0m \u001b[32m━━━━━━━━━━━━━━━━━━━━\u001b[0m\u001b[37m\u001b[0m \u001b[1m12s\u001b[0m 3ms/step - accuracy: 0.9836 - loss: 0.0626 - val_accuracy: 0.9866 - val_loss: 0.0430\n",
      "Epoch 2/3\n",
      "\u001b[1m4438/4438\u001b[0m \u001b[32m━━━━━━━━━━━━━━━━━━━━\u001b[0m\u001b[37m\u001b[0m \u001b[1m12s\u001b[0m 3ms/step - accuracy: 0.9846 - loss: 0.0514 - val_accuracy: 0.9879 - val_loss: 0.0405\n",
      "Epoch 3/3\n",
      "\u001b[1m4438/4438\u001b[0m \u001b[32m━━━━━━━━━━━━━━━━━━━━\u001b[0m\u001b[37m\u001b[0m \u001b[1m11s\u001b[0m 3ms/step - accuracy: 0.9849 - loss: 0.0523 - val_accuracy: 0.9883 - val_loss: 0.0416\n"
     ]
    },
    {
     "name": "stderr",
     "output_type": "stream",
     "text": [
      "100%|██████████| 113/113 [1:19:00<00:00, 41.95s/it]\n"
     ]
    }
   ],
   "source": [
    "\n",
    "for train_set in tqdm(training_sets):\n",
    "        d = pd.read_csv(DATASET_DIRECTORY + train_set)\n",
    "        d[X_columns] = scaler.fit_transform(d[X_columns])\n",
    "        X_train = d[X_columns].values\n",
    "        y_train = d[y_column].values\n",
    "        from sklearn.preprocessing import LabelEncoder\n",
    "\n",
    "        label_encoder = LabelEncoder()\n",
    "        y_train_encoded = label_encoder.fit_transform(y_train)\n",
    "        for model in (DL_models):\n",
    "            model.fit(X_train, y_train_encoded, epochs=3, batch_size=40, validation_split=0.3)\n",
    "        del d"
   ]
  },
  {
   "cell_type": "code",
   "execution_count": 9,
   "id": "71d3a107",
   "metadata": {
    "execution": {
     "iopub.execute_input": "2024-03-17T08:08:56.504571Z",
     "iopub.status.busy": "2024-03-17T08:08:56.503824Z",
     "iopub.status.idle": "2024-03-17T08:08:56.509624Z",
     "shell.execute_reply": "2024-03-17T08:08:56.508741Z"
    },
    "papermill": {
     "duration": 5.686634,
     "end_time": "2024-03-17T08:08:56.511545",
     "exception": false,
     "start_time": "2024-03-17T08:08:50.824911",
     "status": "completed"
    },
    "tags": []
   },
   "outputs": [],
   "source": [
    "original_labels=['DDoS-RSTFINFlood','DDoS-PSHACK_Flood','DDoS-SYN_Flood','DDoS-UDP_Flood','DDoS-TCP_Flood','DDoS-ICMP_Flood',\n",
    "'DDoS-SynonymousIP_Flood','DDoS-ACK_Fragmentation','DDoS-UDP_Fragmentation','DDoS-ICMP_Fragmentation',\n",
    "'DDoS-SlowLoris','DDoS-HTTP_Flood','DoS-UDP_Flood','DoS-SYN_Flood','DoS-TCP_Flood','DoS-HTTP_Flood','Mirai-greeth_flood','Mirai-greip_flood','Mirai-udpplain',\n",
    "'Recon-PingSweep','Recon-OSScan','Recon-PortScan','VulnerabilityScan',\n",
    "'Recon-HostDiscovery',\n",
    "'DNS_Spoofing',\n",
    "'MITM-ArpSpoofing',\n",
    "'BenignTraffic',\n",
    "'BrowserHijacking',\n",
    "'Backdoor_Malware',\n",
    "'XSS',\n",
    "'Uploading_Attack',\n",
    "'SqlInjection',\n",
    "'CommandInjection',\n",
    "'DictionaryBruteForce']"
   ]
  },
  {
   "cell_type": "code",
   "execution_count": 10,
   "id": "04e4f9e1",
   "metadata": {
    "execution": {
     "iopub.execute_input": "2024-03-17T08:09:07.360622Z",
     "iopub.status.busy": "2024-03-17T08:09:07.359931Z",
     "iopub.status.idle": "2024-03-17T08:29:49.658509Z",
     "shell.execute_reply": "2024-03-17T08:29:49.657446Z"
    },
    "papermill": {
     "duration": 1247.773399,
     "end_time": "2024-03-17T08:29:49.660813",
     "exception": false,
     "start_time": "2024-03-17T08:09:01.887414",
     "status": "completed"
    },
    "tags": []
   },
   "outputs": [
    {
     "name": "stderr",
     "output_type": "stream",
     "text": [
      "  0%|          | 0/56 [00:00<?, ?it/s]"
     ]
    },
    {
     "name": "stdout",
     "output_type": "stream",
     "text": [
      "\u001b[1m14110/14110\u001b[0m \u001b[32m━━━━━━━━━━━━━━━━━━━━\u001b[0m\u001b[37m\u001b[0m \u001b[1m19s\u001b[0m 1ms/step\n"
     ]
    },
    {
     "name": "stderr",
     "output_type": "stream",
     "text": [
      "  2%|▏         | 1/56 [00:33<30:55, 33.73s/it]"
     ]
    },
    {
     "name": "stdout",
     "output_type": "stream",
     "text": [
      "\u001b[1m7497/7497\u001b[0m \u001b[32m━━━━━━━━━━━━━━━━━━━━\u001b[0m\u001b[37m\u001b[0m \u001b[1m10s\u001b[0m 1ms/step\n"
     ]
    },
    {
     "name": "stderr",
     "output_type": "stream",
     "text": [
      "  4%|▎         | 2/56 [00:51<21:53, 24.32s/it]"
     ]
    },
    {
     "name": "stdout",
     "output_type": "stream",
     "text": [
      "\u001b[1m6840/6840\u001b[0m \u001b[32m━━━━━━━━━━━━━━━━━━━━\u001b[0m\u001b[37m\u001b[0m \u001b[1m9s\u001b[0m 1ms/step\n"
     ]
    },
    {
     "name": "stderr",
     "output_type": "stream",
     "text": [
      "  5%|▌         | 3/56 [01:07<18:06, 20.49s/it]"
     ]
    },
    {
     "name": "stdout",
     "output_type": "stream",
     "text": [
      "\u001b[1m7650/7650\u001b[0m \u001b[32m━━━━━━━━━━━━━━━━━━━━\u001b[0m\u001b[37m\u001b[0m \u001b[1m11s\u001b[0m 1ms/step\n"
     ]
    },
    {
     "name": "stderr",
     "output_type": "stream",
     "text": [
      "  7%|▋         | 4/56 [01:25<17:00, 19.63s/it]"
     ]
    },
    {
     "name": "stdout",
     "output_type": "stream",
     "text": [
      "\u001b[1m7609/7609\u001b[0m \u001b[32m━━━━━━━━━━━━━━━━━━━━\u001b[0m\u001b[37m\u001b[0m \u001b[1m10s\u001b[0m 1ms/step\n"
     ]
    },
    {
     "name": "stderr",
     "output_type": "stream",
     "text": [
      "W0000 00:00:1710663045.941168      75 graph_launch.cc:671] Fallback to op-by-op mode because memset node breaks graph update\n",
      "  9%|▉         | 5/56 [01:43<16:01, 18.85s/it]"
     ]
    },
    {
     "name": "stdout",
     "output_type": "stream",
     "text": [
      "\u001b[1m6871/6871\u001b[0m \u001b[32m━━━━━━━━━━━━━━━━━━━━\u001b[0m\u001b[37m\u001b[0m \u001b[1m10s\u001b[0m 1ms/step\n"
     ]
    },
    {
     "name": "stderr",
     "output_type": "stream",
     "text": [
      " 11%|█         | 6/56 [01:59<15:04, 18.09s/it]"
     ]
    },
    {
     "name": "stdout",
     "output_type": "stream",
     "text": [
      "\u001b[1m7497/7497\u001b[0m \u001b[32m━━━━━━━━━━━━━━━━━━━━\u001b[0m\u001b[37m\u001b[0m \u001b[1m10s\u001b[0m 1ms/step\n"
     ]
    },
    {
     "name": "stderr",
     "output_type": "stream",
     "text": [
      " 12%|█▎        | 7/56 [02:15<14:10, 17.35s/it]"
     ]
    },
    {
     "name": "stdout",
     "output_type": "stream",
     "text": [
      "\u001b[1m7350/7350\u001b[0m \u001b[32m━━━━━━━━━━━━━━━━━━━━\u001b[0m\u001b[37m\u001b[0m \u001b[1m10s\u001b[0m 1ms/step\n"
     ]
    },
    {
     "name": "stderr",
     "output_type": "stream",
     "text": [
      " 14%|█▍        | 8/56 [02:33<13:55, 17.40s/it]"
     ]
    },
    {
     "name": "stdout",
     "output_type": "stream",
     "text": [
      "\u001b[1m7706/7706\u001b[0m \u001b[32m━━━━━━━━━━━━━━━━━━━━\u001b[0m\u001b[37m\u001b[0m \u001b[1m10s\u001b[0m 1ms/step\n"
     ]
    },
    {
     "name": "stderr",
     "output_type": "stream",
     "text": [
      " 16%|█▌        | 9/56 [02:51<13:46, 17.59s/it]"
     ]
    },
    {
     "name": "stdout",
     "output_type": "stream",
     "text": [
      "\u001b[1m7757/7757\u001b[0m \u001b[32m━━━━━━━━━━━━━━━━━━━━\u001b[0m\u001b[37m\u001b[0m \u001b[1m10s\u001b[0m 1ms/step\n"
     ]
    },
    {
     "name": "stderr",
     "output_type": "stream",
     "text": [
      " 18%|█▊        | 10/56 [03:09<13:36, 17.75s/it]"
     ]
    },
    {
     "name": "stdout",
     "output_type": "stream",
     "text": [
      "\u001b[1m8018/8018\u001b[0m \u001b[32m━━━━━━━━━━━━━━━━━━━━\u001b[0m\u001b[37m\u001b[0m \u001b[1m10s\u001b[0m 1ms/step\n"
     ]
    },
    {
     "name": "stderr",
     "output_type": "stream",
     "text": [
      " 20%|█▉        | 11/56 [03:28<13:36, 18.14s/it]"
     ]
    },
    {
     "name": "stdout",
     "output_type": "stream",
     "text": [
      "\u001b[1m7772/7772\u001b[0m \u001b[32m━━━━━━━━━━━━━━━━━━━━\u001b[0m\u001b[37m\u001b[0m \u001b[1m10s\u001b[0m 1ms/step\n"
     ]
    },
    {
     "name": "stderr",
     "output_type": "stream",
     "text": [
      " 21%|██▏       | 12/56 [03:46<13:19, 18.18s/it]"
     ]
    },
    {
     "name": "stdout",
     "output_type": "stream",
     "text": [
      "\u001b[1m14021/14021\u001b[0m \u001b[32m━━━━━━━━━━━━━━━━━━━━\u001b[0m\u001b[37m\u001b[0m \u001b[1m18s\u001b[0m 1ms/step\n"
     ]
    },
    {
     "name": "stderr",
     "output_type": "stream",
     "text": [
      " 23%|██▎       | 13/56 [04:19<16:14, 22.67s/it]"
     ]
    },
    {
     "name": "stdout",
     "output_type": "stream",
     "text": [
      "\u001b[1m7332/7332\u001b[0m \u001b[32m━━━━━━━━━━━━━━━━━━━━\u001b[0m\u001b[37m\u001b[0m \u001b[1m10s\u001b[0m 1ms/step\n"
     ]
    },
    {
     "name": "stderr",
     "output_type": "stream",
     "text": [
      " 25%|██▌       | 14/56 [04:37<14:49, 21.17s/it]"
     ]
    },
    {
     "name": "stdout",
     "output_type": "stream",
     "text": [
      "\u001b[1m13992/13992\u001b[0m \u001b[32m━━━━━━━━━━━━━━━━━━━━\u001b[0m\u001b[37m\u001b[0m \u001b[1m19s\u001b[0m 1ms/step\n"
     ]
    },
    {
     "name": "stderr",
     "output_type": "stream",
     "text": [
      " 27%|██▋       | 15/56 [05:10<17:01, 24.91s/it]"
     ]
    },
    {
     "name": "stdout",
     "output_type": "stream",
     "text": [
      "\u001b[1m7490/7490\u001b[0m \u001b[32m━━━━━━━━━━━━━━━━━━━━\u001b[0m\u001b[37m\u001b[0m \u001b[1m10s\u001b[0m 1ms/step\n"
     ]
    },
    {
     "name": "stderr",
     "output_type": "stream",
     "text": [
      "W0000 00:00:1710663271.560082      74 graph_launch.cc:671] Fallback to op-by-op mode because memset node breaks graph update\n",
      " 29%|██▊       | 16/56 [05:28<15:13, 22.84s/it]"
     ]
    },
    {
     "name": "stdout",
     "output_type": "stream",
     "text": [
      "\u001b[1m7177/7177\u001b[0m \u001b[32m━━━━━━━━━━━━━━━━━━━━\u001b[0m\u001b[37m\u001b[0m \u001b[1m10s\u001b[0m 1ms/step\n"
     ]
    },
    {
     "name": "stderr",
     "output_type": "stream",
     "text": [
      " 30%|███       | 17/56 [05:46<13:45, 21.16s/it]"
     ]
    },
    {
     "name": "stdout",
     "output_type": "stream",
     "text": [
      "\u001b[1m8030/8030\u001b[0m \u001b[32m━━━━━━━━━━━━━━━━━━━━\u001b[0m\u001b[37m\u001b[0m \u001b[1m10s\u001b[0m 1ms/step\n"
     ]
    },
    {
     "name": "stderr",
     "output_type": "stream",
     "text": [
      " 32%|███▏      | 18/56 [06:04<12:58, 20.48s/it]"
     ]
    },
    {
     "name": "stdout",
     "output_type": "stream",
     "text": [
      "\u001b[1m13930/13930\u001b[0m \u001b[32m━━━━━━━━━━━━━━━━━━━━\u001b[0m\u001b[37m\u001b[0m \u001b[1m19s\u001b[0m 1ms/step\n"
     ]
    },
    {
     "name": "stderr",
     "output_type": "stream",
     "text": [
      " 34%|███▍      | 19/56 [06:38<15:03, 24.43s/it]"
     ]
    },
    {
     "name": "stdout",
     "output_type": "stream",
     "text": [
      "\u001b[1m7472/7472\u001b[0m \u001b[32m━━━━━━━━━━━━━━━━━━━━\u001b[0m\u001b[37m\u001b[0m \u001b[1m10s\u001b[0m 1ms/step\n"
     ]
    },
    {
     "name": "stderr",
     "output_type": "stream",
     "text": [
      " 36%|███▌      | 20/56 [06:56<13:30, 22.51s/it]"
     ]
    },
    {
     "name": "stdout",
     "output_type": "stream",
     "text": [
      "\u001b[1m7495/7495\u001b[0m \u001b[32m━━━━━━━━━━━━━━━━━━━━\u001b[0m\u001b[37m\u001b[0m \u001b[1m10s\u001b[0m 1ms/step\n"
     ]
    },
    {
     "name": "stderr",
     "output_type": "stream",
     "text": [
      " 38%|███▊      | 21/56 [07:14<12:18, 21.09s/it]"
     ]
    },
    {
     "name": "stdout",
     "output_type": "stream",
     "text": [
      "\u001b[1m7615/7615\u001b[0m \u001b[32m━━━━━━━━━━━━━━━━━━━━\u001b[0m\u001b[37m\u001b[0m \u001b[1m10s\u001b[0m 1ms/step\n"
     ]
    },
    {
     "name": "stderr",
     "output_type": "stream",
     "text": [
      " 39%|███▉      | 22/56 [07:32<11:27, 20.22s/it]"
     ]
    },
    {
     "name": "stdout",
     "output_type": "stream",
     "text": [
      "\u001b[1m7476/7476\u001b[0m \u001b[32m━━━━━━━━━━━━━━━━━━━━\u001b[0m\u001b[37m\u001b[0m \u001b[1m10s\u001b[0m 1ms/step\n"
     ]
    },
    {
     "name": "stderr",
     "output_type": "stream",
     "text": [
      " 41%|████      | 23/56 [07:50<10:43, 19.49s/it]"
     ]
    },
    {
     "name": "stdout",
     "output_type": "stream",
     "text": [
      "\u001b[1m13897/13897\u001b[0m \u001b[32m━━━━━━━━━━━━━━━━━━━━\u001b[0m\u001b[37m\u001b[0m \u001b[1m18s\u001b[0m 1ms/step\n"
     ]
    },
    {
     "name": "stderr",
     "output_type": "stream",
     "text": [
      " 43%|████▎     | 24/56 [08:23<12:37, 23.67s/it]"
     ]
    },
    {
     "name": "stdout",
     "output_type": "stream",
     "text": [
      "\u001b[1m8015/8015\u001b[0m \u001b[32m━━━━━━━━━━━━━━━━━━━━\u001b[0m\u001b[37m\u001b[0m \u001b[1m10s\u001b[0m 1ms/step\n"
     ]
    },
    {
     "name": "stderr",
     "output_type": "stream",
     "text": [
      " 45%|████▍     | 25/56 [08:43<11:32, 22.34s/it]"
     ]
    },
    {
     "name": "stdout",
     "output_type": "stream",
     "text": [
      "\u001b[1m13964/13964\u001b[0m \u001b[32m━━━━━━━━━━━━━━━━━━━━\u001b[0m\u001b[37m\u001b[0m \u001b[1m18s\u001b[0m 1ms/step\n"
     ]
    },
    {
     "name": "stderr",
     "output_type": "stream",
     "text": [
      " 46%|████▋     | 26/56 [09:16<12:51, 25.72s/it]"
     ]
    },
    {
     "name": "stdout",
     "output_type": "stream",
     "text": [
      "\u001b[1m7567/7567\u001b[0m \u001b[32m━━━━━━━━━━━━━━━━━━━━\u001b[0m\u001b[37m\u001b[0m \u001b[1m10s\u001b[0m 1ms/step\n"
     ]
    },
    {
     "name": "stderr",
     "output_type": "stream",
     "text": [
      " 48%|████▊     | 27/56 [09:34<11:20, 23.47s/it]"
     ]
    },
    {
     "name": "stdout",
     "output_type": "stream",
     "text": [
      "\u001b[1m14038/14038\u001b[0m \u001b[32m━━━━━━━━━━━━━━━━━━━━\u001b[0m\u001b[37m\u001b[0m \u001b[1m18s\u001b[0m 1ms/step\n"
     ]
    },
    {
     "name": "stderr",
     "output_type": "stream",
     "text": [
      " 50%|█████     | 28/56 [10:08<12:24, 26.60s/it]"
     ]
    },
    {
     "name": "stdout",
     "output_type": "stream",
     "text": [
      "\u001b[1m7000/7000\u001b[0m \u001b[32m━━━━━━━━━━━━━━━━━━━━\u001b[0m\u001b[37m\u001b[0m \u001b[1m9s\u001b[0m 1ms/step\n"
     ]
    },
    {
     "name": "stderr",
     "output_type": "stream",
     "text": [
      " 52%|█████▏    | 29/56 [10:25<10:38, 23.66s/it]"
     ]
    },
    {
     "name": "stdout",
     "output_type": "stream",
     "text": [
      "\u001b[1m8147/8147\u001b[0m \u001b[32m━━━━━━━━━━━━━━━━━━━━\u001b[0m\u001b[37m\u001b[0m \u001b[1m11s\u001b[0m 1ms/step\n"
     ]
    },
    {
     "name": "stderr",
     "output_type": "stream",
     "text": [
      " 54%|█████▎    | 30/56 [10:45<09:48, 22.65s/it]"
     ]
    },
    {
     "name": "stdout",
     "output_type": "stream",
     "text": [
      "\u001b[1m7476/7476\u001b[0m \u001b[32m━━━━━━━━━━━━━━━━━━━━\u001b[0m\u001b[37m\u001b[0m \u001b[1m10s\u001b[0m 1ms/step\n"
     ]
    },
    {
     "name": "stderr",
     "output_type": "stream",
     "text": [
      " 55%|█████▌    | 31/56 [11:02<08:38, 20.75s/it]"
     ]
    },
    {
     "name": "stdout",
     "output_type": "stream",
     "text": [
      "\u001b[1m7652/7652\u001b[0m \u001b[32m━━━━━━━━━━━━━━━━━━━━\u001b[0m\u001b[37m\u001b[0m \u001b[1m10s\u001b[0m 1ms/step\n"
     ]
    },
    {
     "name": "stderr",
     "output_type": "stream",
     "text": [
      " 57%|█████▋    | 32/56 [11:20<08:03, 20.16s/it]"
     ]
    },
    {
     "name": "stdout",
     "output_type": "stream",
     "text": [
      "\u001b[1m13836/13836\u001b[0m \u001b[32m━━━━━━━━━━━━━━━━━━━━\u001b[0m\u001b[37m\u001b[0m \u001b[1m18s\u001b[0m 1ms/step\n"
     ]
    },
    {
     "name": "stderr",
     "output_type": "stream",
     "text": [
      " 59%|█████▉    | 33/56 [11:53<09:11, 23.99s/it]"
     ]
    },
    {
     "name": "stdout",
     "output_type": "stream",
     "text": [
      "\u001b[1m7099/7099\u001b[0m \u001b[32m━━━━━━━━━━━━━━━━━━━━\u001b[0m\u001b[37m\u001b[0m \u001b[1m9s\u001b[0m 1ms/step\n"
     ]
    },
    {
     "name": "stderr",
     "output_type": "stream",
     "text": [
      " 61%|██████    | 34/56 [12:11<08:04, 22.01s/it]"
     ]
    },
    {
     "name": "stdout",
     "output_type": "stream",
     "text": [
      "\u001b[1m7434/7434\u001b[0m \u001b[32m━━━━━━━━━━━━━━━━━━━━\u001b[0m\u001b[37m\u001b[0m \u001b[1m9s\u001b[0m 1ms/step\n"
     ]
    },
    {
     "name": "stderr",
     "output_type": "stream",
     "text": [
      " 62%|██████▎   | 35/56 [12:28<07:14, 20.67s/it]"
     ]
    },
    {
     "name": "stdout",
     "output_type": "stream",
     "text": [
      "\u001b[1m7345/7345\u001b[0m \u001b[32m━━━━━━━━━━━━━━━━━━━━\u001b[0m\u001b[37m\u001b[0m \u001b[1m10s\u001b[0m 1ms/step\n"
     ]
    },
    {
     "name": "stderr",
     "output_type": "stream",
     "text": [
      " 64%|██████▍   | 36/56 [12:47<06:42, 20.12s/it]"
     ]
    },
    {
     "name": "stdout",
     "output_type": "stream",
     "text": [
      "\u001b[1m13935/13935\u001b[0m \u001b[32m━━━━━━━━━━━━━━━━━━━━\u001b[0m\u001b[37m\u001b[0m \u001b[1m18s\u001b[0m 1ms/step\n"
     ]
    },
    {
     "name": "stderr",
     "output_type": "stream",
     "text": [
      " 66%|██████▌   | 37/56 [13:22<07:44, 24.43s/it]"
     ]
    },
    {
     "name": "stdout",
     "output_type": "stream",
     "text": [
      "\u001b[1m7256/7256\u001b[0m \u001b[32m━━━━━━━━━━━━━━━━━━━━\u001b[0m\u001b[37m\u001b[0m \u001b[1m10s\u001b[0m 1ms/step\n"
     ]
    },
    {
     "name": "stderr",
     "output_type": "stream",
     "text": [
      " 68%|██████▊   | 38/56 [13:39<06:43, 22.44s/it]"
     ]
    },
    {
     "name": "stdout",
     "output_type": "stream",
     "text": [
      "\u001b[1m7176/7176\u001b[0m \u001b[32m━━━━━━━━━━━━━━━━━━━━\u001b[0m\u001b[37m\u001b[0m \u001b[1m10s\u001b[0m 1ms/step\n"
     ]
    },
    {
     "name": "stderr",
     "output_type": "stream",
     "text": [
      " 70%|██████▉   | 39/56 [13:57<05:57, 21.05s/it]"
     ]
    },
    {
     "name": "stdout",
     "output_type": "stream",
     "text": [
      "\u001b[1m13961/13961\u001b[0m \u001b[32m━━━━━━━━━━━━━━━━━━━━\u001b[0m\u001b[37m\u001b[0m \u001b[1m18s\u001b[0m 1ms/step\n"
     ]
    },
    {
     "name": "stderr",
     "output_type": "stream",
     "text": [
      " 71%|███████▏  | 40/56 [14:31<06:38, 24.88s/it]"
     ]
    },
    {
     "name": "stdout",
     "output_type": "stream",
     "text": [
      "\u001b[1m13594/13594\u001b[0m \u001b[32m━━━━━━━━━━━━━━━━━━━━\u001b[0m\u001b[37m\u001b[0m \u001b[1m18s\u001b[0m 1ms/step\n"
     ]
    },
    {
     "name": "stderr",
     "output_type": "stream",
     "text": [
      " 73%|███████▎  | 41/56 [15:05<06:51, 27.44s/it]"
     ]
    },
    {
     "name": "stdout",
     "output_type": "stream",
     "text": [
      "\u001b[1m7257/7257\u001b[0m \u001b[32m━━━━━━━━━━━━━━━━━━━━\u001b[0m\u001b[37m\u001b[0m \u001b[1m9s\u001b[0m 1ms/step\n"
     ]
    },
    {
     "name": "stderr",
     "output_type": "stream",
     "text": [
      " 75%|███████▌  | 42/56 [15:22<05:42, 24.43s/it]"
     ]
    },
    {
     "name": "stdout",
     "output_type": "stream",
     "text": [
      "\u001b[1m7183/7183\u001b[0m \u001b[32m━━━━━━━━━━━━━━━━━━━━\u001b[0m\u001b[37m\u001b[0m \u001b[1m10s\u001b[0m 1ms/step\n"
     ]
    },
    {
     "name": "stderr",
     "output_type": "stream",
     "text": [
      " 77%|███████▋  | 43/56 [15:40<04:53, 22.59s/it]"
     ]
    },
    {
     "name": "stdout",
     "output_type": "stream",
     "text": [
      "\u001b[1m8014/8014\u001b[0m \u001b[32m━━━━━━━━━━━━━━━━━━━━\u001b[0m\u001b[37m\u001b[0m \u001b[1m11s\u001b[0m 1ms/step\n"
     ]
    },
    {
     "name": "stderr",
     "output_type": "stream",
     "text": [
      " 79%|███████▊  | 44/56 [16:00<04:22, 21.89s/it]"
     ]
    },
    {
     "name": "stdout",
     "output_type": "stream",
     "text": [
      "\u001b[1m7498/7498\u001b[0m \u001b[32m━━━━━━━━━━━━━━━━━━━━\u001b[0m\u001b[37m\u001b[0m \u001b[1m10s\u001b[0m 1ms/step\n"
     ]
    },
    {
     "name": "stderr",
     "output_type": "stream",
     "text": [
      " 80%|████████  | 45/56 [16:20<03:51, 21.03s/it]"
     ]
    },
    {
     "name": "stdout",
     "output_type": "stream",
     "text": [
      "\u001b[1m7203/7203\u001b[0m \u001b[32m━━━━━━━━━━━━━━━━━━━━\u001b[0m\u001b[37m\u001b[0m \u001b[1m9s\u001b[0m 1ms/step\n"
     ]
    },
    {
     "name": "stderr",
     "output_type": "stream",
     "text": [
      " 82%|████████▏ | 46/56 [16:37<03:20, 20.04s/it]"
     ]
    },
    {
     "name": "stdout",
     "output_type": "stream",
     "text": [
      "\u001b[1m7229/7229\u001b[0m \u001b[32m━━━━━━━━━━━━━━━━━━━━\u001b[0m\u001b[37m\u001b[0m \u001b[1m10s\u001b[0m 1ms/step\n"
     ]
    },
    {
     "name": "stderr",
     "output_type": "stream",
     "text": [
      " 84%|████████▍ | 47/56 [16:55<02:54, 19.38s/it]"
     ]
    },
    {
     "name": "stdout",
     "output_type": "stream",
     "text": [
      "\u001b[1m7229/7229\u001b[0m \u001b[32m━━━━━━━━━━━━━━━━━━━━\u001b[0m\u001b[37m\u001b[0m \u001b[1m9s\u001b[0m 1ms/step\n"
     ]
    },
    {
     "name": "stderr",
     "output_type": "stream",
     "text": [
      " 86%|████████▌ | 48/56 [17:11<02:27, 18.42s/it]"
     ]
    },
    {
     "name": "stdout",
     "output_type": "stream",
     "text": [
      "\u001b[1m7265/7265\u001b[0m \u001b[32m━━━━━━━━━━━━━━━━━━━━\u001b[0m\u001b[37m\u001b[0m \u001b[1m10s\u001b[0m 1ms/step\n"
     ]
    },
    {
     "name": "stderr",
     "output_type": "stream",
     "text": [
      " 88%|████████▊ | 49/56 [17:29<02:08, 18.33s/it]"
     ]
    },
    {
     "name": "stdout",
     "output_type": "stream",
     "text": [
      "\u001b[1m13738/13738\u001b[0m \u001b[32m━━━━━━━━━━━━━━━━━━━━\u001b[0m\u001b[37m\u001b[0m \u001b[1m17s\u001b[0m 1ms/step\n"
     ]
    },
    {
     "name": "stderr",
     "output_type": "stream",
     "text": [
      " 89%|████████▉ | 50/56 [18:03<02:17, 22.83s/it]"
     ]
    },
    {
     "name": "stdout",
     "output_type": "stream",
     "text": [
      "\u001b[1m7300/7300\u001b[0m \u001b[32m━━━━━━━━━━━━━━━━━━━━\u001b[0m\u001b[37m\u001b[0m \u001b[1m10s\u001b[0m 1ms/step\n"
     ]
    },
    {
     "name": "stderr",
     "output_type": "stream",
     "text": [
      " 91%|█████████ | 51/56 [18:21<01:47, 21.42s/it]"
     ]
    },
    {
     "name": "stdout",
     "output_type": "stream",
     "text": [
      "\u001b[1m13989/13989\u001b[0m \u001b[32m━━━━━━━━━━━━━━━━━━━━\u001b[0m\u001b[37m\u001b[0m \u001b[1m19s\u001b[0m 1ms/step\n"
     ]
    },
    {
     "name": "stderr",
     "output_type": "stream",
     "text": [
      " 93%|█████████▎| 52/56 [18:56<01:41, 25.48s/it]"
     ]
    },
    {
     "name": "stdout",
     "output_type": "stream",
     "text": [
      "\u001b[1m13889/13889\u001b[0m \u001b[32m━━━━━━━━━━━━━━━━━━━━\u001b[0m\u001b[37m\u001b[0m \u001b[1m18s\u001b[0m 1ms/step\n"
     ]
    },
    {
     "name": "stderr",
     "output_type": "stream",
     "text": [
      " 95%|█████████▍| 53/56 [19:30<01:24, 28.19s/it]"
     ]
    },
    {
     "name": "stdout",
     "output_type": "stream",
     "text": [
      "\u001b[1m14032/14032\u001b[0m \u001b[32m━━━━━━━━━━━━━━━━━━━━\u001b[0m\u001b[37m\u001b[0m \u001b[1m19s\u001b[0m 1ms/step\n"
     ]
    },
    {
     "name": "stderr",
     "output_type": "stream",
     "text": [
      " 96%|█████████▋| 54/56 [20:05<01:00, 30.27s/it]"
     ]
    },
    {
     "name": "stdout",
     "output_type": "stream",
     "text": [
      "\u001b[1m7116/7116\u001b[0m \u001b[32m━━━━━━━━━━━━━━━━━━━━\u001b[0m\u001b[37m\u001b[0m \u001b[1m10s\u001b[0m 1ms/step\n"
     ]
    },
    {
     "name": "stderr",
     "output_type": "stream",
     "text": [
      "W0000 00:00:1710664166.338517      75 graph_launch.cc:671] Fallback to op-by-op mode because memset node breaks graph update\n",
      " 98%|█████████▊| 55/56 [20:23<00:26, 26.51s/it]"
     ]
    },
    {
     "name": "stdout",
     "output_type": "stream",
     "text": [
      "\u001b[1m7336/7336\u001b[0m \u001b[32m━━━━━━━━━━━━━━━━━━━━\u001b[0m\u001b[37m\u001b[0m \u001b[1m10s\u001b[0m 1ms/step\n"
     ]
    },
    {
     "name": "stderr",
     "output_type": "stream",
     "text": [
      "100%|██████████| 56/56 [20:42<00:00, 22.18s/it]\n"
     ]
    }
   ],
   "source": [
    "import numpy as np\n",
    "y_test = []\n",
    "d_preds = {i:[] for i in range(len(DL_models))}\n",
    "for test_set in tqdm(test_sets):\n",
    "    d_test = pd.read_csv(DATASET_DIRECTORY + test_set)\n",
    "    d_test[X_columns] = scaler.fit_transform(d_test[X_columns])\n",
    "    y_test += list(d_test[y_column].values)\n",
    "    for i in range(len(DL_models)):\n",
    "        model = DL_models[i]\n",
    "        y_preds = list(model.predict(d_test[X_columns]))\n",
    "        d_preds[i] = d_preds[i] + y_preds\n",
    "    del y_preds\n",
    "    del d_test\n",
    "    "
   ]
  },
  {
   "cell_type": "code",
   "execution_count": 11,
   "id": "ce0f2e7e",
   "metadata": {
    "execution": {
     "iopub.execute_input": "2024-03-17T08:30:03.035636Z",
     "iopub.status.busy": "2024-03-17T08:30:03.035271Z",
     "iopub.status.idle": "2024-03-17T08:30:03.041979Z",
     "shell.execute_reply": "2024-03-17T08:30:03.041107Z"
    },
    "papermill": {
     "duration": 6.749697,
     "end_time": "2024-03-17T08:30:03.043994",
     "exception": false,
     "start_time": "2024-03-17T08:29:56.294297",
     "status": "completed"
    },
    "tags": []
   },
   "outputs": [
    {
     "data": {
      "text/plain": [
       "1"
      ]
     },
     "execution_count": 11,
     "metadata": {},
     "output_type": "execute_result"
    }
   ],
   "source": [
    "len(d_preds)"
   ]
  },
  {
   "cell_type": "code",
   "execution_count": 12,
   "id": "fe43377b",
   "metadata": {
    "execution": {
     "iopub.execute_input": "2024-03-17T08:30:16.438350Z",
     "iopub.status.busy": "2024-03-17T08:30:16.437981Z",
     "iopub.status.idle": "2024-03-17T08:48:18.847264Z",
     "shell.execute_reply": "2024-03-17T08:48:18.846259Z"
    },
    "papermill": {
     "duration": 1095.677855,
     "end_time": "2024-03-17T08:48:25.471056",
     "exception": false,
     "start_time": "2024-03-17T08:30:09.793201",
     "status": "completed"
    },
    "tags": []
   },
   "outputs": [
    {
     "name": "stdout",
     "output_type": "stream",
     "text": [
      "CNN\n",
      "                         precision    recall  f1-score   support\n",
      "\n",
      "       Backdoor_Malware       0.00      0.00      0.00      1131\n",
      "          BenignTraffic       0.78      0.96      0.86    387031\n",
      "       BrowserHijacking       0.00      0.00      0.00      2041\n",
      "       CommandInjection       0.00      0.00      0.00      1863\n",
      " DDoS-ACK_Fragmentation       0.99      0.99      0.99    100231\n",
      "        DDoS-HTTP_Flood       0.95      0.89      0.92     10131\n",
      "        DDoS-ICMP_Flood       1.00      1.00      1.00   2537902\n",
      "DDoS-ICMP_Fragmentation       0.95      0.98      0.96    160098\n",
      "      DDoS-PSHACK_Flood       1.00      1.00      1.00   1445379\n",
      "       DDoS-RSTFINFlood       1.00      1.00      1.00   1426053\n",
      "         DDoS-SYN_Flood       1.00      1.00      1.00   1432485\n",
      "         DDoS-SlowLoris       0.80      0.95      0.87      8323\n",
      "DDoS-SynonymousIP_Flood       1.00      1.00      1.00   1267869\n",
      "         DDoS-TCP_Flood       1.00      1.00      1.00   1586183\n",
      "         DDoS-UDP_Flood       1.00      1.00      1.00   1906089\n",
      " DDoS-UDP_Fragmentation       0.99      0.98      0.99    100516\n",
      "           DNS_Spoofing       0.53      0.48      0.50     63175\n",
      "   DictionaryBruteForce       1.00      0.14      0.25      4639\n",
      "         DoS-HTTP_Flood       0.95      0.91      0.93     25225\n",
      "          DoS-SYN_Flood       0.99      1.00      1.00    715918\n",
      "          DoS-TCP_Flood       1.00      1.00      1.00    941129\n",
      "          DoS-UDP_Flood       1.00      1.00      1.00   1169202\n",
      "       MITM-ArpSpoofing       0.77      0.65      0.71    108162\n",
      "     Mirai-greeth_flood       0.90      0.99      0.94    350353\n",
      "      Mirai-greip_flood       0.99      0.86      0.92    264583\n",
      "         Mirai-udpplain       1.00      1.00      1.00    314345\n",
      "    Recon-HostDiscovery       0.76      0.60      0.67     47575\n",
      "           Recon-OSScan       0.42      0.11      0.18     34702\n",
      "        Recon-PingSweep       0.00      0.00      0.00       818\n",
      "         Recon-PortScan       0.52      0.22      0.31     29269\n",
      "           SqlInjection       0.00      0.00      0.00      1842\n",
      "       Uploading_Attack       0.00      0.00      0.00       434\n",
      "      VulnerabilityScan       0.74      0.98      0.85     13191\n",
      "                    XSS       0.00      0.00      0.00      1372\n",
      "\n",
      "               accuracy                           0.98  16459259\n",
      "              macro avg       0.71      0.67      0.67  16459259\n",
      "           weighted avg       0.98      0.98      0.98  16459259\n",
      "\n",
      "accuracy_score:  0.9847149255018103\n",
      "recall_score:  0.7062485894901019\n",
      "precision_score:  0.6665638493978827\n",
      "f1_score:  0.6708089115803907\n"
     ]
    }
   ],
   "source": [
    "from sklearn.metrics import accuracy_score, recall_score, precision_score, f1_score\n",
    "\n",
    "for k, v in d_preds.items():\n",
    "    if isinstance(v, list):\n",
    "        v = np.array(v)\n",
    "    y_preds = np.argmax(v, axis=1)\n",
    "    label_encoder.fit(original_labels)\n",
    "    y_preds = label_encoder.inverse_transform(y_preds)\n",
    "    from sklearn.metrics import classification_report\n",
    "    \n",
    "    print(f\"{DL_names[k]}\")\n",
    "    print(classification_report(y_test,y_preds))\n",
    "    print('accuracy_score: ', accuracy_score(y_preds, y_test))\n",
    "    print('recall_score: ', recall_score(y_preds, y_test, average='macro'))\n",
    "    print('precision_score: ', precision_score(y_preds, y_test, average='macro'))\n",
    "    print('f1_score: ', f1_score(y_preds, y_test, average='macro'))\n"
   ]
  },
  {
   "cell_type": "code",
   "execution_count": 13,
   "id": "f4161f98",
   "metadata": {
    "execution": {
     "iopub.execute_input": "2024-03-17T08:48:39.029568Z",
     "iopub.status.busy": "2024-03-17T08:48:39.028696Z",
     "iopub.status.idle": "2024-03-17T08:48:40.486654Z",
     "shell.execute_reply": "2024-03-17T08:48:40.485336Z"
    },
    "papermill": {
     "duration": 8.210578,
     "end_time": "2024-03-17T08:48:40.489363",
     "exception": false,
     "start_time": "2024-03-17T08:48:32.278785",
     "status": "completed"
    },
    "tags": []
   },
   "outputs": [],
   "source": [
    "!rm -rf /kaggle/working/*"
   ]
  },
  {
   "cell_type": "code",
   "execution_count": 14,
   "id": "8ebb1d1e",
   "metadata": {
    "execution": {
     "iopub.execute_input": "2024-03-17T08:48:53.681396Z",
     "iopub.status.busy": "2024-03-17T08:48:53.680602Z",
     "iopub.status.idle": "2024-03-17T08:48:53.789888Z",
     "shell.execute_reply": "2024-03-17T08:48:53.788892Z"
    },
    "papermill": {
     "duration": 6.756312,
     "end_time": "2024-03-17T08:48:53.791986",
     "exception": false,
     "start_time": "2024-03-17T08:48:47.035674",
     "status": "completed"
    },
    "tags": []
   },
   "outputs": [],
   "source": [
    "from keras.models import model_from_json\n",
    "import os\n",
    "\n",
    "# Save model\n",
    "def save_model(model, model_name):\n",
    "    # Serialize model to JSON\n",
    "    model_json = model.to_json()\n",
    "    with open(model_name + \".json\", \"w\") as json_file:\n",
    "        json_file.write(model_json)\n",
    "\n",
    "    # Serialize weights to HDF5\n",
    "    model.save_weights(model_name + \".weights.h5\")\n",
    "modelCNN = build_CNN_model(input_shape=(len(X_columns), 1))\n",
    "save_model(modelCNN, \"/kaggle/working/CNN34classfinal\")"
   ]
  }
 ],
 "metadata": {
  "kaggle": {
   "accelerator": "nvidiaTeslaT4",
   "dataSources": [
    {
     "datasetId": 3706998,
     "sourceId": 6425404,
     "sourceType": "datasetVersion"
    }
   ],
   "dockerImageVersionId": 30664,
   "isGpuEnabled": true,
   "isInternetEnabled": false,
   "language": "python",
   "sourceType": "notebook"
  },
  "kernelspec": {
   "display_name": "Python 3",
   "language": "python",
   "name": "python3"
  },
  "language_info": {
   "codemirror_mode": {
    "name": "ipython",
    "version": 3
   },
   "file_extension": ".py",
   "mimetype": "text/x-python",
   "name": "python",
   "nbconvert_exporter": "python",
   "pygments_lexer": "ipython3",
   "version": "3.10.13"
  },
  "papermill": {
   "default_parameters": {},
   "duration": 7176.481997,
   "end_time": "2024-03-17T08:49:04.262164",
   "environment_variables": {},
   "exception": null,
   "input_path": "__notebook__.ipynb",
   "output_path": "__notebook__.ipynb",
   "parameters": {},
   "start_time": "2024-03-17T06:49:27.780167",
   "version": "2.5.0"
  }
 },
 "nbformat": 4,
 "nbformat_minor": 5
}
