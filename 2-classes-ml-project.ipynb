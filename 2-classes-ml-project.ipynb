{
 "cells": [
  {
   "cell_type": "code",
   "execution_count": 1,
   "id": "9c28e199",
   "metadata": {
    "_cell_guid": "b1076dfc-b9ad-4769-8c92-a6c4dae69d19",
    "_uuid": "8f2839f25d086af736a60e9eeb907d3b93b6e0e5",
    "execution": {
     "iopub.execute_input": "2024-03-19T14:41:36.856559Z",
     "iopub.status.busy": "2024-03-19T14:41:36.855458Z",
     "iopub.status.idle": "2024-03-19T14:41:39.917422Z",
     "shell.execute_reply": "2024-03-19T14:41:39.916185Z"
    },
    "papermill": {
     "duration": 3.072005,
     "end_time": "2024-03-19T14:41:39.920426",
     "exception": false,
     "start_time": "2024-03-19T14:41:36.848421",
     "status": "completed"
    },
    "tags": []
   },
   "outputs": [],
   "source": [
    "import pandas as pd\n",
    "import numpy as np\n",
    "import os\n",
    "from tqdm import tqdm\n",
    "import warnings\n",
    "warnings.filterwarnings('ignore')\n",
    "from sklearn.linear_model import LogisticRegression\n",
    "from sklearn.ensemble import RandomForestClassifier\n",
    "from sklearn.preprocessing import QuantileTransformer\n",
    "scaler = QuantileTransformer(output_distribution='uniform')\n",
    "from xgboost import XGBClassifier\n",
    "from sklearn.utils.class_weight import compute_class_weight"
   ]
  },
  {
   "cell_type": "code",
   "execution_count": 2,
   "id": "b50ff216",
   "metadata": {
    "execution": {
     "iopub.execute_input": "2024-03-19T14:41:39.932072Z",
     "iopub.status.busy": "2024-03-19T14:41:39.931512Z",
     "iopub.status.idle": "2024-03-19T14:41:39.937037Z",
     "shell.execute_reply": "2024-03-19T14:41:39.935738Z"
    },
    "papermill": {
     "duration": 0.014188,
     "end_time": "2024-03-19T14:41:39.939663",
     "exception": false,
     "start_time": "2024-03-19T14:41:39.925475",
     "status": "completed"
    },
    "tags": []
   },
   "outputs": [],
   "source": [
    "DATASET_DIRECTORY = '/kaggle/input/unb-cic-iot-dataset/wataiData/csv/CICIoT2023/'"
   ]
  },
  {
   "cell_type": "code",
   "execution_count": 3,
   "id": "69cd6d9b",
   "metadata": {
    "execution": {
     "iopub.execute_input": "2024-03-19T14:41:39.951485Z",
     "iopub.status.busy": "2024-03-19T14:41:39.950774Z",
     "iopub.status.idle": "2024-03-19T14:41:40.022940Z",
     "shell.execute_reply": "2024-03-19T14:41:40.021633Z"
    },
    "papermill": {
     "duration": 0.081084,
     "end_time": "2024-03-19T14:41:40.025710",
     "exception": false,
     "start_time": "2024-03-19T14:41:39.944626",
     "status": "completed"
    },
    "tags": []
   },
   "outputs": [],
   "source": [
    "df_sets = [k for k in os.listdir(DATASET_DIRECTORY) if k.endswith('.csv')]\n",
    "df_sets.sort()\n",
    "training_sets = df_sets[:int(len(df_sets)*.67)]\n",
    "test_sets = df_sets[int(len(df_sets)*.67):]"
   ]
  },
  {
   "cell_type": "code",
   "execution_count": 4,
   "id": "1a3be722",
   "metadata": {
    "execution": {
     "iopub.execute_input": "2024-03-19T14:41:40.036726Z",
     "iopub.status.busy": "2024-03-19T14:41:40.036262Z",
     "iopub.status.idle": "2024-03-19T14:41:40.043297Z",
     "shell.execute_reply": "2024-03-19T14:41:40.042191Z"
    },
    "papermill": {
     "duration": 0.015275,
     "end_time": "2024-03-19T14:41:40.045617",
     "exception": false,
     "start_time": "2024-03-19T14:41:40.030342",
     "status": "completed"
    },
    "tags": []
   },
   "outputs": [],
   "source": [
    "X_columns = [\n",
    "    'flow_duration', 'Header_Length', 'Protocol Type', 'Duration',\n",
    "       'Rate', 'Srate', 'Drate', 'fin_flag_number', 'syn_flag_number',\n",
    "       'rst_flag_number', 'psh_flag_number', 'ack_flag_number',\n",
    "       'ece_flag_number', 'cwr_flag_number', 'ack_count',\n",
    "       'syn_count', 'fin_count', 'urg_count', 'rst_count', \n",
    "    'HTTP', 'HTTPS', 'DNS', 'Telnet', 'SMTP', 'SSH', 'IRC', 'TCP',\n",
    "       'UDP', 'DHCP', 'ARP', 'ICMP', 'IPv', 'LLC', 'Tot sum', 'Min',\n",
    "       'Max', 'AVG', 'Std', 'Tot size', 'IAT', 'Number', 'Magnitue',\n",
    "       'Radius', 'Covariance', 'Variance', 'Weight', \n",
    "]\n",
    "y_column = 'label'"
   ]
  },
  {
   "cell_type": "code",
   "execution_count": 5,
   "id": "b7218a77",
   "metadata": {
    "execution": {
     "iopub.execute_input": "2024-03-19T14:41:40.056932Z",
     "iopub.status.busy": "2024-03-19T14:41:40.056531Z",
     "iopub.status.idle": "2024-03-19T14:41:40.068129Z",
     "shell.execute_reply": "2024-03-19T14:41:40.066909Z"
    },
    "papermill": {
     "duration": 0.020027,
     "end_time": "2024-03-19T14:41:40.070378",
     "exception": false,
     "start_time": "2024-03-19T14:41:40.050351",
     "status": "completed"
    },
    "tags": []
   },
   "outputs": [],
   "source": [
    "dict_2classes = {}\n",
    "dict_2classes['DDoS-RSTFINFlood'] = 'Attack'\n",
    "dict_2classes['DDoS-PSHACK_Flood'] = 'Attack'\n",
    "dict_2classes['DDoS-SYN_Flood'] = 'Attack'\n",
    "dict_2classes['DDoS-UDP_Flood'] = 'Attack'\n",
    "dict_2classes['DDoS-TCP_Flood'] = 'Attack'\n",
    "dict_2classes['DDoS-ICMP_Flood'] = 'Attack'\n",
    "dict_2classes['DDoS-SynonymousIP_Flood'] = 'Attack'\n",
    "dict_2classes['DDoS-ACK_Fragmentation'] = 'Attack'\n",
    "dict_2classes['DDoS-UDP_Fragmentation'] = 'Attack'\n",
    "dict_2classes['DDoS-ICMP_Fragmentation'] = 'Attack'\n",
    "dict_2classes['DDoS-SlowLoris'] = 'Attack'\n",
    "dict_2classes['DDoS-HTTP_Flood'] = 'Attack'\n",
    "\n",
    "dict_2classes['DoS-UDP_Flood'] = 'Attack'\n",
    "dict_2classes['DoS-SYN_Flood'] = 'Attack'\n",
    "dict_2classes['DoS-TCP_Flood'] = 'Attack'\n",
    "dict_2classes['DoS-HTTP_Flood'] = 'Attack'\n",
    "\n",
    "\n",
    "dict_2classes['Mirai-greeth_flood'] = 'Attack'\n",
    "dict_2classes['Mirai-greip_flood'] = 'Attack'\n",
    "dict_2classes['Mirai-udpplain'] = 'Attack'\n",
    "dict_2classes['Recon-PingSweep'] = 'Attack'\n",
    "dict_2classes['Recon-OSScan'] = 'Attack'\n",
    "dict_2classes['Recon-PortScan'] = 'Attack'\n",
    "dict_2classes['VulnerabilityScan'] = 'Attack'\n",
    "dict_2classes['Recon-HostDiscovery'] = 'Attack'\n",
    "\n",
    "dict_2classes['DNS_Spoofing'] = 'Attack'\n",
    "dict_2classes['MITM-ArpSpoofing'] = 'Attack'\n",
    "\n",
    "dict_2classes['BenignTraffic'] = 'Benign'\n",
    "\n",
    "dict_2classes['BrowserHijacking'] = 'Attack'\n",
    "dict_2classes['Backdoor_Malware'] = 'Attack'\n",
    "dict_2classes['XSS'] = 'Attack'\n",
    "dict_2classes['Uploading_Attack'] = 'Attack'\n",
    "dict_2classes['SqlInjection'] = 'Attack'\n",
    "dict_2classes['CommandInjection'] = 'Attack'\n",
    "\n",
    "dict_2classes['DictionaryBruteForce'] = 'Attack'"
   ]
  },
  {
   "cell_type": "code",
   "execution_count": 6,
   "id": "354bf5b6",
   "metadata": {
    "execution": {
     "iopub.execute_input": "2024-03-19T14:41:40.081978Z",
     "iopub.status.busy": "2024-03-19T14:41:40.081593Z",
     "iopub.status.idle": "2024-03-19T15:36:48.486877Z",
     "shell.execute_reply": "2024-03-19T15:36:48.485420Z"
    },
    "papermill": {
     "duration": 3308.421545,
     "end_time": "2024-03-19T15:36:48.496846",
     "exception": false,
     "start_time": "2024-03-19T14:41:40.075301",
     "status": "completed"
    },
    "tags": []
   },
   "outputs": [
    {
     "name": "stderr",
     "output_type": "stream",
     "text": [
      "100%|██████████| 113/113 [55:08<00:00, 29.28s/it]\n"
     ]
    }
   ],
   "source": [
    "ML_models = [ # Adjust num_classes as per your requirement\n",
    "        LogisticRegression(),\n",
    "        RandomForestClassifier(n_estimators=50,random_state=42,class_weight='balanced'),\n",
    "        XGBClassifier(n_estimators=50)\n",
    "        ]\n",
    "\n",
    "ML_names = [\n",
    "        \"Logistic Regression\",\n",
    "        \"Random Forest\",\n",
    "        \"XG BOOST\"\n",
    "]\n",
    "\n",
    "for train_set in tqdm(training_sets):\n",
    "        d = pd.read_csv(DATASET_DIRECTORY + train_set)\n",
    "        d[X_columns] = scaler.fit_transform(d[X_columns])\n",
    "        new_y = [dict_2classes[k] for k in d[y_column]]\n",
    "        d[y_column] = new_y\n",
    "        X_train = d[X_columns].values\n",
    "        y_train = d[y_column].values\n",
    "        from sklearn.preprocessing import LabelEncoder\n",
    "        label_encoder = LabelEncoder()\n",
    "        y_train_encoded = label_encoder.fit_transform(y_train)\n",
    "        for model in ML_models:\n",
    "                    model.fit(X_train, y_train_encoded)\n",
    "        del d"
   ]
  },
  {
   "cell_type": "code",
   "execution_count": 7,
   "id": "b302f918",
   "metadata": {
    "execution": {
     "iopub.execute_input": "2024-03-19T15:36:48.532902Z",
     "iopub.status.busy": "2024-03-19T15:36:48.532071Z",
     "iopub.status.idle": "2024-03-19T15:36:48.537857Z",
     "shell.execute_reply": "2024-03-19T15:36:48.536871Z"
    },
    "papermill": {
     "duration": 0.026764,
     "end_time": "2024-03-19T15:36:48.540265",
     "exception": false,
     "start_time": "2024-03-19T15:36:48.513501",
     "status": "completed"
    },
    "tags": []
   },
   "outputs": [],
   "source": [
    "original_labels=[\"Attack\",\"Benign\"]"
   ]
  },
  {
   "cell_type": "code",
   "execution_count": 8,
   "id": "7fb9c9fb",
   "metadata": {
    "execution": {
     "iopub.execute_input": "2024-03-19T15:36:48.573816Z",
     "iopub.status.busy": "2024-03-19T15:36:48.573315Z",
     "iopub.status.idle": "2024-03-19T15:43:13.074760Z",
     "shell.execute_reply": "2024-03-19T15:43:13.072804Z"
    },
    "papermill": {
     "duration": 384.521155,
     "end_time": "2024-03-19T15:43:13.077236",
     "exception": false,
     "start_time": "2024-03-19T15:36:48.556081",
     "status": "completed"
    },
    "tags": []
   },
   "outputs": [
    {
     "name": "stderr",
     "output_type": "stream",
     "text": [
      "100%|██████████| 56/56 [06:24<00:00,  6.87s/it]\n"
     ]
    }
   ],
   "source": [
    "from sklearn.metrics import confusion_matrix\n",
    "from sklearn import metrics\n",
    "import matplotlib.pyplot as plt\n",
    "y_test = []\n",
    "preds = {i:[] for i in range(len(ML_models))}\n",
    "for test_set in tqdm(test_sets):\n",
    "    d_test = pd.read_csv(DATASET_DIRECTORY + test_set)\n",
    "    d_test[X_columns] = scaler.fit_transform(d_test[X_columns])\n",
    "    new_y = [dict_2classes[k] for k in d_test[y_column]]\n",
    "    d_test[y_column] = new_y\n",
    "\n",
    "    y_test += list(d_test[y_column].values)\n",
    "    \n",
    "    \n",
    "    for i in range(len(ML_models)):\n",
    "        model = ML_models[i]\n",
    "        y_pred = list(model.predict(d_test[X_columns]))\n",
    "        preds[i] = preds[i] + y_pred\n",
    "        del y_pred\n",
    "del d_test"
   ]
  },
  {
   "cell_type": "code",
   "execution_count": 9,
   "id": "9604a03c",
   "metadata": {
    "execution": {
     "iopub.execute_input": "2024-03-19T15:43:13.122927Z",
     "iopub.status.busy": "2024-03-19T15:43:13.122523Z",
     "iopub.status.idle": "2024-03-19T16:24:39.420746Z",
     "shell.execute_reply": "2024-03-19T16:24:39.419196Z"
    },
    "papermill": {
     "duration": 2486.348652,
     "end_time": "2024-03-19T16:24:39.447472",
     "exception": false,
     "start_time": "2024-03-19T15:43:13.098820",
     "status": "completed"
    },
    "tags": []
   },
   "outputs": [
    {
     "name": "stdout",
     "output_type": "stream",
     "text": [
      "\n",
      "Confusion Matrix for Logistic Regression:\n",
      "\n"
     ]
    },
    {
     "data": {
      "image/png": "[encoded data removed]",
      "text/plain": [
       "<Figure size 640x480 with 2 Axes>"
      ]
     },
     "metadata": {},
     "output_type": "display_data"
    },
    {
     "name": "stdout",
     "output_type": "stream",
     "text": [
      "transfered\n",
      "Logistic Regression\n",
      "              precision    recall  f1-score   support\n",
      "\n",
      "      Attack       0.99      0.99      0.99  16072228\n",
      "      Benign       0.73      0.76      0.74    387031\n",
      "\n",
      "    accuracy                           0.99  16459259\n",
      "   macro avg       0.86      0.88      0.87  16459259\n",
      "weighted avg       0.99      0.99      0.99  16459259\n",
      "\n",
      "accuracy_score:  0.9876909404001724\n",
      "recall_score:  0.8603799384337592\n",
      "precision_score:  0.8787232626795806\n",
      "f1_score:  0.8693100563617961\n",
      "\n",
      "Confusion Matrix for Random Forest:\n",
      "\n"
     ]
    },
    {
     "data": {
      "image/png": "[encoded data removed]",
      "text/plain": [
       "<Figure size 640x480 with 2 Axes>"
      ]
     },
     "metadata": {},
     "output_type": "display_data"
    },
    {
     "name": "stdout",
     "output_type": "stream",
     "text": [
      "transfered\n",
      "Random Forest\n",
      "              precision    recall  f1-score   support\n",
      "\n",
      "      Attack       0.99      1.00      1.00  16072228\n",
      "      Benign       0.91      0.78      0.84    387031\n",
      "\n",
      "    accuracy                           0.99  16459259\n",
      "   macro avg       0.95      0.89      0.92  16459259\n",
      "weighted avg       0.99      0.99      0.99  16459259\n",
      "\n",
      "accuracy_score:  0.9930533324738374\n",
      "recall_score:  0.9530474675409002\n",
      "precision_score:  0.889329966077903\n",
      "f1_score:  0.9186562421576918\n",
      "\n",
      "Confusion Matrix for XG BOOST:\n",
      "\n"
     ]
    },
    {
     "data": {
      "image/png": "[encoded data removed]",
      "text/plain": [
       "<Figure size 640x480 with 2 Axes>"
      ]
     },
     "metadata": {},
     "output_type": "display_data"
    },
    {
     "name": "stdout",
     "output_type": "stream",
     "text": [
      "transfered\n",
      "XG BOOST\n",
      "              precision    recall  f1-score   support\n",
      "\n",
      "      Attack       1.00      1.00      1.00  16072228\n",
      "      Benign       0.89      0.91      0.90    387031\n",
      "\n",
      "    accuracy                           1.00  16459259\n",
      "   macro avg       0.94      0.95      0.95  16459259\n",
      "weighted avg       1.00      1.00      1.00  16459259\n",
      "\n",
      "accuracy_score:  0.9951094396169353\n",
      "recall_score:  0.9418136807438451\n",
      "precision_score:  0.9531997100469933\n",
      "f1_score:  0.9474303390766751\n"
     ]
    }
   ],
   "source": [
    "from sklearn.metrics import accuracy_score, recall_score, precision_score, f1_score\n",
    "from sklearn.metrics import classification_report\n",
    "for k,v in preds.items():\n",
    "    y_pred = v\n",
    "    label_encoder.fit(original_labels)\n",
    "    y_pred = label_encoder.inverse_transform(y_pred)\n",
    "    print(f\"\\nConfusion Matrix for {ML_names[k]}:\\n\")\n",
    "    from sklearn.metrics import ConfusionMatrixDisplay\n",
    "    ConfusionMatrixDisplay.from_predictions(y_test, y_pred)\n",
    "    plt.show()\n",
    "    print(\"transfered\")    \n",
    "    print(f\"{ML_names[k]}\")\n",
    "    print(classification_report(y_test,y_pred))\n",
    "    print('accuracy_score: ', accuracy_score(y_pred, y_test))\n",
    "    print('recall_score: ', recall_score(y_pred, y_test, average='macro'))\n",
    "    print('precision_score: ', precision_score(y_pred, y_test, average='macro'))\n",
    "    print('f1_score: ', f1_score(y_pred, y_test, average='macro'))"
   ]
  },
  {
   "cell_type": "code",
   "execution_count": 10,
   "id": "b92d0d76",
   "metadata": {
    "execution": {
     "iopub.execute_input": "2024-03-19T16:24:39.500669Z",
     "iopub.status.busy": "2024-03-19T16:24:39.499417Z",
     "iopub.status.idle": "2024-03-19T16:24:39.524331Z",
     "shell.execute_reply": "2024-03-19T16:24:39.523316Z"
    },
    "papermill": {
     "duration": 0.055978,
     "end_time": "2024-03-19T16:24:39.527803",
     "exception": false,
     "start_time": "2024-03-19T16:24:39.471825",
     "status": "completed"
    },
    "tags": []
   },
   "outputs": [],
   "source": [
    "for i in range(len(ML_models)):\n",
    "    model = ML_models[i]\n",
    "    import pickle\n",
    "    with open('/kaggle/working/'+ML_names[i]+'.pkl', 'wb') as f:\n",
    "        pickle.dump(model, f)"
   ]
  },
  {
   "cell_type": "code",
   "execution_count": null,
   "id": "240dcde0",
   "metadata": {
    "papermill": {
     "duration": 0.02431,
     "end_time": "2024-03-19T16:24:39.577890",
     "exception": false,
     "start_time": "2024-03-19T16:24:39.553580",
     "status": "completed"
    },
    "tags": []
   },
   "outputs": [],
   "source": []
  }
 ],
 "metadata": {
  "kaggle": {
   "accelerator": "none",
   "dataSources": [
    {
     "datasetId": 3706998,
     "sourceId": 6425404,
     "sourceType": "datasetVersion"
    }
   ],
   "dockerImageVersionId": 30664,
   "isGpuEnabled": false,
   "isInternetEnabled": true,
   "language": "python",
   "sourceType": "notebook"
  },
  "kernelspec": {
   "display_name": "Python 3",
   "language": "python",
   "name": "python3"
  },
  "language_info": {
   "codemirror_mode": {
    "name": "ipython",
    "version": 3
   },
   "file_extension": ".py",
   "mimetype": "text/x-python",
   "name": "python",
   "nbconvert_exporter": "python",
   "pygments_lexer": "ipython3",
   "version": "3.10.13"
  },
  "papermill": {
   "default_parameters": {},
   "duration": 6188.583977,
   "end_time": "2024-03-19T16:24:42.341664",
   "environment_variables": {},
   "exception": null,
   "input_path": "__notebook__.ipynb",
   "output_path": "__notebook__.ipynb",
   "parameters": {},
   "start_time": "2024-03-19T14:41:33.757687",
   "version": "2.5.0"
  }
 },
 "nbformat": 4,
 "nbformat_minor": 5
}
